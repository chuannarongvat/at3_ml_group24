{
 "cells": [
  {
   "cell_type": "markdown",
   "id": "9288c8b6-1e8a-4983-bdfa-d890e5faa453",
   "metadata": {
    "tags": []
   },
   "source": [
    "<h1 style=\"text-align: center\"> Assignment 3: Helping Customer Support team to reach out to customers with abnormal behaviors from their usual spending patterns </h1>"
   ]
  },
  {
   "cell_type": "markdown",
   "id": "07eb250f-28a8-442a-8ec6-a7ac399cbb35",
   "metadata": {},
   "source": [
    "### Savinay Singh \n",
    "### Student ID: <b><u>24591935</u></b>\n",
    "### 26 May 2023"
   ]
  },
  {
   "cell_type": "markdown",
   "id": "c7381e81-7e30-4df0-937d-9b9e750dd0c3",
   "metadata": {},
   "source": [
    "\n",
    "<p style=\"font-size:18px;\">Table of Content\n",
    "<ol>  TO BE COMPLETED\n",
    "    <li>Importing the libraries</li>\n",
    "    <li>Importing the datasets</li>\n",
    "    <li>Check for missing values</li>\n",
    "    <li>Merging the datasets</li>\n",
    "    <li>Data Preprocessing</li>\n",
    "        <ul>\n",
    "            <li>Handling the missing data</li>\n",
    "            <li>Filtering out categorical variables</li>\n",
    "        </ul>\n",
    "    <li>Feature Selection</li>\n",
    "    <li>Data Visualisation</li>\n",
    "         <ul>\n",
    "            <li>PctPublicCoverageAlone</li>\n",
    "            <li>povertyPercents</li>\n",
    "        </ul>\n",
    "    <li>Modelling for PctPublicCoverageAlone</li>\n",
    "        <ul>\n",
    "            <li>Train-Validation Split</li>\n",
    "            <li>Simple Linear Regression Model</li>\n",
    "            <li>Checking Training MSE</li>\n",
    "            <li>Checking Validation MSE</li>\n",
    "            <li>Checking Testing MSE</li>\n",
    "            <li>Comparison of Results between train, test and validation sets</li>\n",
    "            <li>Plot between TARGET_deathRate and PctPublicCoverageAlone for actual and predicted data</li>\n",
    "        </ul>\n",
    "    <li>Modelling for povertyPercent</li>\n",
    "        <ul>\n",
    "            <li>Train-Validation Split</li>\n",
    "            <li>Simple Linear Regression Model</li>\n",
    "            <li>Checking Training MSE</li>\n",
    "            <li>Checking Validation MSE</li>\n",
    "            <li>Checking Testing MSE</li>\n",
    "            <li>Comparison of Results between train, test and validation sets</li>\n",
    "            <li>Plot between TARGET_deathRate and povertyPercent for actual and predicted data</li>\n",
    "        </ul>\n",
    "</ol>\n",
    "</p>"
   ]
  },
  {
   "cell_type": "markdown",
   "id": "3ddcd29b-e648-499f-b59c-520ee75b59ec",
   "metadata": {
    "tags": []
   },
   "source": [
    "# 1. Importing the libraries"
   ]
  },
  {
   "cell_type": "markdown",
   "id": "1139ccb0-5435-4bb2-99c8-45d711644e7c",
   "metadata": {},
   "source": [
    "<p style=\"font-size:18px;\">\n",
    "    To utilise the pre-written code and functionality the libraries given below are imported. \n",
    "</p>"
   ]
  },
  {
   "cell_type": "code",
   "execution_count": 93,
   "id": "16c128fb-4d6c-417f-8dce-769e909e2616",
   "metadata": {},
   "outputs": [],
   "source": [
    "import pandas as pd\n",
    "import glob\n",
    "import matplotlib.pyplot as plt\n",
    "from sklearn.preprocessing import LabelEncoder\n",
    "from sklearn.ensemble import IsolationForest\n",
    "from sklearn.metrics import accuracy_score\n",
    "from sklearn.metrics import classification_report\n",
    "from datetime import datetime\n",
    "from sklearn.neighbors import LocalOutlierFactor\n",
    "from sklearn.model_selection import train_test_split\n",
    "from imblearn.over_sampling import SMOTE\n",
    "import xgboost as xgb\n",
    "from sklearn.preprocessing import StandardScaler\n",
    "from sklearn.svm import OneClassSVM\n",
    "from sklearn.cluster import DBSCAN\n",
    "from sklearn.datasets import make_moons\n",
    "import numpy as np"
   ]
  },
  {
   "cell_type": "markdown",
   "id": "8a4dd412-001a-47f8-8c72-53ae1d15d99a",
   "metadata": {
    "tags": []
   },
   "source": [
    "# 2. Importing the datasets"
   ]
  },
  {
   "cell_type": "code",
   "execution_count": 3,
   "id": "5c32baaa-aa9e-4919-91ed-8b0fce59bc7b",
   "metadata": {},
   "outputs": [],
   "source": [
    "csv_files = glob.glob(\"./transactions/*.csv\")\n",
    "df_transactions=pd.DataFrame()\n",
    "for file in csv_files:\n",
    "    df_transactions=pd.concat([df_transactions, pd.read_csv(file,sep='|')], ignore_index=True)"
   ]
  },
  {
   "cell_type": "markdown",
   "id": "30f48e17-182e-4f2e-b9c7-7231e959ce74",
   "metadata": {},
   "source": [
    "<pre style=\"font-size:18px;\">\n",
    "<u>Dataset Column dictionary for df_transactions</u>\n",
    "cc_num: Credit card number associated with the transaction.\n",
    "acct_num: Account number associated with the transaction.\n",
    "trans_num: Unique identifier for the transaction.\n",
    "unix_time: Unix timestamp indicating the time of the transaction.\n",
    "category: Category or type of transaction (e.g., gas_transport).\n",
    "amt: Amount of the transaction.\n",
    "is_fraud: Binary flag indicating whether the transaction is classified as fraud (1) or not (0).\n",
    "merchant: Name of the merchant involved in the transaction.\n",
    "merch_lat: Latitude coordinate of the merchant's location.\n",
    "merch_long: Longitude coordinate of the merchant's location.\n",
    "</pre>"
   ]
  },
  {
   "cell_type": "code",
   "execution_count": 4,
   "id": "9cf62d33-46f6-45e1-af8c-27c6095edfc1",
   "metadata": {},
   "outputs": [
    {
     "data": {
      "text/html": [
       "<div>\n",
       "<style scoped>\n",
       "    .dataframe tbody tr th:only-of-type {\n",
       "        vertical-align: middle;\n",
       "    }\n",
       "\n",
       "    .dataframe tbody tr th {\n",
       "        vertical-align: top;\n",
       "    }\n",
       "\n",
       "    .dataframe thead th {\n",
       "        text-align: right;\n",
       "    }\n",
       "</style>\n",
       "<table border=\"1\" class=\"dataframe\">\n",
       "  <thead>\n",
       "    <tr style=\"text-align: right;\">\n",
       "      <th></th>\n",
       "      <th>cc_num</th>\n",
       "      <th>acct_num</th>\n",
       "      <th>trans_num</th>\n",
       "      <th>unix_time</th>\n",
       "      <th>category</th>\n",
       "      <th>amt</th>\n",
       "      <th>is_fraud</th>\n",
       "      <th>merchant</th>\n",
       "      <th>merch_lat</th>\n",
       "      <th>merch_long</th>\n",
       "    </tr>\n",
       "  </thead>\n",
       "  <tbody>\n",
       "    <tr>\n",
       "      <th>0</th>\n",
       "      <td>4896331812335761701</td>\n",
       "      <td>149852234418</td>\n",
       "      <td>f3ec0819590302134f03ffdc2f44697f</td>\n",
       "      <td>1646060228</td>\n",
       "      <td>gas_transport</td>\n",
       "      <td>65.17</td>\n",
       "      <td>0</td>\n",
       "      <td>Larson, Ryan and Huang</td>\n",
       "      <td>38.143430</td>\n",
       "      <td>-90.327335</td>\n",
       "    </tr>\n",
       "    <tr>\n",
       "      <th>1</th>\n",
       "      <td>4896331812335761701</td>\n",
       "      <td>149852234418</td>\n",
       "      <td>c1607c993e41f2c3b42d72d1506bef7b</td>\n",
       "      <td>1644848624</td>\n",
       "      <td>gas_transport</td>\n",
       "      <td>47.58</td>\n",
       "      <td>0</td>\n",
       "      <td>Myers-Reed</td>\n",
       "      <td>39.119498</td>\n",
       "      <td>-90.760379</td>\n",
       "    </tr>\n",
       "    <tr>\n",
       "      <th>2</th>\n",
       "      <td>4896331812335761701</td>\n",
       "      <td>149852234418</td>\n",
       "      <td>6f530db25d20fe351249a54491fd3fde</td>\n",
       "      <td>1645632153</td>\n",
       "      <td>gas_transport</td>\n",
       "      <td>64.43</td>\n",
       "      <td>0</td>\n",
       "      <td>Baker-Bullock</td>\n",
       "      <td>39.384368</td>\n",
       "      <td>-90.361517</td>\n",
       "    </tr>\n",
       "    <tr>\n",
       "      <th>3</th>\n",
       "      <td>4896331812335761701</td>\n",
       "      <td>149852234418</td>\n",
       "      <td>6d11805f2acd938fec99376001afafe8</td>\n",
       "      <td>1645311286</td>\n",
       "      <td>gas_transport</td>\n",
       "      <td>82.47</td>\n",
       "      <td>0</td>\n",
       "      <td>Spencer-Hall</td>\n",
       "      <td>39.443567</td>\n",
       "      <td>-89.752400</td>\n",
       "    </tr>\n",
       "    <tr>\n",
       "      <th>4</th>\n",
       "      <td>4896331812335761701</td>\n",
       "      <td>149852234418</td>\n",
       "      <td>605342f297c575cb1ccf2c08cad082ee</td>\n",
       "      <td>1641571926</td>\n",
       "      <td>gas_transport</td>\n",
       "      <td>50.28</td>\n",
       "      <td>0</td>\n",
       "      <td>King, Rodriguez and Hancock</td>\n",
       "      <td>38.857278</td>\n",
       "      <td>-89.609525</td>\n",
       "    </tr>\n",
       "  </tbody>\n",
       "</table>\n",
       "</div>"
      ],
      "text/plain": [
       "                cc_num      acct_num                         trans_num  \\\n",
       "0  4896331812335761701  149852234418  f3ec0819590302134f03ffdc2f44697f   \n",
       "1  4896331812335761701  149852234418  c1607c993e41f2c3b42d72d1506bef7b   \n",
       "2  4896331812335761701  149852234418  6f530db25d20fe351249a54491fd3fde   \n",
       "3  4896331812335761701  149852234418  6d11805f2acd938fec99376001afafe8   \n",
       "4  4896331812335761701  149852234418  605342f297c575cb1ccf2c08cad082ee   \n",
       "\n",
       "    unix_time       category    amt is_fraud                     merchant  \\\n",
       "0  1646060228  gas_transport  65.17        0       Larson, Ryan and Huang   \n",
       "1  1644848624  gas_transport  47.58        0                   Myers-Reed   \n",
       "2  1645632153  gas_transport  64.43        0                Baker-Bullock   \n",
       "3  1645311286  gas_transport  82.47        0                 Spencer-Hall   \n",
       "4  1641571926  gas_transport  50.28        0  King, Rodriguez and Hancock   \n",
       "\n",
       "   merch_lat  merch_long  \n",
       "0  38.143430  -90.327335  \n",
       "1  39.119498  -90.760379  \n",
       "2  39.384368  -90.361517  \n",
       "3  39.443567  -89.752400  \n",
       "4  38.857278  -89.609525  "
      ]
     },
     "execution_count": 4,
     "metadata": {},
     "output_type": "execute_result"
    }
   ],
   "source": [
    "df_transactions.head(5)"
   ]
  },
  {
   "cell_type": "code",
   "execution_count": 5,
   "id": "d155ae89-a445-41a9-999f-7f14e137e5d5",
   "metadata": {},
   "outputs": [],
   "source": [
    "df_customers=pd.read_csv('./customer/customers.csv',sep='|')"
   ]
  },
  {
   "cell_type": "markdown",
   "id": "cfe4e593-e7f0-4f23-9ab5-4d0015b7f295",
   "metadata": {
    "tags": []
   },
   "source": [
    "<pre style=\"font-size:18px;\">\n",
    "<u>Dataset Column dictionary for df_customers</u>\n",
    "ssn: Social Security Number of the individual.\n",
    "cc_num: Credit card number associated with the individual.\n",
    "first: First name of the individual.\n",
    "last: Last name of the individual.\n",
    "gender: Gender of the individual.\n",
    "street: Street address of the individual.\n",
    "city: City of residence of the individual.\n",
    "state: State of residence of the individual.\n",
    "zip: ZIP code of the individual's address.\n",
    "lat: Latitude coordinate of the individual's address.\n",
    "long: Longitude coordinate of the individual's address.\n",
    "city_pop: Population of the city.\n",
    "job: Occupation or job title of the individual.\n",
    "dob: Date of birth of the individual.\n",
    "acct_num: Account number associated with the individual.\n",
    "</pre>"
   ]
  },
  {
   "cell_type": "code",
   "execution_count": 6,
   "id": "9a2b5340-29a2-48d5-ab15-0cb247792e8f",
   "metadata": {},
   "outputs": [
    {
     "data": {
      "text/html": [
       "<div>\n",
       "<style scoped>\n",
       "    .dataframe tbody tr th:only-of-type {\n",
       "        vertical-align: middle;\n",
       "    }\n",
       "\n",
       "    .dataframe tbody tr th {\n",
       "        vertical-align: top;\n",
       "    }\n",
       "\n",
       "    .dataframe thead th {\n",
       "        text-align: right;\n",
       "    }\n",
       "</style>\n",
       "<table border=\"1\" class=\"dataframe\">\n",
       "  <thead>\n",
       "    <tr style=\"text-align: right;\">\n",
       "      <th></th>\n",
       "      <th>ssn</th>\n",
       "      <th>cc_num</th>\n",
       "      <th>first</th>\n",
       "      <th>last</th>\n",
       "      <th>gender</th>\n",
       "      <th>street</th>\n",
       "      <th>city</th>\n",
       "      <th>state</th>\n",
       "      <th>zip</th>\n",
       "      <th>lat</th>\n",
       "      <th>long</th>\n",
       "      <th>city_pop</th>\n",
       "      <th>job</th>\n",
       "      <th>dob</th>\n",
       "      <th>acct_num</th>\n",
       "    </tr>\n",
       "  </thead>\n",
       "  <tbody>\n",
       "    <tr>\n",
       "      <th>0</th>\n",
       "      <td>115-04-4507</td>\n",
       "      <td>4218196001337</td>\n",
       "      <td>Jonathan</td>\n",
       "      <td>Johnson</td>\n",
       "      <td>M</td>\n",
       "      <td>863 Lawrence Valleys</td>\n",
       "      <td>Ambler</td>\n",
       "      <td>PA</td>\n",
       "      <td>19002</td>\n",
       "      <td>40.1809</td>\n",
       "      <td>-75.2156</td>\n",
       "      <td>32412</td>\n",
       "      <td>Accounting technician</td>\n",
       "      <td>1959-10-03</td>\n",
       "      <td>888022315787</td>\n",
       "    </tr>\n",
       "    <tr>\n",
       "      <th>1</th>\n",
       "      <td>715-55-5575</td>\n",
       "      <td>4351161559407816183</td>\n",
       "      <td>Elaine</td>\n",
       "      <td>Fuller</td>\n",
       "      <td>F</td>\n",
       "      <td>310 Kendra Common Apt. 164</td>\n",
       "      <td>Leland</td>\n",
       "      <td>NC</td>\n",
       "      <td>28451</td>\n",
       "      <td>34.2680</td>\n",
       "      <td>-78.0578</td>\n",
       "      <td>27112</td>\n",
       "      <td>Professor Emeritus</td>\n",
       "      <td>1963-06-07</td>\n",
       "      <td>917558277935</td>\n",
       "    </tr>\n",
       "    <tr>\n",
       "      <th>2</th>\n",
       "      <td>167-48-5821</td>\n",
       "      <td>4192832764832</td>\n",
       "      <td>Michael</td>\n",
       "      <td>Cameron</td>\n",
       "      <td>M</td>\n",
       "      <td>05641 Robin Port</td>\n",
       "      <td>Cordova</td>\n",
       "      <td>SC</td>\n",
       "      <td>29039</td>\n",
       "      <td>33.4275</td>\n",
       "      <td>-80.8857</td>\n",
       "      <td>4215</td>\n",
       "      <td>International aid/development worker</td>\n",
       "      <td>1973-05-30</td>\n",
       "      <td>718172762479</td>\n",
       "    </tr>\n",
       "    <tr>\n",
       "      <th>3</th>\n",
       "      <td>406-83-7518</td>\n",
       "      <td>4238849696532874</td>\n",
       "      <td>Brandon</td>\n",
       "      <td>Williams</td>\n",
       "      <td>M</td>\n",
       "      <td>26916 Carlson Mountain</td>\n",
       "      <td>Birmingham</td>\n",
       "      <td>AL</td>\n",
       "      <td>35242</td>\n",
       "      <td>33.3813</td>\n",
       "      <td>-86.7046</td>\n",
       "      <td>493806</td>\n",
       "      <td>Seismic interpreter</td>\n",
       "      <td>1942-12-26</td>\n",
       "      <td>947268892251</td>\n",
       "    </tr>\n",
       "    <tr>\n",
       "      <th>4</th>\n",
       "      <td>697-93-1877</td>\n",
       "      <td>4514627048281480</td>\n",
       "      <td>Lisa</td>\n",
       "      <td>Hernandez</td>\n",
       "      <td>F</td>\n",
       "      <td>809 Burns Creek</td>\n",
       "      <td>Fargo</td>\n",
       "      <td>GA</td>\n",
       "      <td>31631</td>\n",
       "      <td>30.7166</td>\n",
       "      <td>-82.5801</td>\n",
       "      <td>559</td>\n",
       "      <td>Medical laboratory scientific officer</td>\n",
       "      <td>1939-05-22</td>\n",
       "      <td>888335239225</td>\n",
       "    </tr>\n",
       "  </tbody>\n",
       "</table>\n",
       "</div>"
      ],
      "text/plain": [
       "           ssn               cc_num     first       last gender  \\\n",
       "0  115-04-4507        4218196001337  Jonathan    Johnson      M   \n",
       "1  715-55-5575  4351161559407816183    Elaine     Fuller      F   \n",
       "2  167-48-5821        4192832764832   Michael    Cameron      M   \n",
       "3  406-83-7518     4238849696532874   Brandon   Williams      M   \n",
       "4  697-93-1877     4514627048281480      Lisa  Hernandez      F   \n",
       "\n",
       "                       street        city state    zip      lat     long  \\\n",
       "0        863 Lawrence Valleys      Ambler    PA  19002  40.1809 -75.2156   \n",
       "1  310 Kendra Common Apt. 164      Leland    NC  28451  34.2680 -78.0578   \n",
       "2            05641 Robin Port     Cordova    SC  29039  33.4275 -80.8857   \n",
       "3      26916 Carlson Mountain  Birmingham    AL  35242  33.3813 -86.7046   \n",
       "4             809 Burns Creek       Fargo    GA  31631  30.7166 -82.5801   \n",
       "\n",
       "   city_pop                                    job         dob      acct_num  \n",
       "0     32412                  Accounting technician  1959-10-03  888022315787  \n",
       "1     27112                     Professor Emeritus  1963-06-07  917558277935  \n",
       "2      4215   International aid/development worker  1973-05-30  718172762479  \n",
       "3    493806                    Seismic interpreter  1942-12-26  947268892251  \n",
       "4       559  Medical laboratory scientific officer  1939-05-22  888335239225  "
      ]
     },
     "execution_count": 6,
     "metadata": {},
     "output_type": "execute_result"
    }
   ],
   "source": [
    "df_customers.head(5)"
   ]
  },
  {
   "cell_type": "markdown",
   "id": "794bebad-3bb6-4f47-bd31-ff83aa2881e0",
   "metadata": {
    "tags": []
   },
   "source": [
    "# 3. Check for missing values"
   ]
  },
  {
   "cell_type": "markdown",
   "id": "ea21bbfd-d720-4600-bdcc-a0a3624a88ff",
   "metadata": {},
   "source": [
    "<p style=\"font-size:18px;\">\n",
    "    The bar plot below shows that there is no missing values in df_transactions and df_customers dataset\n",
    "</p>"
   ]
  },
  {
   "cell_type": "code",
   "execution_count": 7,
   "id": "f9cfcc0c-c5d8-40ea-a370-400a30237ba2",
   "metadata": {},
   "outputs": [
    {
     "data": {
      "text/plain": [
       "<BarContainer object of 15 artists>"
      ]
     },
     "execution_count": 7,
     "metadata": {},
     "output_type": "execute_result"
    },
    {
     "data": {
      "image/png": "[encoded data removed]",
      "text/plain": [
       "<Figure size 640x480 with 1 Axes>"
      ]
     },
     "metadata": {},
     "output_type": "display_data"
    }
   ],
   "source": [
    "plt.xticks(rotation=90)\n",
    "plt.xlabel('Features')\n",
    "plt.ylabel('Number of missing values')\n",
    "plt.title('Missing Value Plot')\n",
    "plt.bar(df_customers.isna().sum().index,df_customers.isna().sum().values)"
   ]
  },
  {
   "cell_type": "code",
   "execution_count": 8,
   "id": "dd6d36b4-9b27-4d63-8e93-a8dec19ef1a6",
   "metadata": {
    "tags": []
   },
   "outputs": [
    {
     "data": {
      "text/plain": [
       "<BarContainer object of 10 artists>"
      ]
     },
     "execution_count": 8,
     "metadata": {},
     "output_type": "execute_result"
    },
    {
     "data": {
      "image/png": "[encoded data removed]",
      "text/plain": [
       "<Figure size 640x480 with 1 Axes>"
      ]
     },
     "metadata": {},
     "output_type": "display_data"
    }
   ],
   "source": [
    "plt.xticks(rotation=90)\n",
    "plt.xlabel('Features')\n",
    "plt.ylabel('Number of missing values')\n",
    "plt.title('Missing Value Plot')\n",
    "plt.bar(df_transactions.isna().sum().index,df_transactions.isna().sum().values)"
   ]
  },
  {
   "cell_type": "markdown",
   "id": "93f0796e-d9c5-407d-8a5a-8a0d11a1fb68",
   "metadata": {
    "tags": []
   },
   "source": [
    "# 4. Merging the datasets"
   ]
  },
  {
   "cell_type": "markdown",
   "id": "8c18fa6d-0152-4c63-b3f3-5f98249b8f5a",
   "metadata": {
    "tags": []
   },
   "source": [
    "<p style=\"font-size:18px;\"> Both cc_num and acct_num can act as primary key to join these datasets. Conceptually, there can be multiple credit cards affiliated to one account and not the other way around. This hypothesis can be verified by checking if the cc_num has a many-to-one relationship with acct_num or not\n",
    "\n",
    "</p>"
   ]
  },
  {
   "cell_type": "code",
   "execution_count": 9,
   "id": "8c787c1d-c6b9-4e65-959c-d89265a1b09c",
   "metadata": {},
   "outputs": [
    {
     "name": "stdout",
     "output_type": "stream",
     "text": [
      "The columns 'cc_num' and 'acct_num' have a one-to-one relationship.\n"
     ]
    }
   ],
   "source": [
    "# Check for one-to-one relationship\n",
    "one_to_one = len(df_customers.groupby(['cc_num', 'acct_num'])) == df_customers['cc_num'].nunique() == df_customers[ 'acct_num'].nunique()\n",
    "\n",
    "if one_to_one:\n",
    "    print(f\"The columns 'cc_num' and 'acct_num' have a one-to-one relationship.\")\n",
    "else:\n",
    "    print(f\"The columns 'cc_num' and 'acct_num' do not have a one-to-one relationship.\")"
   ]
  },
  {
   "cell_type": "code",
   "execution_count": 10,
   "id": "fd6424ce-0c27-4aa4-8fc4-e8c41d26457d",
   "metadata": {},
   "outputs": [
    {
     "name": "stdout",
     "output_type": "stream",
     "text": [
      "The columns 'cc_num' and 'acct_num' have a one-to-one relationship.\n"
     ]
    }
   ],
   "source": [
    "# Check for one-to-one relationship\n",
    "one_to_one = len(df_transactions.groupby(['cc_num', 'acct_num'])) == df_transactions['cc_num'].nunique() == df_transactions[ 'acct_num'].nunique()\n",
    "\n",
    "if one_to_one:\n",
    "    print(f\"The columns 'cc_num' and 'acct_num' have a one-to-one relationship.\")\n",
    "else:\n",
    "    print(f\"The columns 'cc_num' and 'acct_num' do not have a one-to-one relationship.\")"
   ]
  },
  {
   "cell_type": "markdown",
   "id": "a38bfefb-8cc4-4321-a311-437a18c50b62",
   "metadata": {
    "tags": []
   },
   "source": [
    "<p style=\"font-size:18px;\"> As cc_num and acct_num have a one-to-one relationship, they can both be used as a primary key for the left join. In order to align with real-world conventions, the cc_num is selected for this purpose in the actual dataset.\n",
    "</p>"
   ]
  },
  {
   "cell_type": "code",
   "execution_count": 11,
   "id": "2faab614-5843-4f61-ba4e-ebffabb00f54",
   "metadata": {},
   "outputs": [],
   "source": [
    "df_merged=pd.merge(df_transactions,df_customers,on='cc_num',how='left')"
   ]
  },
  {
   "cell_type": "code",
   "execution_count": 12,
   "id": "452e34f6-7a1e-47c3-a69a-00f1562442fa",
   "metadata": {},
   "outputs": [],
   "source": [
    "df_merged=df_merged.drop('acct_num_y',axis=1)"
   ]
  },
  {
   "cell_type": "code",
   "execution_count": 13,
   "id": "eee932ab-483c-4bfa-b7e5-50de4b983f41",
   "metadata": {
    "tags": []
   },
   "outputs": [],
   "source": [
    "df_merged=df_merged.rename(columns={'acct_num_x':'acct_num'})"
   ]
  },
  {
   "cell_type": "markdown",
   "id": "a7c41400-41d1-41d2-bf7d-eab3ed1956a6",
   "metadata": {
    "tags": []
   },
   "source": [
    "# 5. Dataset Preparation"
   ]
  },
  {
   "cell_type": "code",
   "execution_count": 14,
   "id": "32e4a80a-4be7-40a8-a075-795db025d910",
   "metadata": {},
   "outputs": [
    {
     "data": {
      "text/html": [
       "<div>\n",
       "<style scoped>\n",
       "    .dataframe tbody tr th:only-of-type {\n",
       "        vertical-align: middle;\n",
       "    }\n",
       "\n",
       "    .dataframe tbody tr th {\n",
       "        vertical-align: top;\n",
       "    }\n",
       "\n",
       "    .dataframe thead th {\n",
       "        text-align: right;\n",
       "    }\n",
       "</style>\n",
       "<table border=\"1\" class=\"dataframe\">\n",
       "  <thead>\n",
       "    <tr style=\"text-align: right;\">\n",
       "      <th></th>\n",
       "      <th>cc_num</th>\n",
       "      <th>acct_num</th>\n",
       "      <th>trans_num</th>\n",
       "      <th>unix_time</th>\n",
       "      <th>category</th>\n",
       "      <th>amt</th>\n",
       "      <th>is_fraud</th>\n",
       "      <th>merchant</th>\n",
       "      <th>merch_lat</th>\n",
       "      <th>merch_long</th>\n",
       "      <th>...</th>\n",
       "      <th>gender</th>\n",
       "      <th>street</th>\n",
       "      <th>city</th>\n",
       "      <th>state</th>\n",
       "      <th>zip</th>\n",
       "      <th>lat</th>\n",
       "      <th>long</th>\n",
       "      <th>city_pop</th>\n",
       "      <th>job</th>\n",
       "      <th>dob</th>\n",
       "    </tr>\n",
       "  </thead>\n",
       "  <tbody>\n",
       "    <tr>\n",
       "      <th>0</th>\n",
       "      <td>4896331812335761701</td>\n",
       "      <td>149852234418</td>\n",
       "      <td>f3ec0819590302134f03ffdc2f44697f</td>\n",
       "      <td>1646060228</td>\n",
       "      <td>gas_transport</td>\n",
       "      <td>65.17</td>\n",
       "      <td>0</td>\n",
       "      <td>Larson, Ryan and Huang</td>\n",
       "      <td>38.143430</td>\n",
       "      <td>-90.327335</td>\n",
       "      <td>...</td>\n",
       "      <td>M</td>\n",
       "      <td>4457 Mercado Extensions</td>\n",
       "      <td>Brussels</td>\n",
       "      <td>IL</td>\n",
       "      <td>62013</td>\n",
       "      <td>38.9255</td>\n",
       "      <td>-90.5968</td>\n",
       "      <td>552</td>\n",
       "      <td>Patent attorney</td>\n",
       "      <td>2002-07-27</td>\n",
       "    </tr>\n",
       "    <tr>\n",
       "      <th>1</th>\n",
       "      <td>4896331812335761701</td>\n",
       "      <td>149852234418</td>\n",
       "      <td>c1607c993e41f2c3b42d72d1506bef7b</td>\n",
       "      <td>1644848624</td>\n",
       "      <td>gas_transport</td>\n",
       "      <td>47.58</td>\n",
       "      <td>0</td>\n",
       "      <td>Myers-Reed</td>\n",
       "      <td>39.119498</td>\n",
       "      <td>-90.760379</td>\n",
       "      <td>...</td>\n",
       "      <td>M</td>\n",
       "      <td>4457 Mercado Extensions</td>\n",
       "      <td>Brussels</td>\n",
       "      <td>IL</td>\n",
       "      <td>62013</td>\n",
       "      <td>38.9255</td>\n",
       "      <td>-90.5968</td>\n",
       "      <td>552</td>\n",
       "      <td>Patent attorney</td>\n",
       "      <td>2002-07-27</td>\n",
       "    </tr>\n",
       "    <tr>\n",
       "      <th>2</th>\n",
       "      <td>4896331812335761701</td>\n",
       "      <td>149852234418</td>\n",
       "      <td>6f530db25d20fe351249a54491fd3fde</td>\n",
       "      <td>1645632153</td>\n",
       "      <td>gas_transport</td>\n",
       "      <td>64.43</td>\n",
       "      <td>0</td>\n",
       "      <td>Baker-Bullock</td>\n",
       "      <td>39.384368</td>\n",
       "      <td>-90.361517</td>\n",
       "      <td>...</td>\n",
       "      <td>M</td>\n",
       "      <td>4457 Mercado Extensions</td>\n",
       "      <td>Brussels</td>\n",
       "      <td>IL</td>\n",
       "      <td>62013</td>\n",
       "      <td>38.9255</td>\n",
       "      <td>-90.5968</td>\n",
       "      <td>552</td>\n",
       "      <td>Patent attorney</td>\n",
       "      <td>2002-07-27</td>\n",
       "    </tr>\n",
       "    <tr>\n",
       "      <th>3</th>\n",
       "      <td>4896331812335761701</td>\n",
       "      <td>149852234418</td>\n",
       "      <td>6d11805f2acd938fec99376001afafe8</td>\n",
       "      <td>1645311286</td>\n",
       "      <td>gas_transport</td>\n",
       "      <td>82.47</td>\n",
       "      <td>0</td>\n",
       "      <td>Spencer-Hall</td>\n",
       "      <td>39.443567</td>\n",
       "      <td>-89.752400</td>\n",
       "      <td>...</td>\n",
       "      <td>M</td>\n",
       "      <td>4457 Mercado Extensions</td>\n",
       "      <td>Brussels</td>\n",
       "      <td>IL</td>\n",
       "      <td>62013</td>\n",
       "      <td>38.9255</td>\n",
       "      <td>-90.5968</td>\n",
       "      <td>552</td>\n",
       "      <td>Patent attorney</td>\n",
       "      <td>2002-07-27</td>\n",
       "    </tr>\n",
       "    <tr>\n",
       "      <th>4</th>\n",
       "      <td>4896331812335761701</td>\n",
       "      <td>149852234418</td>\n",
       "      <td>605342f297c575cb1ccf2c08cad082ee</td>\n",
       "      <td>1641571926</td>\n",
       "      <td>gas_transport</td>\n",
       "      <td>50.28</td>\n",
       "      <td>0</td>\n",
       "      <td>King, Rodriguez and Hancock</td>\n",
       "      <td>38.857278</td>\n",
       "      <td>-89.609525</td>\n",
       "      <td>...</td>\n",
       "      <td>M</td>\n",
       "      <td>4457 Mercado Extensions</td>\n",
       "      <td>Brussels</td>\n",
       "      <td>IL</td>\n",
       "      <td>62013</td>\n",
       "      <td>38.9255</td>\n",
       "      <td>-90.5968</td>\n",
       "      <td>552</td>\n",
       "      <td>Patent attorney</td>\n",
       "      <td>2002-07-27</td>\n",
       "    </tr>\n",
       "  </tbody>\n",
       "</table>\n",
       "<p>5 rows × 23 columns</p>\n",
       "</div>"
      ],
      "text/plain": [
       "                cc_num      acct_num                         trans_num  \\\n",
       "0  4896331812335761701  149852234418  f3ec0819590302134f03ffdc2f44697f   \n",
       "1  4896331812335761701  149852234418  c1607c993e41f2c3b42d72d1506bef7b   \n",
       "2  4896331812335761701  149852234418  6f530db25d20fe351249a54491fd3fde   \n",
       "3  4896331812335761701  149852234418  6d11805f2acd938fec99376001afafe8   \n",
       "4  4896331812335761701  149852234418  605342f297c575cb1ccf2c08cad082ee   \n",
       "\n",
       "    unix_time       category    amt is_fraud                     merchant  \\\n",
       "0  1646060228  gas_transport  65.17        0       Larson, Ryan and Huang   \n",
       "1  1644848624  gas_transport  47.58        0                   Myers-Reed   \n",
       "2  1645632153  gas_transport  64.43        0                Baker-Bullock   \n",
       "3  1645311286  gas_transport  82.47        0                 Spencer-Hall   \n",
       "4  1641571926  gas_transport  50.28        0  King, Rodriguez and Hancock   \n",
       "\n",
       "   merch_lat  merch_long  ... gender                   street      city state  \\\n",
       "0  38.143430  -90.327335  ...      M  4457 Mercado Extensions  Brussels    IL   \n",
       "1  39.119498  -90.760379  ...      M  4457 Mercado Extensions  Brussels    IL   \n",
       "2  39.384368  -90.361517  ...      M  4457 Mercado Extensions  Brussels    IL   \n",
       "3  39.443567  -89.752400  ...      M  4457 Mercado Extensions  Brussels    IL   \n",
       "4  38.857278  -89.609525  ...      M  4457 Mercado Extensions  Brussels    IL   \n",
       "\n",
       "     zip      lat     long  city_pop              job         dob  \n",
       "0  62013  38.9255 -90.5968       552  Patent attorney  2002-07-27  \n",
       "1  62013  38.9255 -90.5968       552  Patent attorney  2002-07-27  \n",
       "2  62013  38.9255 -90.5968       552  Patent attorney  2002-07-27  \n",
       "3  62013  38.9255 -90.5968       552  Patent attorney  2002-07-27  \n",
       "4  62013  38.9255 -90.5968       552  Patent attorney  2002-07-27  \n",
       "\n",
       "[5 rows x 23 columns]"
      ]
     },
     "execution_count": 14,
     "metadata": {},
     "output_type": "execute_result"
    }
   ],
   "source": [
    "df_merged.head(5)"
   ]
  },
  {
   "cell_type": "markdown",
   "id": "2c0e245c-b509-41be-ad33-1bb12efee23b",
   "metadata": {},
   "source": [
    "<p style=\"font-size:18px;\">\n",
    "   Removing sensitive information such as cc_num, acct_num, and trans_num,ssn from the dataset used for anomaly detection in finding abnormal spending patterns is primarily done to ensure data privacy and security. These features contain sensitive and personally identifiable information (PII), such as credit card numbers and account identifiers, which should be handled with caution to protect the privacy of individuals.\n",
    "</p>"
   ]
  },
  {
   "cell_type": "code",
   "execution_count": 15,
   "id": "9694ad89-7c4a-4d59-800a-7bcb1bd31d7f",
   "metadata": {},
   "outputs": [],
   "source": [
    "df_merged=df_merged.drop(['cc_num','acct_num','trans_num','ssn'],axis=1)"
   ]
  },
  {
   "cell_type": "markdown",
   "id": "076bfabb-9e45-445f-81f5-82fdbad98e7e",
   "metadata": {},
   "source": [
    "<p style=\"font-size:18px;\">\n",
    "   In many real-world scenarios, the is_fraud label is not available during the time of anomaly detection. So, removing it is a good idea\n",
    "</p>"
   ]
  },
  {
   "cell_type": "code",
   "execution_count": 16,
   "id": "e0374344-cc2c-48ef-92e2-43916a88ffd2",
   "metadata": {},
   "outputs": [],
   "source": [
    "fraud_label=df_merged['is_fraud']"
   ]
  },
  {
   "cell_type": "code",
   "execution_count": 17,
   "id": "a421f268-46d7-4d0d-ab84-22562c51b707",
   "metadata": {},
   "outputs": [],
   "source": [
    "df_merged=df_merged.drop(['is_fraud'],axis=1)"
   ]
  },
  {
   "cell_type": "markdown",
   "id": "90a896fe-f2b8-4d23-b021-fa8804688ea9",
   "metadata": {},
   "source": [
    "<p style=\"font-size:18px;\">\n",
    "    In many cases, first and last names are not directly related to spending behavior. First and last names are personally identifiable information (PII) that can potentially compromise the privacy of individuals. Removing sensitive information like names helps ensure compliance with data protection regulations and maintain the anonymity of the individuals in the dataset.\n",
    "</p>"
   ]
  },
  {
   "cell_type": "code",
   "execution_count": 18,
   "id": "0f8a9b13-190a-4009-aa15-e8b0ec526692",
   "metadata": {},
   "outputs": [],
   "source": [
    "df_merged=df_merged.drop(['first','last'],axis=1)"
   ]
  },
  {
   "cell_type": "markdown",
   "id": "0166bb93-cdb0-444b-a6be-c74680b47789",
   "metadata": {},
   "source": [
    "<p style=\"font-size:18px;\">\n",
    "    Conclusively determining a person's full identity based solely on their age and street address is even more improbable compared to utilizing both date of birth and street name. Therefore, it may be preferable to convert the date of birth to age for better anonymity and privacy protection.\n",
    "</p>"
   ]
  },
  {
   "cell_type": "code",
   "execution_count": 19,
   "id": "99b268c7-0c6d-4f3a-8587-5893f8246130",
   "metadata": {},
   "outputs": [],
   "source": [
    "df_merged.dob=[datetime.strptime(dob_str, \"%Y-%m-%d\") for dob_str in df_merged.dob]"
   ]
  },
  {
   "cell_type": "code",
   "execution_count": 20,
   "id": "ef6cb04c-c797-4a41-9814-b691d9b17d4a",
   "metadata": {},
   "outputs": [],
   "source": [
    "age=[datetime.today()-dob for dob in df_merged.dob]"
   ]
  },
  {
   "cell_type": "code",
   "execution_count": 21,
   "id": "6754a1cf-93c9-4f84-bdbf-2782f4b181e3",
   "metadata": {},
   "outputs": [],
   "source": [
    "age = [divmod(a.days, 365.25)[0] for a in age]"
   ]
  },
  {
   "cell_type": "code",
   "execution_count": 22,
   "id": "18462da5-3a93-43a4-b86c-f75b854285e7",
   "metadata": {},
   "outputs": [],
   "source": [
    "df_merged['Age']=age\n",
    "df_merged=df_merged.drop('dob',axis=1)"
   ]
  },
  {
   "cell_type": "markdown",
   "id": "aca7e779-bd23-426a-b4bb-5d26d14bcecd",
   "metadata": {},
   "source": [
    "<p style=\"font-size:18px;\">\n",
    "    Address details such as latitude, longitude are considered personally identifiable information (PII) that can potentially compromise the privacy of both the customers and the merchants. \n",
    "</p>"
   ]
  },
  {
   "cell_type": "code",
   "execution_count": 23,
   "id": "49897557-8b96-40a2-88cb-09280817b079",
   "metadata": {},
   "outputs": [],
   "source": [
    "df_merged=df_merged.drop(['merch_lat','merch_long','lat','long'],axis=1)"
   ]
  },
  {
   "cell_type": "markdown",
   "id": "5ad4fadd-9ef0-4e4f-a8f2-b9bd49b77a9f",
   "metadata": {},
   "source": [
    "<p style=\"font-size:18px;\">\n",
    "    In most cases, combining a person's age and zip code would still not be enough to definitively obtain their full identity. While this combination of information can help narrow down potential matches within a specific area and age range, it is still insufficient to accurately identify a specific individual. Combining a person's age, city, state, and street address could potentially increase the chances of identifying an individual, especially in a more specific geographic area. This combination of information provides more specific details about a person's demographic and location. \n",
    "</p>"
   ]
  },
  {
   "cell_type": "code",
   "execution_count": 24,
   "id": "97ef0732-2290-48a4-866a-75cd5616528a",
   "metadata": {},
   "outputs": [],
   "source": [
    "df_merged=df_merged.drop(['street','city','state'],axis=1)"
   ]
  },
  {
   "cell_type": "markdown",
   "id": "0b3789b5-67cd-4176-9bd3-d59d79ca8ad8",
   "metadata": {
    "jp-MarkdownHeadingCollapsed": true,
    "tags": []
   },
   "source": [
    "<p style=\"font-size:18px;\">\n",
    "Unix time serves as a timestamp for each transaction, enabling the analysis of spending patterns over time. By taking into account the temporal dimension, one can identify anomalies that occur during specific periods or detect abnormal trends in spending behavior. Instances of sudden increases or decreases in spending within particular time intervals may suggest irregular activity. It is important to note, however, that the primary focus of anomaly detection lies in examining spending patterns rather than emphasizing the temporal aspects of the data.\n",
    "</p>"
   ]
  },
  {
   "cell_type": "code",
   "execution_count": 25,
   "id": "f8609e9f-591c-4b18-ac81-2cb99790dd57",
   "metadata": {},
   "outputs": [],
   "source": [
    "df_merged=df_merged.drop('unix_time',axis=1)"
   ]
  },
  {
   "cell_type": "markdown",
   "id": "d86836cf-901f-4cc0-8c67-928fc7ce1269",
   "metadata": {
    "jp-MarkdownHeadingCollapsed": true,
    "tags": []
   },
   "source": [
    "<p style=\"font-size:18px;\">\n",
    "Converting age into age group to provide a better understanding of spending behavior across different life stages.\n",
    "</p>"
   ]
  },
  {
   "cell_type": "code",
   "execution_count": 26,
   "id": "ba343fab-ca38-4a52-a511-7f736536a4d1",
   "metadata": {},
   "outputs": [],
   "source": [
    "age_groups = {\n",
    "    (0, 17): 'Under 18',\n",
    "    (18, 24): '18-24',\n",
    "    (25, 34): '25-34',\n",
    "    (35, 44): '35-44',\n",
    "    (45, 54): '45-54',\n",
    "    (55, 64): '55-64',\n",
    "    (65, 120): '65 and above'\n",
    "}\n",
    "# Function to map age to age group\n",
    "def map_age_group(age):\n",
    "    for age_range, group_label in age_groups.items():\n",
    "        if age_range[0] <= age <= age_range[1]:\n",
    "            return group_label\n",
    "    return 'Unknown'\n",
    "\n"
   ]
  },
  {
   "cell_type": "code",
   "execution_count": 27,
   "id": "0296ebe3-2da0-440e-8d2e-e020ce9d2895",
   "metadata": {},
   "outputs": [],
   "source": [
    "# Apply the age group mapping to the 'Age' column\n",
    "df_merged['Age Group']=df_merged['Age'].apply(map_age_group)\n",
    "df_merged=df_merged.drop('Age',axis=1)"
   ]
  },
  {
   "cell_type": "markdown",
   "id": "dd45fe0a-276c-4c97-85f3-ce59c5de1c75",
   "metadata": {
    "tags": []
   },
   "source": [
    "# 6. Data Visualisation"
   ]
  },
  {
   "cell_type": "markdown",
   "id": "0422c350-99bd-4c9f-942f-e883426b5a9e",
   "metadata": {},
   "source": [
    "<p style=\"font-size:18px;\">\n",
    "   The bar graph presented below illustrates the occurrence of transactions for each category. The data clearly indicates that physical point-of-sale (POS) systems or in-store transactions of grocery shopping account for the highest transactions, followed by home purchases.\n",
    "</p>"
   ]
  },
  {
   "cell_type": "code",
   "execution_count": 28,
   "id": "05165c07-95e0-483f-ade2-15aab247d8ae",
   "metadata": {},
   "outputs": [
    {
     "data": {
      "image/png": "[encoded data removed]",
      "text/plain": [
       "<Figure size 640x480 with 1 Axes>"
      ]
     },
     "metadata": {},
     "output_type": "display_data"
    }
   ],
   "source": [
    "plt.bar(df_merged.category.value_counts().index, df_merged.category.value_counts().values)\n",
    "# Add labels and title\n",
    "plt.xlabel('Categories')\n",
    "plt.ylabel('Count')\n",
    "plt.title('Occurrence of transactions for each category')\n",
    "\n",
    "# Rotate x-axis labels by 90 degrees\n",
    "plt.xticks(rotation=90)\n",
    "\n",
    "plt.show()"
   ]
  },
  {
   "cell_type": "markdown",
   "id": "8ed3833a-5a18-43dc-84e8-e470176ed4e4",
   "metadata": {},
   "source": [
    "<p style=\"font-size:18px;\">\n",
    "  The following bar graph showcases the average spending across different categories. The data clearly indicates that online grocery shopping or digital platform purchases account for the highest spending, followed by miscellaneous online purchases.\n",
    "</p>"
   ]
  },
  {
   "cell_type": "code",
   "execution_count": 29,
   "id": "02a49037-f53a-434c-b5f3-3f8544a2a58c",
   "metadata": {},
   "outputs": [
    {
     "data": {
      "image/png": "[encoded data removed]",
      "text/plain": [
       "<Figure size 640x480 with 1 Axes>"
      ]
     },
     "metadata": {},
     "output_type": "display_data"
    }
   ],
   "source": [
    "plt.bar(df_merged.groupby(by=['category'])['amt'].mean().reset_index().category, df_merged.groupby(by=['category'])['amt'].mean().reset_index().amt)\n",
    "# Add labels and title\n",
    "plt.xlabel('Categories')\n",
    "plt.ylabel('Amount')\n",
    "plt.title('Spending for each category')\n",
    "\n",
    "# Rotate x-axis labels by 90 degrees\n",
    "plt.xticks(rotation=90)\n",
    "\n",
    "plt.show()"
   ]
  },
  {
   "cell_type": "markdown",
   "id": "a3025301-8d56-4a7d-9175-abea7c3fddbd",
   "metadata": {},
   "source": [
    "<p style=\"font-size:18px;\">\n",
    "   The pie chart presented below illustrates the occurrence of transactions for each gender. It is evident that females do more number of transactions than  males.\n",
    "</p>"
   ]
  },
  {
   "cell_type": "code",
   "execution_count": 30,
   "id": "36b6aa98-5c0e-4371-8b7f-652e3bad693c",
   "metadata": {},
   "outputs": [
    {
     "data": {
      "image/png": "[encoded data removed]",
      "text/plain": [
       "<Figure size 640x480 with 1 Axes>"
      ]
     },
     "metadata": {},
     "output_type": "display_data"
    }
   ],
   "source": [
    "plt.pie(df_merged.gender.value_counts().values, labels=df_merged.gender.value_counts().index.map({'F': 'Female', 'M': 'Male'}), autopct='%1.1f%%')\n",
    "\n",
    "# Add title\n",
    "plt.title('Occurrence of transactions for each gender')\n",
    "\n",
    "# Set aspect ratio to 'equal' for a circular pie\n",
    "plt.axis('equal')\n",
    "\n",
    "# Display the plot\n",
    "plt.show()"
   ]
  },
  {
   "cell_type": "markdown",
   "id": "568c1ad0-ff21-460f-a409-4036ce047394",
   "metadata": {},
   "source": [
    "<p style=\"font-size:18px;\">\n",
    "   The pie chart presented below illustrates the spending proportion for each gender. It is evident that females spend more than males.\n",
    "</p>"
   ]
  },
  {
   "cell_type": "code",
   "execution_count": 31,
   "id": "6a66e8cc-6a15-4ce9-aab2-0902ead1897a",
   "metadata": {},
   "outputs": [
    {
     "data": {
      "image/png": "[encoded data removed]",
      "text/plain": [
       "<Figure size 640x480 with 1 Axes>"
      ]
     },
     "metadata": {},
     "output_type": "display_data"
    }
   ],
   "source": [
    "plt.pie(df_merged.groupby(by=['gender'])['amt'].mean().reset_index().amt, labels=df_merged.groupby(by=['gender'])['amt'].mean().reset_index().gender.map({'F': 'Female', 'M': 'Male'}), autopct='%1.1f%%')\n",
    "\n",
    "# Add title\n",
    "plt.title('Spending proportion for each gender')\n",
    "\n",
    "# Set aspect ratio to 'equal' for a circular pie\n",
    "plt.axis('equal')\n",
    "\n",
    "# Display the plot\n",
    "plt.show()"
   ]
  },
  {
   "cell_type": "markdown",
   "id": "2d239886-6f62-4c59-88e4-d01b7ca761a7",
   "metadata": {},
   "source": [
    "<p style=\"font-size:18px;\">\n",
    "   The bar graph presented below illustrates the occurrence of transactions for each age group. The data clearly indicates that 25-34 year age group makes highest number of transactions.\n",
    "</p>"
   ]
  },
  {
   "cell_type": "code",
   "execution_count": 32,
   "id": "d4783411-559b-4dfa-adc3-ae074992cb1b",
   "metadata": {},
   "outputs": [
    {
     "data": {
      "image/png": "[encoded data removed]",
      "text/plain": [
       "<Figure size 640x480 with 1 Axes>"
      ]
     },
     "metadata": {},
     "output_type": "display_data"
    }
   ],
   "source": [
    "plt.bar(df_merged['Age Group'].value_counts().index, df_merged['Age Group'].value_counts().values)\n",
    "# Add labels and title\n",
    "plt.xlabel('Age Group')\n",
    "plt.ylabel('Count')\n",
    "plt.title('Occurrence of transactions for each age group')\n",
    "\n",
    "# Rotate x-axis labels by 90 degrees\n",
    "plt.xticks(rotation=90)\n",
    "\n",
    "plt.show()"
   ]
  },
  {
   "cell_type": "markdown",
   "id": "253bac01-f46b-4ca0-a473-1c905d467d13",
   "metadata": {},
   "source": [
    "<p style=\"font-size:18px;\">\n",
    "   The bar graph presented below illustrates the average spendings for each age group. The data clearly indicates that 25-34 year age group spends the highest closely followed by 35-44 year age group.\n",
    "</p>"
   ]
  },
  {
   "cell_type": "code",
   "execution_count": 35,
   "id": "eae644d5-50b5-4eed-af0c-cd76669ea51b",
   "metadata": {},
   "outputs": [
    {
     "data": {
      "image/png": "[encoded data removed]",
      "text/plain": [
       "<Figure size 640x480 with 1 Axes>"
      ]
     },
     "metadata": {},
     "output_type": "display_data"
    }
   ],
   "source": [
    "plt.bar(df_merged.groupby(by=['Age Group'])['amt'].mean().reset_index()['Age Group'], df_merged.groupby(by=['Age Group'])['amt'].mean().reset_index().amt)\n",
    "# Add labels and title\n",
    "plt.xlabel('Age Groups')\n",
    "plt.ylabel('Amount')\n",
    "plt.title('Spending for each Age Group')\n",
    "\n",
    "# Rotate x-axis labels by 90 degrees\n",
    "plt.xticks(rotation=90)\n",
    "\n",
    "plt.show()"
   ]
  },
  {
   "cell_type": "code",
   "execution_count": 45,
   "id": "3a783fea-d9b1-407f-aa74-81bd09178f2c",
   "metadata": {},
   "outputs": [
    {
     "data": {
      "text/plain": [
       "merchant\n",
       "Romero, Bell and Williams            389.719844\n",
       "Vaughn-Hogan                         345.382828\n",
       "Jenkins, Clark and Anderson          315.547534\n",
       "Santiago, Carroll and Chen           306.166204\n",
       "Villanueva, Castillo and Randolph    246.009494\n",
       "                                        ...    \n",
       "Thomas, Hart and Ballard              34.086308\n",
       "Waller PLC                            34.025625\n",
       "Nguyen-Thomas                         33.261905\n",
       "Camacho LLC                           33.232800\n",
       "Hughes-Mckay                          32.770000\n",
       "Name: amt, Length: 21977, dtype: float64"
      ]
     },
     "execution_count": 45,
     "metadata": {},
     "output_type": "execute_result"
    }
   ],
   "source": [
    "df_merged.groupby(by=['merchant'])['amt'].mean().sort_values(ascending=False)"
   ]
  },
  {
   "cell_type": "code",
   "execution_count": 44,
   "id": "3c850cc4-870d-4c7b-9c31-6c3fa1a98168",
   "metadata": {},
   "outputs": [
    {
     "data": {
      "image/png": "[encoded data removed]",
      "text/plain": [
       "<Figure size 640x480 with 1 Axes>"
      ]
     },
     "metadata": {},
     "output_type": "display_data"
    }
   ],
   "source": [
    "plt.bar(df_merged.groupby(by=['merchant'])['amt'].mean().sort_values(ascending=False)[0:10].index, df_merged.groupby(by=['merchant'])['amt'].mean().sort_values(ascending=False)[0:10].values)\n",
    "# Add labels and title\n",
    "plt.xlabel('Merchants')\n",
    "plt.ylabel('Amount')\n",
    "plt.title('Spending for Top Merchants')\n",
    "\n",
    "# Rotate x-axis labels by 90 degrees\n",
    "plt.xticks(rotation=90)\n",
    "\n",
    "plt.show()"
   ]
  },
  {
   "cell_type": "code",
   "execution_count": 47,
   "id": "36caf112-d30d-4a7e-abc5-d732cac3e0c8",
   "metadata": {},
   "outputs": [
    {
     "data": {
      "text/plain": [
       "zip\n",
       "32303    705.590952\n",
       "6053     693.201429\n",
       "33407    664.713000\n",
       "16143    652.649000\n",
       "68154    622.403333\n",
       "            ...    \n",
       "78753     46.621247\n",
       "67401     45.866746\n",
       "34731     45.504391\n",
       "61265     42.535747\n",
       "14221     41.132011\n",
       "Name: amt, Length: 939, dtype: float64"
      ]
     },
     "execution_count": 47,
     "metadata": {},
     "output_type": "execute_result"
    }
   ],
   "source": [
    "df_merged.groupby(by=['zip'])['amt'].mean().sort_values(ascending=False)"
   ]
  },
  {
   "cell_type": "code",
   "execution_count": 56,
   "id": "16dc93e2-5ba3-489d-b935-9ac869a758ae",
   "metadata": {},
   "outputs": [
    {
     "name": "stderr",
     "output_type": "stream",
     "text": [
      "/var/folders/0h/j84rsdwd49jbw1_d04_c5b3r0000gn/T/ipykernel_67952/611548742.py:1: FutureWarning: The behavior of `series[i:j]` with an integer-dtype index is deprecated. In a future version, this will be treated as *label-based* indexing, consistent with e.g. `series[i]` lookups. To retain the old behavior, use `series.iloc[i:j]`. To get the future behavior, use `series.loc[i:j]`.\n",
      "  df_merged.groupby(by=['zip'])['amt'].mean().sort_values(ascending=False)[0:10]\n"
     ]
    },
    {
     "data": {
      "text/plain": [
       "zip\n",
       "32303    705.590952\n",
       "6053     693.201429\n",
       "33407    664.713000\n",
       "16143    652.649000\n",
       "68154    622.403333\n",
       "40160    612.623333\n",
       "48044    561.291667\n",
       "32504    535.677778\n",
       "55104    483.873077\n",
       "46814    471.432857\n",
       "Name: amt, dtype: float64"
      ]
     },
     "execution_count": 56,
     "metadata": {},
     "output_type": "execute_result"
    }
   ],
   "source": [
    "df_merged.groupby(by=['zip'])['amt'].mean().sort_values(ascending=False)[0:10]"
   ]
  },
  {
   "cell_type": "code",
   "execution_count": 55,
   "id": "13d65d43-97fd-4fc4-80cb-a6f7372fd81f",
   "metadata": {},
   "outputs": [
    {
     "name": "stderr",
     "output_type": "stream",
     "text": [
      "/var/folders/0h/j84rsdwd49jbw1_d04_c5b3r0000gn/T/ipykernel_67952/3576906441.py:1: FutureWarning: The behavior of `series[i:j]` with an integer-dtype index is deprecated. In a future version, this will be treated as *label-based* indexing, consistent with e.g. `series[i]` lookups. To retain the old behavior, use `series.iloc[i:j]`. To get the future behavior, use `series.loc[i:j]`.\n",
      "  plt.bar(df_merged.groupby(by=['zip'])['amt'].mean().sort_values(ascending=False)[0:10].index.astype(str), df_merged.groupby(by=['zip'])['amt'].mean().sort_values(ascending=False)[0:10].values)\n",
      "/var/folders/0h/j84rsdwd49jbw1_d04_c5b3r0000gn/T/ipykernel_67952/3576906441.py:1: FutureWarning: The behavior of `series[i:j]` with an integer-dtype index is deprecated. In a future version, this will be treated as *label-based* indexing, consistent with e.g. `series[i]` lookups. To retain the old behavior, use `series.iloc[i:j]`. To get the future behavior, use `series.loc[i:j]`.\n",
      "  plt.bar(df_merged.groupby(by=['zip'])['amt'].mean().sort_values(ascending=False)[0:10].index.astype(str), df_merged.groupby(by=['zip'])['amt'].mean().sort_values(ascending=False)[0:10].values)\n"
     ]
    },
    {
     "data": {
      "image/png": "[encoded data removed]",
      "text/plain": [
       "<Figure size 640x480 with 1 Axes>"
      ]
     },
     "metadata": {},
     "output_type": "display_data"
    }
   ],
   "source": [
    "plt.bar(df_merged.groupby(by=['zip'])['amt'].mean().sort_values(ascending=False)[0:10].index.astype(str), df_merged.groupby(by=['zip'])['amt'].mean().sort_values(ascending=False)[0:10].values)\n",
    "# Add labels and title\n",
    "plt.xlabel('Zip codes')\n",
    "plt.ylabel('Amount')\n",
    "plt.title('Top Spending for Zip codes')\n",
    "\n",
    "# Rotate x-axis labels by 90 degrees\n",
    "plt.xticks(rotation=90)\n",
    "\n",
    "plt.show()"
   ]
  },
  {
   "cell_type": "markdown",
   "id": "56c0417b-9363-49e8-90fb-c04f5ca39801",
   "metadata": {
    "tags": []
   },
   "source": [
    "# 7. Label Encoding"
   ]
  },
  {
   "cell_type": "code",
   "execution_count": 57,
   "id": "3b78baed-4118-4c23-a22f-9ed11d1b10bc",
   "metadata": {},
   "outputs": [],
   "source": [
    "label_encoder = LabelEncoder()"
   ]
  },
  {
   "cell_type": "code",
   "execution_count": 58,
   "id": "7ee462ea-5003-464c-9975-da78f46070ad",
   "metadata": {},
   "outputs": [],
   "source": [
    "df_merged.category=label_encoder.fit_transform(df_merged.category)\n",
    "df_merged.merchant=label_encoder.fit_transform(df_merged.merchant)\n",
    "df_merged.gender=label_encoder.fit_transform(df_merged.gender)\n",
    "df_merged.zip=label_encoder.fit_transform(df_merged.zip)\n",
    "df_merged.job=label_encoder.fit_transform(df_merged.job)\n",
    "df_merged['Age Group']=label_encoder.fit_transform(df_merged['Age Group'])"
   ]
  },
  {
   "cell_type": "markdown",
   "id": "05480db1-7483-4127-8ac6-562cc8fff887",
   "metadata": {
    "tags": []
   },
   "source": [
    "# 8. Feature Scaling"
   ]
  },
  {
   "cell_type": "code",
   "execution_count": 59,
   "id": "32fbc860-9a5d-4035-b447-27ae0082c7fc",
   "metadata": {},
   "outputs": [],
   "source": [
    "scaler = StandardScaler()\n",
    "scaled_data = scaler.fit_transform(df_merged)"
   ]
  },
  {
   "cell_type": "code",
   "execution_count": 60,
   "id": "6a47c806-9195-4c0a-b203-c403015a3428",
   "metadata": {},
   "outputs": [],
   "source": [
    "df_merged=pd.DataFrame(scaled_data,columns=df_merged.columns)"
   ]
  },
  {
   "cell_type": "markdown",
   "id": "c1b5bef0-e164-4f02-af32-5fd663dfc1b6",
   "metadata": {
    "tags": []
   },
   "source": [
    "# 8. Initial Anomaly Detection Model"
   ]
  },
  {
   "cell_type": "markdown",
   "id": "37afc769-59f7-416f-bd73-3cabad1878a1",
   "metadata": {
    "tags": []
   },
   "source": [
    "## 8.1. Isolation Forest"
   ]
  },
  {
   "cell_type": "markdown",
   "id": "a1c37891-00bc-42c2-b8de-f388135e95d2",
   "metadata": {},
   "source": [
    "<p style=\"font-size:18px;\">\n",
    "    Isolation Forest is an efficient algorithm that constructs random binary trees to isolate anomalies. It has a linear time complexity and works well with high-dimensional datasets.\n",
    "</p>"
   ]
  },
  {
   "cell_type": "code",
   "execution_count": 61,
   "id": "fcc072b6-3b9c-43a1-83a1-bb51c1022036",
   "metadata": {},
   "outputs": [
    {
     "data": {
      "text/html": [
       "<div>\n",
       "<style scoped>\n",
       "    .dataframe tbody tr th:only-of-type {\n",
       "        vertical-align: middle;\n",
       "    }\n",
       "\n",
       "    .dataframe tbody tr th {\n",
       "        vertical-align: top;\n",
       "    }\n",
       "\n",
       "    .dataframe thead th {\n",
       "        text-align: right;\n",
       "    }\n",
       "</style>\n",
       "<table border=\"1\" class=\"dataframe\">\n",
       "  <thead>\n",
       "    <tr style=\"text-align: right;\">\n",
       "      <th></th>\n",
       "      <th>category</th>\n",
       "      <th>amt</th>\n",
       "      <th>merchant</th>\n",
       "      <th>gender</th>\n",
       "      <th>zip</th>\n",
       "      <th>city_pop</th>\n",
       "      <th>job</th>\n",
       "      <th>Age Group</th>\n",
       "    </tr>\n",
       "  </thead>\n",
       "  <tbody>\n",
       "    <tr>\n",
       "      <th>0</th>\n",
       "      <td>-1.089741</td>\n",
       "      <td>-0.023590</td>\n",
       "      <td>-0.059002</td>\n",
       "      <td>1.021563</td>\n",
       "      <td>0.332539</td>\n",
       "      <td>-0.532368</td>\n",
       "      <td>0.521561</td>\n",
       "      <td>-1.549509</td>\n",
       "    </tr>\n",
       "    <tr>\n",
       "      <th>1</th>\n",
       "      <td>-1.089741</td>\n",
       "      <td>-0.132273</td>\n",
       "      <td>0.424520</td>\n",
       "      <td>1.021563</td>\n",
       "      <td>0.332539</td>\n",
       "      <td>-0.532368</td>\n",
       "      <td>0.521561</td>\n",
       "      <td>-1.549509</td>\n",
       "    </tr>\n",
       "    <tr>\n",
       "      <th>2</th>\n",
       "      <td>-1.089741</td>\n",
       "      <td>-0.028162</td>\n",
       "      <td>-1.613607</td>\n",
       "      <td>1.021563</td>\n",
       "      <td>0.332539</td>\n",
       "      <td>-0.532368</td>\n",
       "      <td>0.521561</td>\n",
       "      <td>-1.549509</td>\n",
       "    </tr>\n",
       "  </tbody>\n",
       "</table>\n",
       "</div>"
      ],
      "text/plain": [
       "   category       amt  merchant    gender       zip  city_pop       job  \\\n",
       "0 -1.089741 -0.023590 -0.059002  1.021563  0.332539 -0.532368  0.521561   \n",
       "1 -1.089741 -0.132273  0.424520  1.021563  0.332539 -0.532368  0.521561   \n",
       "2 -1.089741 -0.028162 -1.613607  1.021563  0.332539 -0.532368  0.521561   \n",
       "\n",
       "   Age Group  \n",
       "0  -1.549509  \n",
       "1  -1.549509  \n",
       "2  -1.549509  "
      ]
     },
     "execution_count": 61,
     "metadata": {},
     "output_type": "execute_result"
    }
   ],
   "source": [
    "df_merged.head(3)"
   ]
  },
  {
   "cell_type": "code",
   "execution_count": 62,
   "id": "ab8e0bcb-d835-4fe1-ad3a-86c34683520c",
   "metadata": {},
   "outputs": [],
   "source": [
    "model = IsolationForest(n_estimators=100, contamination=0.05, random_state=42)\n"
   ]
  },
  {
   "cell_type": "code",
   "execution_count": 63,
   "id": "41b60275-3682-44dc-a16a-4fcc002b0ff2",
   "metadata": {},
   "outputs": [
    {
     "name": "stderr",
     "output_type": "stream",
     "text": [
      "/Users/savinaysingh/Documents/SavinayUTS/MachineLearning/ml_env/lib/python3.8/site-packages/sklearn/base.py:439: UserWarning: X does not have valid feature names, but IsolationForest was fitted with feature names\n",
      "  warnings.warn(\n"
     ]
    },
    {
     "data": {
      "text/html": [
       "<style>#sk-container-id-1 {color: black;background-color: white;}#sk-container-id-1 pre{padding: 0;}#sk-container-id-1 div.sk-toggleable {background-color: white;}#sk-container-id-1 label.sk-toggleable__label {cursor: pointer;display: block;width: 100%;margin-bottom: 0;padding: 0.3em;box-sizing: border-box;text-align: center;}#sk-container-id-1 label.sk-toggleable__label-arrow:before {content: \"▸\";float: left;margin-right: 0.25em;color: #696969;}#sk-container-id-1 label.sk-toggleable__label-arrow:hover:before {color: black;}#sk-container-id-1 div.sk-estimator:hover label.sk-toggleable__label-arrow:before {color: black;}#sk-container-id-1 div.sk-toggleable__content {max-height: 0;max-width: 0;overflow: hidden;text-align: left;background-color: #f0f8ff;}#sk-container-id-1 div.sk-toggleable__content pre {margin: 0.2em;color: black;border-radius: 0.25em;background-color: #f0f8ff;}#sk-container-id-1 input.sk-toggleable__control:checked~div.sk-toggleable__content {max-height: 200px;max-width: 100%;overflow: auto;}#sk-container-id-1 input.sk-toggleable__control:checked~label.sk-toggleable__label-arrow:before {content: \"▾\";}#sk-container-id-1 div.sk-estimator input.sk-toggleable__control:checked~label.sk-toggleable__label {background-color: #d4ebff;}#sk-container-id-1 div.sk-label input.sk-toggleable__control:checked~label.sk-toggleable__label {background-color: #d4ebff;}#sk-container-id-1 input.sk-hidden--visually {border: 0;clip: rect(1px 1px 1px 1px);clip: rect(1px, 1px, 1px, 1px);height: 1px;margin: -1px;overflow: hidden;padding: 0;position: absolute;width: 1px;}#sk-container-id-1 div.sk-estimator {font-family: monospace;background-color: #f0f8ff;border: 1px dotted black;border-radius: 0.25em;box-sizing: border-box;margin-bottom: 0.5em;}#sk-container-id-1 div.sk-estimator:hover {background-color: #d4ebff;}#sk-container-id-1 div.sk-parallel-item::after {content: \"\";width: 100%;border-bottom: 1px solid gray;flex-grow: 1;}#sk-container-id-1 div.sk-label:hover label.sk-toggleable__label {background-color: #d4ebff;}#sk-container-id-1 div.sk-serial::before {content: \"\";position: absolute;border-left: 1px solid gray;box-sizing: border-box;top: 0;bottom: 0;left: 50%;z-index: 0;}#sk-container-id-1 div.sk-serial {display: flex;flex-direction: column;align-items: center;background-color: white;padding-right: 0.2em;padding-left: 0.2em;position: relative;}#sk-container-id-1 div.sk-item {position: relative;z-index: 1;}#sk-container-id-1 div.sk-parallel {display: flex;align-items: stretch;justify-content: center;background-color: white;position: relative;}#sk-container-id-1 div.sk-item::before, #sk-container-id-1 div.sk-parallel-item::before {content: \"\";position: absolute;border-left: 1px solid gray;box-sizing: border-box;top: 0;bottom: 0;left: 50%;z-index: -1;}#sk-container-id-1 div.sk-parallel-item {display: flex;flex-direction: column;z-index: 1;position: relative;background-color: white;}#sk-container-id-1 div.sk-parallel-item:first-child::after {align-self: flex-end;width: 50%;}#sk-container-id-1 div.sk-parallel-item:last-child::after {align-self: flex-start;width: 50%;}#sk-container-id-1 div.sk-parallel-item:only-child::after {width: 0;}#sk-container-id-1 div.sk-dashed-wrapped {border: 1px dashed gray;margin: 0 0.4em 0.5em 0.4em;box-sizing: border-box;padding-bottom: 0.4em;background-color: white;}#sk-container-id-1 div.sk-label label {font-family: monospace;font-weight: bold;display: inline-block;line-height: 1.2em;}#sk-container-id-1 div.sk-label-container {text-align: center;}#sk-container-id-1 div.sk-container {/* jupyter's `normalize.less` sets `[hidden] { display: none; }` but bootstrap.min.css set `[hidden] { display: none !important; }` so we also need the `!important` here to be able to override the default hidden behavior on the sphinx rendered scikit-learn.org. See: https://github.com/scikit-learn/scikit-learn/issues/21755 */display: inline-block !important;position: relative;}#sk-container-id-1 div.sk-text-repr-fallback {display: none;}</style><div id=\"sk-container-id-1\" class=\"sk-top-container\"><div class=\"sk-text-repr-fallback\"><pre>IsolationForest(contamination=0.05, random_state=42)</pre><b>In a Jupyter environment, please rerun this cell to show the HTML representation or trust the notebook. <br />On GitHub, the HTML representation is unable to render, please try loading this page with nbviewer.org.</b></div><div class=\"sk-container\" hidden><div class=\"sk-item\"><div class=\"sk-estimator sk-toggleable\"><input class=\"sk-toggleable__control sk-hidden--visually\" id=\"sk-estimator-id-1\" type=\"checkbox\" checked><label for=\"sk-estimator-id-1\" class=\"sk-toggleable__label sk-toggleable__label-arrow\">IsolationForest</label><div class=\"sk-toggleable__content\"><pre>IsolationForest(contamination=0.05, random_state=42)</pre></div></div></div></div></div>"
      ],
      "text/plain": [
       "IsolationForest(contamination=0.05, random_state=42)"
      ]
     },
     "execution_count": 63,
     "metadata": {},
     "output_type": "execute_result"
    }
   ],
   "source": [
    "model.fit(df_merged)"
   ]
  },
  {
   "cell_type": "code",
   "execution_count": 64,
   "id": "e1e199b0-8309-44c2-9582-45cd544fc2c1",
   "metadata": {},
   "outputs": [],
   "source": [
    "anomaly_scores = model.decision_function(df_merged)"
   ]
  },
  {
   "cell_type": "code",
   "execution_count": 65,
   "id": "8aa58e54-26d7-41c2-ac85-7d128d18891b",
   "metadata": {},
   "outputs": [],
   "source": [
    "df_merged['anomaly_score'] = anomaly_scores"
   ]
  },
  {
   "cell_type": "code",
   "execution_count": 66,
   "id": "06da2b78-1087-4824-bb95-39b76882084b",
   "metadata": {},
   "outputs": [],
   "source": [
    "threshold = df_merged['anomaly_score'].quantile(0.95)\n",
    "df_merged['Anomaly']=0\n",
    "df_merged.loc[df_merged['anomaly_score'] > threshold,'Anomaly']=1"
   ]
  },
  {
   "cell_type": "code",
   "execution_count": 67,
   "id": "b9d22b45-4a44-4a48-8da9-f27de1eb647b",
   "metadata": {},
   "outputs": [
    {
     "data": {
      "text/plain": [
       "0    0.950001\n",
       "1    0.049999\n",
       "Name: Anomaly, dtype: float64"
      ]
     },
     "execution_count": 67,
     "metadata": {},
     "output_type": "execute_result"
    }
   ],
   "source": [
    "df_merged.Anomaly.value_counts(1)"
   ]
  },
  {
   "cell_type": "code",
   "execution_count": 68,
   "id": "cdf6e465-04a3-4cbb-96cf-ca3ba406bdcc",
   "metadata": {},
   "outputs": [
    {
     "name": "stdout",
     "output_type": "stream",
     "text": [
      "              precision    recall  f1-score   support\n",
      "\n",
      "           0       1.00      0.95      0.97   4255870\n",
      "           1       0.00      0.02      0.00      5034\n",
      "\n",
      "    accuracy                           0.95   4260904\n",
      "   macro avg       0.50      0.48      0.49   4260904\n",
      "weighted avg       1.00      0.95      0.97   4260904\n",
      "\n"
     ]
    }
   ],
   "source": [
    "print(classification_report(list(fraud_label), list(df_merged.Anomaly)))"
   ]
  },
  {
   "cell_type": "markdown",
   "id": "7b9e40be-b7a4-430d-99bd-caf4c337e9aa",
   "metadata": {},
   "source": [
    "### Optimizing the model"
   ]
  },
  {
   "cell_type": "code",
   "execution_count": 69,
   "id": "022e2be6-93e1-40b1-8f4a-4c14412eef56",
   "metadata": {},
   "outputs": [],
   "source": [
    "df_merged['anomaly_score'] = anomaly_scores"
   ]
  },
  {
   "cell_type": "code",
   "execution_count": 70,
   "id": "397220e5-c9bf-4950-b93d-1320a9d5b852",
   "metadata": {},
   "outputs": [],
   "source": [
    "threshold = df_merged['anomaly_score'].quantile(0.90)\n",
    "df_merged['Anomaly']=0\n",
    "df_merged.loc[df_merged['anomaly_score'] > threshold,'Anomaly']=1"
   ]
  },
  {
   "cell_type": "code",
   "execution_count": 71,
   "id": "c0e73d25-a6f7-4c21-b36f-81fef261206c",
   "metadata": {},
   "outputs": [
    {
     "data": {
      "text/plain": [
       "0    0.9\n",
       "1    0.1\n",
       "Name: Anomaly, dtype: float64"
      ]
     },
     "execution_count": 71,
     "metadata": {},
     "output_type": "execute_result"
    }
   ],
   "source": [
    "df_merged.Anomaly.value_counts(1)"
   ]
  },
  {
   "cell_type": "code",
   "execution_count": 72,
   "id": "8e9421e7-1685-422d-8da6-060fa651f461",
   "metadata": {},
   "outputs": [
    {
     "name": "stdout",
     "output_type": "stream",
     "text": [
      "              precision    recall  f1-score   support\n",
      "\n",
      "           0       1.00      0.90      0.95   4255870\n",
      "           1       0.00      0.03      0.00      5034\n",
      "\n",
      "    accuracy                           0.90   4260904\n",
      "   macro avg       0.50      0.46      0.47   4260904\n",
      "weighted avg       1.00      0.90      0.95   4260904\n",
      "\n"
     ]
    }
   ],
   "source": [
    "print(classification_report(list(fraud_label), list(df_merged.Anomaly)))"
   ]
  },
  {
   "cell_type": "code",
   "execution_count": 73,
   "id": "57782007-6708-4054-b671-d7b8a79d9f34",
   "metadata": {},
   "outputs": [
    {
     "data": {
      "text/plain": [
       "0    4887\n",
       "1     147\n",
       "Name: Anomaly, dtype: int64"
      ]
     },
     "execution_count": 73,
     "metadata": {},
     "output_type": "execute_result"
    }
   ],
   "source": [
    "df_merged.iloc[list(fraud_label[fraud_label==1].index),:].Anomaly.value_counts()"
   ]
  },
  {
   "cell_type": "markdown",
   "id": "0db8031a-b123-4a05-abfa-577b8a3d3441",
   "metadata": {},
   "source": [
    "## 8.2. Local Outlier Factor (LOF)"
   ]
  },
  {
   "cell_type": "markdown",
   "id": "69756397-1257-4d08-98db-1083b3147a8f",
   "metadata": {},
   "source": [
    "<p style=\"font-size:18px;\">\n",
    "   LOF is a density-based anomaly detection algorithm that measures the local density deviation of a data point with respect to its neighbors. It efficiently identifies outliers in large datasets.\n",
    "</p>"
   ]
  },
  {
   "cell_type": "code",
   "execution_count": 74,
   "id": "aeeac204-0898-4847-babd-0617308c16cc",
   "metadata": {},
   "outputs": [],
   "source": [
    "model = LocalOutlierFactor(n_neighbors=20, contamination=0.05)"
   ]
  },
  {
   "cell_type": "code",
   "execution_count": 75,
   "id": "6f475bdc-2399-42af-8df0-b37eb32710d7",
   "metadata": {},
   "outputs": [
    {
     "data": {
      "text/html": [
       "<style>#sk-container-id-2 {color: black;background-color: white;}#sk-container-id-2 pre{padding: 0;}#sk-container-id-2 div.sk-toggleable {background-color: white;}#sk-container-id-2 label.sk-toggleable__label {cursor: pointer;display: block;width: 100%;margin-bottom: 0;padding: 0.3em;box-sizing: border-box;text-align: center;}#sk-container-id-2 label.sk-toggleable__label-arrow:before {content: \"▸\";float: left;margin-right: 0.25em;color: #696969;}#sk-container-id-2 label.sk-toggleable__label-arrow:hover:before {color: black;}#sk-container-id-2 div.sk-estimator:hover label.sk-toggleable__label-arrow:before {color: black;}#sk-container-id-2 div.sk-toggleable__content {max-height: 0;max-width: 0;overflow: hidden;text-align: left;background-color: #f0f8ff;}#sk-container-id-2 div.sk-toggleable__content pre {margin: 0.2em;color: black;border-radius: 0.25em;background-color: #f0f8ff;}#sk-container-id-2 input.sk-toggleable__control:checked~div.sk-toggleable__content {max-height: 200px;max-width: 100%;overflow: auto;}#sk-container-id-2 input.sk-toggleable__control:checked~label.sk-toggleable__label-arrow:before {content: \"▾\";}#sk-container-id-2 div.sk-estimator input.sk-toggleable__control:checked~label.sk-toggleable__label {background-color: #d4ebff;}#sk-container-id-2 div.sk-label input.sk-toggleable__control:checked~label.sk-toggleable__label {background-color: #d4ebff;}#sk-container-id-2 input.sk-hidden--visually {border: 0;clip: rect(1px 1px 1px 1px);clip: rect(1px, 1px, 1px, 1px);height: 1px;margin: -1px;overflow: hidden;padding: 0;position: absolute;width: 1px;}#sk-container-id-2 div.sk-estimator {font-family: monospace;background-color: #f0f8ff;border: 1px dotted black;border-radius: 0.25em;box-sizing: border-box;margin-bottom: 0.5em;}#sk-container-id-2 div.sk-estimator:hover {background-color: #d4ebff;}#sk-container-id-2 div.sk-parallel-item::after {content: \"\";width: 100%;border-bottom: 1px solid gray;flex-grow: 1;}#sk-container-id-2 div.sk-label:hover label.sk-toggleable__label {background-color: #d4ebff;}#sk-container-id-2 div.sk-serial::before {content: \"\";position: absolute;border-left: 1px solid gray;box-sizing: border-box;top: 0;bottom: 0;left: 50%;z-index: 0;}#sk-container-id-2 div.sk-serial {display: flex;flex-direction: column;align-items: center;background-color: white;padding-right: 0.2em;padding-left: 0.2em;position: relative;}#sk-container-id-2 div.sk-item {position: relative;z-index: 1;}#sk-container-id-2 div.sk-parallel {display: flex;align-items: stretch;justify-content: center;background-color: white;position: relative;}#sk-container-id-2 div.sk-item::before, #sk-container-id-2 div.sk-parallel-item::before {content: \"\";position: absolute;border-left: 1px solid gray;box-sizing: border-box;top: 0;bottom: 0;left: 50%;z-index: -1;}#sk-container-id-2 div.sk-parallel-item {display: flex;flex-direction: column;z-index: 1;position: relative;background-color: white;}#sk-container-id-2 div.sk-parallel-item:first-child::after {align-self: flex-end;width: 50%;}#sk-container-id-2 div.sk-parallel-item:last-child::after {align-self: flex-start;width: 50%;}#sk-container-id-2 div.sk-parallel-item:only-child::after {width: 0;}#sk-container-id-2 div.sk-dashed-wrapped {border: 1px dashed gray;margin: 0 0.4em 0.5em 0.4em;box-sizing: border-box;padding-bottom: 0.4em;background-color: white;}#sk-container-id-2 div.sk-label label {font-family: monospace;font-weight: bold;display: inline-block;line-height: 1.2em;}#sk-container-id-2 div.sk-label-container {text-align: center;}#sk-container-id-2 div.sk-container {/* jupyter's `normalize.less` sets `[hidden] { display: none; }` but bootstrap.min.css set `[hidden] { display: none !important; }` so we also need the `!important` here to be able to override the default hidden behavior on the sphinx rendered scikit-learn.org. See: https://github.com/scikit-learn/scikit-learn/issues/21755 */display: inline-block !important;position: relative;}#sk-container-id-2 div.sk-text-repr-fallback {display: none;}</style><div id=\"sk-container-id-2\" class=\"sk-top-container\"><div class=\"sk-text-repr-fallback\"><pre>LocalOutlierFactor(contamination=0.05)</pre><b>In a Jupyter environment, please rerun this cell to show the HTML representation or trust the notebook. <br />On GitHub, the HTML representation is unable to render, please try loading this page with nbviewer.org.</b></div><div class=\"sk-container\" hidden><div class=\"sk-item\"><div class=\"sk-estimator sk-toggleable\"><input class=\"sk-toggleable__control sk-hidden--visually\" id=\"sk-estimator-id-2\" type=\"checkbox\" checked><label for=\"sk-estimator-id-2\" class=\"sk-toggleable__label sk-toggleable__label-arrow\">LocalOutlierFactor</label><div class=\"sk-toggleable__content\"><pre>LocalOutlierFactor(contamination=0.05)</pre></div></div></div></div></div>"
      ],
      "text/plain": [
       "LocalOutlierFactor(contamination=0.05)"
      ]
     },
     "execution_count": 75,
     "metadata": {},
     "output_type": "execute_result"
    }
   ],
   "source": [
    "model.fit(df_merged)"
   ]
  },
  {
   "cell_type": "code",
   "execution_count": 76,
   "id": "944bbdd5-8f5b-4963-b24f-10c284e52ddd",
   "metadata": {},
   "outputs": [],
   "source": [
    "anomaly_scores = model.negative_outlier_factor_"
   ]
  },
  {
   "cell_type": "code",
   "execution_count": 77,
   "id": "5c31f5e4-b8c0-4c9f-a8d6-6f61cd9dcb64",
   "metadata": {},
   "outputs": [],
   "source": [
    "df_merged['anomaly_score'] = anomaly_scores"
   ]
  },
  {
   "cell_type": "code",
   "execution_count": 78,
   "id": "426bbf22-8383-4cdc-9ccf-9bce81831d62",
   "metadata": {},
   "outputs": [],
   "source": [
    "threshold = df_merged['anomaly_score'].quantile(0.95)\n",
    "df_merged['Anomaly']=0\n",
    "df_merged.loc[df_merged['anomaly_score'] > threshold,'Anomaly']=1"
   ]
  },
  {
   "cell_type": "code",
   "execution_count": 79,
   "id": "f2ba77ca-3f0d-456e-bddf-f5baad60dfc5",
   "metadata": {},
   "outputs": [
    {
     "data": {
      "text/plain": [
       "0    0.95\n",
       "1    0.05\n",
       "Name: Anomaly, dtype: float64"
      ]
     },
     "execution_count": 79,
     "metadata": {},
     "output_type": "execute_result"
    }
   ],
   "source": [
    "df_merged.Anomaly.value_counts(1)"
   ]
  },
  {
   "cell_type": "code",
   "execution_count": 80,
   "id": "e1b6f031-c735-4517-9cc8-49784582eab2",
   "metadata": {},
   "outputs": [
    {
     "name": "stdout",
     "output_type": "stream",
     "text": [
      "              precision    recall  f1-score   support\n",
      "\n",
      "           0       1.00      0.95      0.97   4255870\n",
      "           1       0.00      0.01      0.00      5034\n",
      "\n",
      "    accuracy                           0.95   4260904\n",
      "   macro avg       0.50      0.48      0.49   4260904\n",
      "weighted avg       1.00      0.95      0.97   4260904\n",
      "\n"
     ]
    }
   ],
   "source": [
    "print(classification_report(list(fraud_label), list(df_merged.Anomaly)))"
   ]
  },
  {
   "cell_type": "markdown",
   "id": "0dd9fae2-31e8-4d44-b1c3-fa6afadaaa01",
   "metadata": {},
   "source": [
    "### Optimizing the model"
   ]
  },
  {
   "cell_type": "code",
   "execution_count": 81,
   "id": "d43add62-3226-41af-873b-c24715cd02af",
   "metadata": {},
   "outputs": [],
   "source": [
    "df_merged['anomaly_score'] = anomaly_scores"
   ]
  },
  {
   "cell_type": "code",
   "execution_count": 82,
   "id": "2115d894-4278-48e2-a2ed-c276ef527b0c",
   "metadata": {},
   "outputs": [],
   "source": [
    "threshold = df_merged['anomaly_score'].quantile(0.90)\n",
    "df_merged['Anomaly']=0\n",
    "df_merged.loc[df_merged['anomaly_score'] > threshold,'Anomaly']=1"
   ]
  },
  {
   "cell_type": "code",
   "execution_count": 83,
   "id": "9993bfea-1feb-4763-9136-75869fcbaf9b",
   "metadata": {},
   "outputs": [
    {
     "data": {
      "text/plain": [
       "0    0.9\n",
       "1    0.1\n",
       "Name: Anomaly, dtype: float64"
      ]
     },
     "execution_count": 83,
     "metadata": {},
     "output_type": "execute_result"
    }
   ],
   "source": [
    "df_merged.Anomaly.value_counts(1)"
   ]
  },
  {
   "cell_type": "code",
   "execution_count": 84,
   "id": "87f7b0c9-9ccf-44e2-b1a9-93972a2c6df5",
   "metadata": {},
   "outputs": [
    {
     "name": "stdout",
     "output_type": "stream",
     "text": [
      "              precision    recall  f1-score   support\n",
      "\n",
      "           0       1.00      0.90      0.95   4255870\n",
      "           1       0.00      0.03      0.00      5034\n",
      "\n",
      "    accuracy                           0.90   4260904\n",
      "   macro avg       0.50      0.47      0.47   4260904\n",
      "weighted avg       1.00      0.90      0.95   4260904\n",
      "\n"
     ]
    }
   ],
   "source": [
    "print(classification_report(list(fraud_label), list(df_merged.Anomaly)))"
   ]
  },
  {
   "cell_type": "code",
   "execution_count": 89,
   "id": "af7eefa3-6081-4fe9-b8fc-ec547ac32bef",
   "metadata": {},
   "outputs": [
    {
     "data": {
      "text/plain": [
       "0    4862\n",
       "1     172\n",
       "Name: Anomaly, dtype: int64"
      ]
     },
     "execution_count": 89,
     "metadata": {},
     "output_type": "execute_result"
    }
   ],
   "source": [
    "df_merged.iloc[list(fraud_label[fraud_label==1].index),:].Anomaly.value_counts()"
   ]
  },
  {
   "cell_type": "markdown",
   "id": "7d5529d4-eb44-4e50-91a3-1102026ec11b",
   "metadata": {},
   "source": [
    "## 8.3. DBSCAN"
   ]
  },
  {
   "cell_type": "markdown",
   "id": "4dd5be6b-6f49-49ce-8843-3b4ba8c9b4cc",
   "metadata": {},
   "source": [
    "<p style=\"font-size:18px;\">\n",
    " DBSCAN is a density-based clustering algorithm that can also be used for anomaly detection. It groups together data points that are closely packed, and points that fall outside any cluster or have a low number of nearby points are considered anomalies.\n",
    "</p>"
   ]
  },
  {
   "cell_type": "code",
   "execution_count": 87,
   "id": "d36edb0a-1a80-4e56-bbc9-3f339f8bdb30",
   "metadata": {},
   "outputs": [],
   "source": [
    "dbscan = DBSCAN(eps=0.3, min_samples=5)\n"
   ]
  },
  {
   "cell_type": "code",
   "execution_count": 88,
   "id": "93dacfc4-cd0e-4226-b51f-562aefc7eb89",
   "metadata": {},
   "outputs": [
    {
     "data": {
      "text/html": [
       "<style>#sk-container-id-3 {color: black;background-color: white;}#sk-container-id-3 pre{padding: 0;}#sk-container-id-3 div.sk-toggleable {background-color: white;}#sk-container-id-3 label.sk-toggleable__label {cursor: pointer;display: block;width: 100%;margin-bottom: 0;padding: 0.3em;box-sizing: border-box;text-align: center;}#sk-container-id-3 label.sk-toggleable__label-arrow:before {content: \"▸\";float: left;margin-right: 0.25em;color: #696969;}#sk-container-id-3 label.sk-toggleable__label-arrow:hover:before {color: black;}#sk-container-id-3 div.sk-estimator:hover label.sk-toggleable__label-arrow:before {color: black;}#sk-container-id-3 div.sk-toggleable__content {max-height: 0;max-width: 0;overflow: hidden;text-align: left;background-color: #f0f8ff;}#sk-container-id-3 div.sk-toggleable__content pre {margin: 0.2em;color: black;border-radius: 0.25em;background-color: #f0f8ff;}#sk-container-id-3 input.sk-toggleable__control:checked~div.sk-toggleable__content {max-height: 200px;max-width: 100%;overflow: auto;}#sk-container-id-3 input.sk-toggleable__control:checked~label.sk-toggleable__label-arrow:before {content: \"▾\";}#sk-container-id-3 div.sk-estimator input.sk-toggleable__control:checked~label.sk-toggleable__label {background-color: #d4ebff;}#sk-container-id-3 div.sk-label input.sk-toggleable__control:checked~label.sk-toggleable__label {background-color: #d4ebff;}#sk-container-id-3 input.sk-hidden--visually {border: 0;clip: rect(1px 1px 1px 1px);clip: rect(1px, 1px, 1px, 1px);height: 1px;margin: -1px;overflow: hidden;padding: 0;position: absolute;width: 1px;}#sk-container-id-3 div.sk-estimator {font-family: monospace;background-color: #f0f8ff;border: 1px dotted black;border-radius: 0.25em;box-sizing: border-box;margin-bottom: 0.5em;}#sk-container-id-3 div.sk-estimator:hover {background-color: #d4ebff;}#sk-container-id-3 div.sk-parallel-item::after {content: \"\";width: 100%;border-bottom: 1px solid gray;flex-grow: 1;}#sk-container-id-3 div.sk-label:hover label.sk-toggleable__label {background-color: #d4ebff;}#sk-container-id-3 div.sk-serial::before {content: \"\";position: absolute;border-left: 1px solid gray;box-sizing: border-box;top: 0;bottom: 0;left: 50%;z-index: 0;}#sk-container-id-3 div.sk-serial {display: flex;flex-direction: column;align-items: center;background-color: white;padding-right: 0.2em;padding-left: 0.2em;position: relative;}#sk-container-id-3 div.sk-item {position: relative;z-index: 1;}#sk-container-id-3 div.sk-parallel {display: flex;align-items: stretch;justify-content: center;background-color: white;position: relative;}#sk-container-id-3 div.sk-item::before, #sk-container-id-3 div.sk-parallel-item::before {content: \"\";position: absolute;border-left: 1px solid gray;box-sizing: border-box;top: 0;bottom: 0;left: 50%;z-index: -1;}#sk-container-id-3 div.sk-parallel-item {display: flex;flex-direction: column;z-index: 1;position: relative;background-color: white;}#sk-container-id-3 div.sk-parallel-item:first-child::after {align-self: flex-end;width: 50%;}#sk-container-id-3 div.sk-parallel-item:last-child::after {align-self: flex-start;width: 50%;}#sk-container-id-3 div.sk-parallel-item:only-child::after {width: 0;}#sk-container-id-3 div.sk-dashed-wrapped {border: 1px dashed gray;margin: 0 0.4em 0.5em 0.4em;box-sizing: border-box;padding-bottom: 0.4em;background-color: white;}#sk-container-id-3 div.sk-label label {font-family: monospace;font-weight: bold;display: inline-block;line-height: 1.2em;}#sk-container-id-3 div.sk-label-container {text-align: center;}#sk-container-id-3 div.sk-container {/* jupyter's `normalize.less` sets `[hidden] { display: none; }` but bootstrap.min.css set `[hidden] { display: none !important; }` so we also need the `!important` here to be able to override the default hidden behavior on the sphinx rendered scikit-learn.org. See: https://github.com/scikit-learn/scikit-learn/issues/21755 */display: inline-block !important;position: relative;}#sk-container-id-3 div.sk-text-repr-fallback {display: none;}</style><div id=\"sk-container-id-3\" class=\"sk-top-container\"><div class=\"sk-text-repr-fallback\"><pre>DBSCAN(eps=0.3)</pre><b>In a Jupyter environment, please rerun this cell to show the HTML representation or trust the notebook. <br />On GitHub, the HTML representation is unable to render, please try loading this page with nbviewer.org.</b></div><div class=\"sk-container\" hidden><div class=\"sk-item\"><div class=\"sk-estimator sk-toggleable\"><input class=\"sk-toggleable__control sk-hidden--visually\" id=\"sk-estimator-id-3\" type=\"checkbox\" checked><label for=\"sk-estimator-id-3\" class=\"sk-toggleable__label sk-toggleable__label-arrow\">DBSCAN</label><div class=\"sk-toggleable__content\"><pre>DBSCAN(eps=0.3)</pre></div></div></div></div></div>"
      ],
      "text/plain": [
       "DBSCAN(eps=0.3)"
      ]
     },
     "execution_count": 88,
     "metadata": {},
     "output_type": "execute_result"
    }
   ],
   "source": [
    "dbscan.fit(df_merged)\n"
   ]
  },
  {
   "cell_type": "code",
   "execution_count": 95,
   "id": "8d182229-227c-4e6e-9e28-96b3e951b826",
   "metadata": {},
   "outputs": [
    {
     "data": {
      "text/plain": [
       "array([      0,       1,       2, ..., 4260897, 4260900, 4260901])"
      ]
     },
     "execution_count": 95,
     "metadata": {},
     "output_type": "execute_result"
    }
   ],
   "source": [
    "dbscan.core_sample_indices_"
   ]
  },
  {
   "cell_type": "code",
   "execution_count": 98,
   "id": "1aef0ea0-29ce-4337-945f-f7fc0a9ebda0",
   "metadata": {},
   "outputs": [
    {
     "name": "stdout",
     "output_type": "stream",
     "text": [
      "Number of outliers: 163165\n",
      "Detected Outliers:\n"
     ]
    }
   ],
   "source": [
    "# Extract the labels and the number of outliers\n",
    "labels = dbscan.labels_\n",
    "n_outliers = np.sum(labels == -1)\n",
    "\n",
    "# Print the number of outliers\n",
    "print(f\"Number of outliers: {n_outliers}\")\n",
    "\n",
    "# Print the indices of the detected outliers\n",
    "outlier_indices = np.where(labels == -1)[0]\n",
    "print(\"Detected Outliers:\")\n",
    "# for idx in outlier_indices:\n",
    "#     print(f\"Data point {idx}: {df_merged[idx]}\")"
   ]
  },
  {
   "cell_type": "code",
   "execution_count": 116,
   "id": "da5b0b3b-d53b-42b6-a3ad-1c847c6ebbd6",
   "metadata": {},
   "outputs": [],
   "source": [
    "df_merged['Anomaly']=0"
   ]
  },
  {
   "cell_type": "code",
   "execution_count": 117,
   "id": "d442f25d-1da7-4c7d-be16-3e330b60733d",
   "metadata": {},
   "outputs": [],
   "source": [
    "df_merged.loc[outlier_indices,'Anomaly']=1"
   ]
  },
  {
   "cell_type": "code",
   "execution_count": 118,
   "id": "75ddf262-b641-4485-a8d0-12acfbf67bca",
   "metadata": {},
   "outputs": [
    {
     "data": {
      "text/plain": [
       "0    0.961706\n",
       "1    0.038294\n",
       "Name: Anomaly, dtype: float64"
      ]
     },
     "execution_count": 118,
     "metadata": {},
     "output_type": "execute_result"
    }
   ],
   "source": [
    "df_merged.Anomaly.value_counts(1)"
   ]
  },
  {
   "cell_type": "code",
   "execution_count": 119,
   "id": "45832553-41c3-47c5-a65b-4fd39dea8377",
   "metadata": {},
   "outputs": [
    {
     "name": "stdout",
     "output_type": "stream",
     "text": [
      "              precision    recall  f1-score   support\n",
      "\n",
      "           0       1.00      0.96      0.98   4255870\n",
      "           1       0.02      0.75      0.04      5034\n",
      "\n",
      "    accuracy                           0.96   4260904\n",
      "   macro avg       0.51      0.86      0.51   4260904\n",
      "weighted avg       1.00      0.96      0.98   4260904\n",
      "\n"
     ]
    }
   ],
   "source": [
    "print(classification_report(list(fraud_label), list(df_merged.Anomaly)))"
   ]
  },
  {
   "cell_type": "code",
   "execution_count": 121,
   "id": "81e33292-01fa-4576-8dcf-64769ef64cd5",
   "metadata": {},
   "outputs": [
    {
     "data": {
      "text/plain": [
       "1    0.751291\n",
       "0    0.248709\n",
       "Name: Anomaly, dtype: float64"
      ]
     },
     "execution_count": 121,
     "metadata": {},
     "output_type": "execute_result"
    }
   ],
   "source": [
    "df_merged.iloc[list(fraud_label[fraud_label==1].index),:].Anomaly.value_counts(1)"
   ]
  },
  {
   "cell_type": "code",
   "execution_count": null,
   "id": "1c2cd014-ad34-4d92-a57a-a48f1721f72e",
   "metadata": {},
   "outputs": [],
   "source": []
  },
  {
   "cell_type": "markdown",
   "id": "c01e8f74-6b7e-43e2-b3ef-b41c09091621",
   "metadata": {},
   "source": [
    "# 9. Finding the feature Importance for Isolation Forest"
   ]
  },
  {
   "cell_type": "code",
   "execution_count": 73,
   "id": "b649f2de-581b-41ed-bc62-abfbe069f958",
   "metadata": {},
   "outputs": [
    {
     "data": {
      "text/html": [
       "<div>\n",
       "<style scoped>\n",
       "    .dataframe tbody tr th:only-of-type {\n",
       "        vertical-align: middle;\n",
       "    }\n",
       "\n",
       "    .dataframe tbody tr th {\n",
       "        vertical-align: top;\n",
       "    }\n",
       "\n",
       "    .dataframe thead th {\n",
       "        text-align: right;\n",
       "    }\n",
       "</style>\n",
       "<table border=\"1\" class=\"dataframe\">\n",
       "  <thead>\n",
       "    <tr style=\"text-align: right;\">\n",
       "      <th></th>\n",
       "      <th>category</th>\n",
       "      <th>amt</th>\n",
       "      <th>merchant</th>\n",
       "      <th>gender</th>\n",
       "      <th>zip</th>\n",
       "      <th>city_pop</th>\n",
       "      <th>job</th>\n",
       "      <th>Age Group</th>\n",
       "      <th>anomaly_score</th>\n",
       "      <th>Anomaly</th>\n",
       "    </tr>\n",
       "  </thead>\n",
       "  <tbody>\n",
       "    <tr>\n",
       "      <th>0</th>\n",
       "      <td>2</td>\n",
       "      <td>65.17</td>\n",
       "      <td>10698</td>\n",
       "      <td>1</td>\n",
       "      <td>557</td>\n",
       "      <td>552</td>\n",
       "      <td>331</td>\n",
       "      <td>0</td>\n",
       "      <td>0.126065</td>\n",
       "      <td>0</td>\n",
       "    </tr>\n",
       "  </tbody>\n",
       "</table>\n",
       "</div>"
      ],
      "text/plain": [
       "   category    amt  merchant  gender  zip  city_pop  job  Age Group  \\\n",
       "0         2  65.17     10698       1  557       552  331          0   \n",
       "\n",
       "   anomaly_score  Anomaly  \n",
       "0       0.126065        0  "
      ]
     },
     "execution_count": 73,
     "metadata": {},
     "output_type": "execute_result"
    }
   ],
   "source": [
    "df_merged.head(1)"
   ]
  },
  {
   "cell_type": "code",
   "execution_count": 74,
   "id": "288877f9-cddb-43a4-b216-d82128ce86f9",
   "metadata": {},
   "outputs": [],
   "source": [
    "X=df_merged.drop(['anomaly_score','Anomaly'],axis=1)"
   ]
  },
  {
   "cell_type": "code",
   "execution_count": 75,
   "id": "eb8f5d44-63c9-4f19-b9fe-ef3f6458b35f",
   "metadata": {},
   "outputs": [],
   "source": [
    "y=df_merged.Anomaly"
   ]
  },
  {
   "cell_type": "code",
   "execution_count": 76,
   "id": "c23e2aac-44fb-4b45-b472-e4c4cee7b31b",
   "metadata": {},
   "outputs": [],
   "source": [
    "X_train, X_test, y_train, y_test = train_test_split(X, y, test_size=0.2, random_state=42)\n"
   ]
  },
  {
   "cell_type": "code",
   "execution_count": 77,
   "id": "142e1891-3d62-4e4f-a081-727ae7431153",
   "metadata": {},
   "outputs": [],
   "source": [
    "smote = SMOTE(random_state=42)\n",
    "X_train_sm, y_train_sm = smote.fit_resample(X_train, list(y_train))"
   ]
  },
  {
   "cell_type": "code",
   "execution_count": 78,
   "id": "24ffd0ac-3f66-4aad-8c5f-c4a2096f5526",
   "metadata": {},
   "outputs": [],
   "source": [
    "xgb_model = xgb.XGBClassifier()"
   ]
  },
  {
   "cell_type": "code",
   "execution_count": 79,
   "id": "4e7611c5-48ef-4714-adf4-85f934003a41",
   "metadata": {},
   "outputs": [
    {
     "data": {
      "text/html": [
       "<style>#sk-container-id-4 {color: black;background-color: white;}#sk-container-id-4 pre{padding: 0;}#sk-container-id-4 div.sk-toggleable {background-color: white;}#sk-container-id-4 label.sk-toggleable__label {cursor: pointer;display: block;width: 100%;margin-bottom: 0;padding: 0.3em;box-sizing: border-box;text-align: center;}#sk-container-id-4 label.sk-toggleable__label-arrow:before {content: \"▸\";float: left;margin-right: 0.25em;color: #696969;}#sk-container-id-4 label.sk-toggleable__label-arrow:hover:before {color: black;}#sk-container-id-4 div.sk-estimator:hover label.sk-toggleable__label-arrow:before {color: black;}#sk-container-id-4 div.sk-toggleable__content {max-height: 0;max-width: 0;overflow: hidden;text-align: left;background-color: #f0f8ff;}#sk-container-id-4 div.sk-toggleable__content pre {margin: 0.2em;color: black;border-radius: 0.25em;background-color: #f0f8ff;}#sk-container-id-4 input.sk-toggleable__control:checked~div.sk-toggleable__content {max-height: 200px;max-width: 100%;overflow: auto;}#sk-container-id-4 input.sk-toggleable__control:checked~label.sk-toggleable__label-arrow:before {content: \"▾\";}#sk-container-id-4 div.sk-estimator input.sk-toggleable__control:checked~label.sk-toggleable__label {background-color: #d4ebff;}#sk-container-id-4 div.sk-label input.sk-toggleable__control:checked~label.sk-toggleable__label {background-color: #d4ebff;}#sk-container-id-4 input.sk-hidden--visually {border: 0;clip: rect(1px 1px 1px 1px);clip: rect(1px, 1px, 1px, 1px);height: 1px;margin: -1px;overflow: hidden;padding: 0;position: absolute;width: 1px;}#sk-container-id-4 div.sk-estimator {font-family: monospace;background-color: #f0f8ff;border: 1px dotted black;border-radius: 0.25em;box-sizing: border-box;margin-bottom: 0.5em;}#sk-container-id-4 div.sk-estimator:hover {background-color: #d4ebff;}#sk-container-id-4 div.sk-parallel-item::after {content: \"\";width: 100%;border-bottom: 1px solid gray;flex-grow: 1;}#sk-container-id-4 div.sk-label:hover label.sk-toggleable__label {background-color: #d4ebff;}#sk-container-id-4 div.sk-serial::before {content: \"\";position: absolute;border-left: 1px solid gray;box-sizing: border-box;top: 0;bottom: 0;left: 50%;z-index: 0;}#sk-container-id-4 div.sk-serial {display: flex;flex-direction: column;align-items: center;background-color: white;padding-right: 0.2em;padding-left: 0.2em;position: relative;}#sk-container-id-4 div.sk-item {position: relative;z-index: 1;}#sk-container-id-4 div.sk-parallel {display: flex;align-items: stretch;justify-content: center;background-color: white;position: relative;}#sk-container-id-4 div.sk-item::before, #sk-container-id-4 div.sk-parallel-item::before {content: \"\";position: absolute;border-left: 1px solid gray;box-sizing: border-box;top: 0;bottom: 0;left: 50%;z-index: -1;}#sk-container-id-4 div.sk-parallel-item {display: flex;flex-direction: column;z-index: 1;position: relative;background-color: white;}#sk-container-id-4 div.sk-parallel-item:first-child::after {align-self: flex-end;width: 50%;}#sk-container-id-4 div.sk-parallel-item:last-child::after {align-self: flex-start;width: 50%;}#sk-container-id-4 div.sk-parallel-item:only-child::after {width: 0;}#sk-container-id-4 div.sk-dashed-wrapped {border: 1px dashed gray;margin: 0 0.4em 0.5em 0.4em;box-sizing: border-box;padding-bottom: 0.4em;background-color: white;}#sk-container-id-4 div.sk-label label {font-family: monospace;font-weight: bold;display: inline-block;line-height: 1.2em;}#sk-container-id-4 div.sk-label-container {text-align: center;}#sk-container-id-4 div.sk-container {/* jupyter's `normalize.less` sets `[hidden] { display: none; }` but bootstrap.min.css set `[hidden] { display: none !important; }` so we also need the `!important` here to be able to override the default hidden behavior on the sphinx rendered scikit-learn.org. See: https://github.com/scikit-learn/scikit-learn/issues/21755 */display: inline-block !important;position: relative;}#sk-container-id-4 div.sk-text-repr-fallback {display: none;}</style><div id=\"sk-container-id-4\" class=\"sk-top-container\"><div class=\"sk-text-repr-fallback\"><pre>XGBClassifier(base_score=None, booster=None, callbacks=None,\n",
       "              colsample_bylevel=None, colsample_bynode=None,\n",
       "              colsample_bytree=None, early_stopping_rounds=None,\n",
       "              enable_categorical=False, eval_metric=None, feature_types=None,\n",
       "              gamma=None, gpu_id=None, grow_policy=None, importance_type=None,\n",
       "              interaction_constraints=None, learning_rate=None, max_bin=None,\n",
       "              max_cat_threshold=None, max_cat_to_onehot=None,\n",
       "              max_delta_step=None, max_depth=None, max_leaves=None,\n",
       "              min_child_weight=None, missing=nan, monotone_constraints=None,\n",
       "              n_estimators=100, n_jobs=None, num_parallel_tree=None,\n",
       "              predictor=None, random_state=None, ...)</pre><b>In a Jupyter environment, please rerun this cell to show the HTML representation or trust the notebook. <br />On GitHub, the HTML representation is unable to render, please try loading this page with nbviewer.org.</b></div><div class=\"sk-container\" hidden><div class=\"sk-item\"><div class=\"sk-estimator sk-toggleable\"><input class=\"sk-toggleable__control sk-hidden--visually\" id=\"sk-estimator-id-4\" type=\"checkbox\" checked><label for=\"sk-estimator-id-4\" class=\"sk-toggleable__label sk-toggleable__label-arrow\">XGBClassifier</label><div class=\"sk-toggleable__content\"><pre>XGBClassifier(base_score=None, booster=None, callbacks=None,\n",
       "              colsample_bylevel=None, colsample_bynode=None,\n",
       "              colsample_bytree=None, early_stopping_rounds=None,\n",
       "              enable_categorical=False, eval_metric=None, feature_types=None,\n",
       "              gamma=None, gpu_id=None, grow_policy=None, importance_type=None,\n",
       "              interaction_constraints=None, learning_rate=None, max_bin=None,\n",
       "              max_cat_threshold=None, max_cat_to_onehot=None,\n",
       "              max_delta_step=None, max_depth=None, max_leaves=None,\n",
       "              min_child_weight=None, missing=nan, monotone_constraints=None,\n",
       "              n_estimators=100, n_jobs=None, num_parallel_tree=None,\n",
       "              predictor=None, random_state=None, ...)</pre></div></div></div></div></div>"
      ],
      "text/plain": [
       "XGBClassifier(base_score=None, booster=None, callbacks=None,\n",
       "              colsample_bylevel=None, colsample_bynode=None,\n",
       "              colsample_bytree=None, early_stopping_rounds=None,\n",
       "              enable_categorical=False, eval_metric=None, feature_types=None,\n",
       "              gamma=None, gpu_id=None, grow_policy=None, importance_type=None,\n",
       "              interaction_constraints=None, learning_rate=None, max_bin=None,\n",
       "              max_cat_threshold=None, max_cat_to_onehot=None,\n",
       "              max_delta_step=None, max_depth=None, max_leaves=None,\n",
       "              min_child_weight=None, missing=nan, monotone_constraints=None,\n",
       "              n_estimators=100, n_jobs=None, num_parallel_tree=None,\n",
       "              predictor=None, random_state=None, ...)"
      ]
     },
     "execution_count": 79,
     "metadata": {},
     "output_type": "execute_result"
    }
   ],
   "source": [
    "xgb_model.fit(X_train_sm, y_train_sm)"
   ]
  },
  {
   "cell_type": "code",
   "execution_count": 80,
   "id": "74f9d0c1-9377-4014-a62c-f4122df473f3",
   "metadata": {},
   "outputs": [],
   "source": [
    "y_pred = xgb_model.predict(X_test)\n"
   ]
  },
  {
   "cell_type": "code",
   "execution_count": 81,
   "id": "5142bc02-1a95-4a4d-9152-e42ff45bd069",
   "metadata": {},
   "outputs": [
    {
     "name": "stdout",
     "output_type": "stream",
     "text": [
      "              precision    recall  f1-score   support\n",
      "\n",
      "           0       1.00      0.95      0.97    767313\n",
      "           1       0.70      0.97      0.81     84868\n",
      "\n",
      "    accuracy                           0.95    852181\n",
      "   macro avg       0.85      0.96      0.89    852181\n",
      "weighted avg       0.97      0.95      0.96    852181\n",
      "\n"
     ]
    }
   ],
   "source": [
    "from sklearn.metrics import classification_report\n",
    "print(classification_report(list(y_test), y_pred))"
   ]
  },
  {
   "cell_type": "code",
   "execution_count": 83,
   "id": "0fb295d0-27e4-4618-bf95-5202c39d4dd0",
   "metadata": {},
   "outputs": [
    {
     "data": {
      "text/plain": [
       "<Axes: title={'center': 'Feature importance'}, xlabel='F score', ylabel='Features'>"
      ]
     },
     "execution_count": 83,
     "metadata": {},
     "output_type": "execute_result"
    },
    {
     "data": {
      "image/png": "[encoded data removed]",
      "text/plain": [
       "<Figure size 640x480 with 1 Axes>"
      ]
     },
     "metadata": {},
     "output_type": "display_data"
    }
   ],
   "source": [
    "xgb.plot_importance(xgb_model)\n"
   ]
  },
  {
   "cell_type": "code",
   "execution_count": null,
   "id": "6c910561-068a-4861-b586-6a4d0dec8c73",
   "metadata": {},
   "outputs": [],
   "source": []
  }
 ],
 "metadata": {
  "kernelspec": {
   "display_name": "ml_env",
   "language": "python",
   "name": "ml_env"
  },
  "language_info": {
   "codemirror_mode": {
    "name": "ipython",
    "version": 3
   },
   "file_extension": ".py",
   "mimetype": "text/x-python",
   "name": "python",
   "nbconvert_exporter": "python",
   "pygments_lexer": "ipython3",
   "version": "3.8.2"
  }
 },
 "nbformat": 4,
 "nbformat_minor": 5
}
