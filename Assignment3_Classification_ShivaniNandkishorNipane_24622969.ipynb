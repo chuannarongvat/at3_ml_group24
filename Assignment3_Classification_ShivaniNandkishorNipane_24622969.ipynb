{
 "cells": [
  {
   "cell_type": "code",
   "execution_count": 1,
   "id": "866714c8",
   "metadata": {
    "id": "866714c8"
   },
   "outputs": [],
   "source": [
    "import os\n",
    "import numpy as np\n",
    "import pandas as pd\n",
    "import seaborn as sns\n",
    "import matplotlib.pyplot as plt"
   ]
  },
  {
   "cell_type": "markdown",
   "id": "ySFM-AZyjsjx",
   "metadata": {
    "id": "ySFM-AZyjsjx"
   },
   "source": [
    "# 0. Preprocessing\n",
    "\n",
    "Using the code we are merging all the csv files for better understanding of the data."
   ]
  },
  {
   "cell_type": "code",
   "execution_count": 2,
   "id": "zPjVnFrvjW-J",
   "metadata": {
    "colab": {
     "base_uri": "https://localhost:8080/"
    },
    "id": "zPjVnFrvjW-J",
    "outputId": "42e5b751-6cab-43f7-a165-eeac5b2222af"
   },
   "outputs": [
    {
     "name": "stdout",
     "output_type": "stream",
     "text": [
      ".ipynb_checkpoints is not a CSV file. Skipping...\n",
      "customers.csv is not a CSV file. Skipping...\n",
      "Reading transactions_0.csv...\n",
      "Reading transactions_1.csv...\n",
      "Reading transactions_10.csv...\n",
      "Reading transactions_100.csv...\n",
      "Reading transactions_101.csv...\n",
      "Reading transactions_102.csv...\n",
      "Reading transactions_103.csv...\n",
      "Reading transactions_104.csv...\n",
      "Reading transactions_105.csv...\n",
      "Reading transactions_106.csv...\n",
      "Reading transactions_107.csv...\n",
      "Reading transactions_108.csv...\n",
      "Reading transactions_109.csv...\n",
      "Reading transactions_11.csv...\n",
      "Reading transactions_110.csv...\n",
      "Reading transactions_111.csv...\n",
      "Reading transactions_112.csv...\n",
      "Reading transactions_113.csv...\n",
      "Reading transactions_114.csv...\n",
      "Reading transactions_115.csv...\n",
      "Reading transactions_116.csv...\n",
      "Reading transactions_117.csv...\n",
      "Reading transactions_118.csv...\n",
      "Reading transactions_119.csv...\n",
      "Reading transactions_12.csv...\n",
      "Reading transactions_120.csv...\n",
      "Reading transactions_121.csv...\n",
      "Reading transactions_122.csv...\n",
      "Reading transactions_123.csv...\n",
      "Reading transactions_124.csv...\n",
      "Reading transactions_125.csv...\n",
      "Reading transactions_126.csv...\n",
      "Reading transactions_127.csv...\n",
      "Reading transactions_128.csv...\n",
      "Reading transactions_129.csv...\n",
      "Reading transactions_13.csv...\n",
      "Reading transactions_130.csv...\n",
      "Reading transactions_131.csv...\n",
      "Reading transactions_14.csv...\n",
      "Reading transactions_15.csv...\n",
      "Reading transactions_16.csv...\n",
      "Reading transactions_17.csv...\n",
      "Reading transactions_18.csv...\n",
      "Reading transactions_19.csv...\n",
      "Reading transactions_2.csv...\n",
      "Reading transactions_20.csv...\n",
      "Reading transactions_21.csv...\n",
      "Reading transactions_22.csv...\n",
      "Reading transactions_23.csv...\n",
      "Reading transactions_24.csv...\n",
      "Reading transactions_25.csv...\n",
      "Reading transactions_26.csv...\n",
      "Reading transactions_27.csv...\n",
      "Reading transactions_28.csv...\n",
      "Reading transactions_29.csv...\n",
      "Reading transactions_3.csv...\n",
      "Reading transactions_30.csv...\n",
      "Reading transactions_31.csv...\n",
      "Reading transactions_32.csv...\n",
      "Reading transactions_33.csv...\n",
      "Reading transactions_34.csv...\n",
      "Reading transactions_35.csv...\n",
      "Reading transactions_36.csv...\n",
      "Reading transactions_37.csv...\n",
      "Reading transactions_38.csv...\n",
      "Reading transactions_39.csv...\n",
      "Reading transactions_4.csv...\n",
      "Reading transactions_40.csv...\n",
      "Reading transactions_41.csv...\n",
      "Reading transactions_42.csv...\n",
      "Reading transactions_43.csv...\n",
      "Reading transactions_44.csv...\n",
      "Reading transactions_45.csv...\n",
      "Reading transactions_46.csv...\n",
      "Reading transactions_47.csv...\n",
      "Reading transactions_48.csv...\n",
      "Reading transactions_49.csv...\n",
      "Reading transactions_5.csv...\n",
      "Reading transactions_50.csv...\n",
      "Reading transactions_51.csv...\n",
      "Reading transactions_52.csv...\n",
      "Reading transactions_53.csv...\n",
      "Reading transactions_54.csv...\n",
      "Reading transactions_55.csv...\n",
      "Reading transactions_56.csv...\n",
      "Reading transactions_57.csv...\n",
      "Reading transactions_58.csv...\n",
      "Reading transactions_59.csv...\n",
      "Reading transactions_6.csv...\n",
      "Reading transactions_60.csv...\n",
      "Reading transactions_61.csv...\n",
      "Reading transactions_62.csv...\n",
      "Reading transactions_63.csv...\n",
      "Reading transactions_64.csv...\n",
      "Reading transactions_65.csv...\n",
      "Reading transactions_66.csv...\n",
      "Reading transactions_67.csv...\n",
      "Reading transactions_68.csv...\n",
      "Reading transactions_69.csv...\n",
      "Reading transactions_7.csv...\n",
      "Reading transactions_70.csv...\n",
      "Reading transactions_71.csv...\n",
      "Reading transactions_72.csv...\n",
      "Reading transactions_73.csv...\n",
      "Reading transactions_74.csv...\n",
      "Reading transactions_75.csv...\n",
      "Reading transactions_76.csv...\n",
      "Reading transactions_77.csv...\n",
      "Reading transactions_78.csv...\n",
      "Reading transactions_79.csv...\n",
      "Reading transactions_8.csv...\n",
      "Reading transactions_80.csv...\n",
      "Reading transactions_81.csv...\n",
      "Reading transactions_82.csv...\n",
      "Reading transactions_83.csv...\n",
      "Reading transactions_84.csv...\n",
      "Reading transactions_85.csv...\n",
      "Reading transactions_86.csv...\n",
      "Reading transactions_87.csv...\n",
      "Reading transactions_88.csv...\n",
      "Reading transactions_89.csv...\n",
      "Reading transactions_9.csv...\n",
      "Reading transactions_90.csv...\n",
      "Reading transactions_91.csv...\n",
      "Reading transactions_92.csv...\n",
      "Reading transactions_93.csv...\n",
      "Reading transactions_94.csv...\n",
      "Reading transactions_95.csv...\n",
      "Reading transactions_96.csv...\n",
      "Reading transactions_97.csv...\n",
      "Reading transactions_98.csv...\n",
      "Reading transactions_99.csv...\n",
      "Successfully merged 132 dataframes into one.\n"
     ]
    }
   ],
   "source": [
    "customer_df = pd.read_csv('final/customers.csv', sep='|')\n",
    "\n",
    "directory = './final'\n",
    "dfs = []\n",
    "\n",
    "for filename in os.listdir(directory):\n",
    "    if filename.startswith('transactions'):\n",
    "        print(f'Reading {filename}...')\n",
    "        filepath = os.path.join(directory, filename)\n",
    "        df = pd.read_csv(filepath, sep='|')\n",
    "        dfs.append(df)\n",
    "    else:\n",
    "        print(f'{filename} is not a CSV file. Skipping...')\n",
    "\n",
    "if len(dfs) > 0:\n",
    "    transaction_df = pd.concat(dfs, ignore_index=True)\n",
    "    print(f'Successfully merged {len(dfs)} dataframes into one.')\n",
    "else:\n",
    "    print('No CSV files found in directory.')\n",
    "\n",
    "df = customer_df.merge(transaction_df, on=['cc_num', 'acct_num'])"
   ]
  },
  {
   "cell_type": "markdown",
   "id": "5f29f264",
   "metadata": {},
   "source": [
    "This line of code is used to determine the distribution of the is_fraud column in the DataFrame df. The value_counts method counts the occurrence of each unique value in the is_fraud column. When the normalize=True parameter is used, the method returns the relative frequencies of the unique values (the proportion rather than the count).\n",
    "\n",
    "For a binary classification problem like fraud detection, where is_fraud is likely to be 1 (fraud) or 0 (non-fraud), this line of code will provide the proportion of fraudulent and non-fraudulent transactions in the dataset. This can help identify if the dataset is imbalanced, which is a common situation in fraud detection."
   ]
  },
  {
   "cell_type": "code",
   "execution_count": 3,
   "id": "r9RdeQP5jWy7",
   "metadata": {
    "colab": {
     "base_uri": "https://localhost:8080/"
    },
    "id": "r9RdeQP5jWy7",
    "outputId": "358e2d74-e446-40f5-f682-7544598bbb21"
   },
   "outputs": [
    {
     "data": {
      "text/plain": [
       "0    0.998819\n",
       "1    0.001181\n",
       "Name: is_fraud, dtype: float64"
      ]
     },
     "execution_count": 3,
     "metadata": {},
     "output_type": "execute_result"
    }
   ],
   "source": [
    "df['is_fraud'].value_counts(normalize=True)"
   ]
  },
  {
   "cell_type": "markdown",
   "id": "df064637",
   "metadata": {},
   "source": [
    "This output suggests that 98.75% of the transactions are non-fraudulent and 1.25% are fraudulent, indicating a highly imbalanced dataset. In such a case, special techniques may be needed when building the machine learning model to ensure that it can accurately predict the minority class (fraud)."
   ]
  },
  {
   "cell_type": "markdown",
   "id": "0594aa9f",
   "metadata": {
    "id": "0594aa9f"
   },
   "source": [
    "# 1. Exploratory Data Analysis"
   ]
  },
  {
   "cell_type": "code",
   "execution_count": 4,
   "id": "-zVoezB0j_cV",
   "metadata": {
    "id": "-zVoezB0j_cV"
   },
   "outputs": [],
   "source": [
    "data = df"
   ]
  },
  {
   "cell_type": "code",
   "execution_count": 5,
   "id": "df24d55c",
   "metadata": {
    "colab": {
     "base_uri": "https://localhost:8080/"
    },
    "id": "df24d55c",
    "outputId": "6e87bd53-571f-4841-e84b-3c1cdbf3c890"
   },
   "outputs": [
    {
     "data": {
      "text/plain": [
       "(4260904, 23)"
      ]
     },
     "execution_count": 5,
     "metadata": {},
     "output_type": "execute_result"
    }
   ],
   "source": [
    "data.shape"
   ]
  },
  {
   "cell_type": "markdown",
   "id": "8fb37ca5",
   "metadata": {
    "id": "8fb37ca5"
   },
   "source": [
    "```text\n",
    "- ssn: Social Security Number of the customer (object)\n",
    "- cc_num: Credit card number of the customer (object)\n",
    "- first: First name of the customer (object)\n",
    "- last: Last name of the customer (object)\n",
    "- gender: Gender of the customer (object)\n",
    "- street: Street address of the customer (object)\n",
    "- city: City of the customer (object)\n",
    "- state: State of the customer (object)\n",
    "- zip: Zip code of the customer (integer)\n",
    "- lat: Latitude of the customer's location (float)\n",
    "- long: Longitude of the customer's location (float)\n",
    "- city_pop: Population of the city where the customer is located (integer)\n",
    "- job: Occupation of the customer (object)\n",
    "- dob: Date of birth of the customer (object)\n",
    "- acct_num: Bank account number of the customer (object)\n",
    "- trans_num: Transaction number (object)\n",
    "- unix_time: Unix timestamp of the transaction (object)\n",
    "- category: Category of the transaction (object)\n",
    "- amt: Amount of the transaction (float)\n",
    "- is_fraud: Indicates whether the transaction is fraudulent or not (object)\n",
    "- merchant: Name of the merchant involved in the transaction (object)\n",
    "- merch_lat: Latitude of the merchant's location (float)\n",
    "- merch_long: Longitude of the merchant's location (float)\n",
    "```"
   ]
  },
  {
   "cell_type": "code",
   "execution_count": 6,
   "id": "11a98a71",
   "metadata": {
    "colab": {
     "base_uri": "https://localhost:8080/",
     "height": 358
    },
    "id": "11a98a71",
    "outputId": "a2e4684b-ac3a-4da8-ba42-94addb54cfba"
   },
   "outputs": [
    {
     "data": {
      "text/html": [
       "<div>\n",
       "<style scoped>\n",
       "    .dataframe tbody tr th:only-of-type {\n",
       "        vertical-align: middle;\n",
       "    }\n",
       "\n",
       "    .dataframe tbody tr th {\n",
       "        vertical-align: top;\n",
       "    }\n",
       "\n",
       "    .dataframe thead th {\n",
       "        text-align: right;\n",
       "    }\n",
       "</style>\n",
       "<table border=\"1\" class=\"dataframe\">\n",
       "  <thead>\n",
       "    <tr style=\"text-align: right;\">\n",
       "      <th></th>\n",
       "      <th>ssn</th>\n",
       "      <th>cc_num</th>\n",
       "      <th>first</th>\n",
       "      <th>last</th>\n",
       "      <th>gender</th>\n",
       "      <th>street</th>\n",
       "      <th>city</th>\n",
       "      <th>state</th>\n",
       "      <th>zip</th>\n",
       "      <th>lat</th>\n",
       "      <th>...</th>\n",
       "      <th>dob</th>\n",
       "      <th>acct_num</th>\n",
       "      <th>trans_num</th>\n",
       "      <th>unix_time</th>\n",
       "      <th>category</th>\n",
       "      <th>amt</th>\n",
       "      <th>is_fraud</th>\n",
       "      <th>merchant</th>\n",
       "      <th>merch_lat</th>\n",
       "      <th>merch_long</th>\n",
       "    </tr>\n",
       "  </thead>\n",
       "  <tbody>\n",
       "    <tr>\n",
       "      <th>0</th>\n",
       "      <td>115-04-4507</td>\n",
       "      <td>4218196001337</td>\n",
       "      <td>Jonathan</td>\n",
       "      <td>Johnson</td>\n",
       "      <td>M</td>\n",
       "      <td>863 Lawrence Valleys</td>\n",
       "      <td>Ambler</td>\n",
       "      <td>PA</td>\n",
       "      <td>19002</td>\n",
       "      <td>40.1809</td>\n",
       "      <td>...</td>\n",
       "      <td>1959-10-03</td>\n",
       "      <td>888022315787</td>\n",
       "      <td>91ab12e73ef38206e1121e9648d2408d</td>\n",
       "      <td>1558719550</td>\n",
       "      <td>gas_transport</td>\n",
       "      <td>69.12</td>\n",
       "      <td>0</td>\n",
       "      <td>Phillips Group</td>\n",
       "      <td>39.491416</td>\n",
       "      <td>-75.588522</td>\n",
       "    </tr>\n",
       "    <tr>\n",
       "      <th>1</th>\n",
       "      <td>115-04-4507</td>\n",
       "      <td>4218196001337</td>\n",
       "      <td>Jonathan</td>\n",
       "      <td>Johnson</td>\n",
       "      <td>M</td>\n",
       "      <td>863 Lawrence Valleys</td>\n",
       "      <td>Ambler</td>\n",
       "      <td>PA</td>\n",
       "      <td>19002</td>\n",
       "      <td>40.1809</td>\n",
       "      <td>...</td>\n",
       "      <td>1959-10-03</td>\n",
       "      <td>888022315787</td>\n",
       "      <td>071553d533a6822a4431c354c434ddcb</td>\n",
       "      <td>1569425519</td>\n",
       "      <td>grocery_pos</td>\n",
       "      <td>68.11</td>\n",
       "      <td>0</td>\n",
       "      <td>Tucker Ltd</td>\n",
       "      <td>40.890319</td>\n",
       "      <td>-75.573359</td>\n",
       "    </tr>\n",
       "    <tr>\n",
       "      <th>2</th>\n",
       "      <td>115-04-4507</td>\n",
       "      <td>4218196001337</td>\n",
       "      <td>Jonathan</td>\n",
       "      <td>Johnson</td>\n",
       "      <td>M</td>\n",
       "      <td>863 Lawrence Valleys</td>\n",
       "      <td>Ambler</td>\n",
       "      <td>PA</td>\n",
       "      <td>19002</td>\n",
       "      <td>40.1809</td>\n",
       "      <td>...</td>\n",
       "      <td>1959-10-03</td>\n",
       "      <td>888022315787</td>\n",
       "      <td>0cfad38ef15e4749eff68dc83f62c151</td>\n",
       "      <td>1577205601</td>\n",
       "      <td>misc_net</td>\n",
       "      <td>40.35</td>\n",
       "      <td>0</td>\n",
       "      <td>Dixon PLC</td>\n",
       "      <td>39.244958</td>\n",
       "      <td>-74.475327</td>\n",
       "    </tr>\n",
       "  </tbody>\n",
       "</table>\n",
       "<p>3 rows × 23 columns</p>\n",
       "</div>"
      ],
      "text/plain": [
       "           ssn         cc_num     first     last gender                street  \\\n",
       "0  115-04-4507  4218196001337  Jonathan  Johnson      M  863 Lawrence Valleys   \n",
       "1  115-04-4507  4218196001337  Jonathan  Johnson      M  863 Lawrence Valleys   \n",
       "2  115-04-4507  4218196001337  Jonathan  Johnson      M  863 Lawrence Valleys   \n",
       "\n",
       "     city state    zip      lat  ...         dob      acct_num  \\\n",
       "0  Ambler    PA  19002  40.1809  ...  1959-10-03  888022315787   \n",
       "1  Ambler    PA  19002  40.1809  ...  1959-10-03  888022315787   \n",
       "2  Ambler    PA  19002  40.1809  ...  1959-10-03  888022315787   \n",
       "\n",
       "                          trans_num   unix_time       category    amt  \\\n",
       "0  91ab12e73ef38206e1121e9648d2408d  1558719550  gas_transport  69.12   \n",
       "1  071553d533a6822a4431c354c434ddcb  1569425519    grocery_pos  68.11   \n",
       "2  0cfad38ef15e4749eff68dc83f62c151  1577205601       misc_net  40.35   \n",
       "\n",
       "  is_fraud        merchant  merch_lat merch_long  \n",
       "0        0  Phillips Group  39.491416 -75.588522  \n",
       "1        0      Tucker Ltd  40.890319 -75.573359  \n",
       "2        0       Dixon PLC  39.244958 -74.475327  \n",
       "\n",
       "[3 rows x 23 columns]"
      ]
     },
     "execution_count": 6,
     "metadata": {},
     "output_type": "execute_result"
    }
   ],
   "source": [
    "data.head(3)"
   ]
  },
  {
   "cell_type": "code",
   "execution_count": 7,
   "id": "26e9e7c8",
   "metadata": {
    "colab": {
     "base_uri": "https://localhost:8080/"
    },
    "id": "26e9e7c8",
    "outputId": "88d5b4d5-a13b-4285-d010-840fe2032438"
   },
   "outputs": [
    {
     "name": "stdout",
     "output_type": "stream",
     "text": [
      "Data shape: (4260904, 23)\n"
     ]
    }
   ],
   "source": [
    "print('Data shape:', data.shape)"
   ]
  },
  {
   "cell_type": "markdown",
   "id": "03e9a7e0",
   "metadata": {
    "id": "03e9a7e0"
   },
   "source": [
    "Check missing values"
   ]
  },
  {
   "cell_type": "code",
   "execution_count": 8,
   "id": "20ea17f7",
   "metadata": {
    "colab": {
     "base_uri": "https://localhost:8080/"
    },
    "id": "20ea17f7",
    "outputId": "d4dae48d-bfbe-4c36-87bc-c5ee6ef769cc"
   },
   "outputs": [
    {
     "data": {
      "text/plain": [
       "ssn           0\n",
       "cc_num        0\n",
       "first         0\n",
       "last          0\n",
       "gender        0\n",
       "street        0\n",
       "city          0\n",
       "state         0\n",
       "zip           0\n",
       "lat           0\n",
       "long          0\n",
       "city_pop      0\n",
       "job           0\n",
       "dob           0\n",
       "acct_num      0\n",
       "trans_num     0\n",
       "unix_time     0\n",
       "category      0\n",
       "amt           0\n",
       "is_fraud      0\n",
       "merchant      0\n",
       "merch_lat     0\n",
       "merch_long    0\n",
       "dtype: int64"
      ]
     },
     "execution_count": 8,
     "metadata": {},
     "output_type": "execute_result"
    }
   ],
   "source": [
    "data.isna().sum()"
   ]
  },
  {
   "cell_type": "code",
   "execution_count": 9,
   "id": "7904d63c",
   "metadata": {
    "colab": {
     "base_uri": "https://localhost:8080/",
     "height": 300
    },
    "id": "7904d63c",
    "outputId": "d3597996-ac79-416e-827a-6c1a31d8a918"
   },
   "outputs": [
    {
     "data": {
      "text/html": [
       "<div>\n",
       "<style scoped>\n",
       "    .dataframe tbody tr th:only-of-type {\n",
       "        vertical-align: middle;\n",
       "    }\n",
       "\n",
       "    .dataframe tbody tr th {\n",
       "        vertical-align: top;\n",
       "    }\n",
       "\n",
       "    .dataframe thead th {\n",
       "        text-align: right;\n",
       "    }\n",
       "</style>\n",
       "<table border=\"1\" class=\"dataframe\">\n",
       "  <thead>\n",
       "    <tr style=\"text-align: right;\">\n",
       "      <th></th>\n",
       "      <th>zip</th>\n",
       "      <th>lat</th>\n",
       "      <th>long</th>\n",
       "      <th>city_pop</th>\n",
       "      <th>amt</th>\n",
       "      <th>merch_lat</th>\n",
       "      <th>merch_long</th>\n",
       "    </tr>\n",
       "  </thead>\n",
       "  <tbody>\n",
       "    <tr>\n",
       "      <th>count</th>\n",
       "      <td>4.260904e+06</td>\n",
       "      <td>4.260904e+06</td>\n",
       "      <td>4.260904e+06</td>\n",
       "      <td>4.260904e+06</td>\n",
       "      <td>4.260904e+06</td>\n",
       "      <td>4.260904e+06</td>\n",
       "      <td>4.260904e+06</td>\n",
       "    </tr>\n",
       "    <tr>\n",
       "      <th>mean</th>\n",
       "      <td>5.190384e+04</td>\n",
       "      <td>3.735269e+01</td>\n",
       "      <td>-9.247593e+01</td>\n",
       "      <td>3.038011e+05</td>\n",
       "      <td>6.898790e+01</td>\n",
       "      <td>3.735276e+01</td>\n",
       "      <td>-9.247610e+01</td>\n",
       "    </tr>\n",
       "    <tr>\n",
       "      <th>std</th>\n",
       "      <td>2.996720e+04</td>\n",
       "      <td>5.474364e+00</td>\n",
       "      <td>1.740613e+01</td>\n",
       "      <td>5.696231e+05</td>\n",
       "      <td>1.618467e+02</td>\n",
       "      <td>5.504630e+00</td>\n",
       "      <td>1.741603e+01</td>\n",
       "    </tr>\n",
       "    <tr>\n",
       "      <th>min</th>\n",
       "      <td>1.571000e+03</td>\n",
       "      <td>1.958930e+01</td>\n",
       "      <td>-1.593683e+02</td>\n",
       "      <td>1.050000e+02</td>\n",
       "      <td>1.000000e+00</td>\n",
       "      <td>1.859001e+01</td>\n",
       "      <td>-1.603677e+02</td>\n",
       "    </tr>\n",
       "    <tr>\n",
       "      <th>25%</th>\n",
       "      <td>2.750500e+04</td>\n",
       "      <td>3.378360e+01</td>\n",
       "      <td>-9.868950e+01</td>\n",
       "      <td>2.010300e+04</td>\n",
       "      <td>9.100000e+00</td>\n",
       "      <td>3.370138e+01</td>\n",
       "      <td>-9.903072e+01</td>\n",
       "    </tr>\n",
       "    <tr>\n",
       "      <th>50%</th>\n",
       "      <td>4.920200e+04</td>\n",
       "      <td>3.824200e+01</td>\n",
       "      <td>-8.717940e+01</td>\n",
       "      <td>6.759300e+04</td>\n",
       "      <td>4.449000e+01</td>\n",
       "      <td>3.819365e+01</td>\n",
       "      <td>-8.727445e+01</td>\n",
       "    </tr>\n",
       "    <tr>\n",
       "      <th>75%</th>\n",
       "      <td>7.870400e+04</td>\n",
       "      <td>4.098200e+01</td>\n",
       "      <td>-7.994400e+01</td>\n",
       "      <td>2.420370e+05</td>\n",
       "      <td>8.158000e+01</td>\n",
       "      <td>4.120567e+01</td>\n",
       "      <td>-7.966098e+01</td>\n",
       "    </tr>\n",
       "    <tr>\n",
       "      <th>max</th>\n",
       "      <td>9.970500e+04</td>\n",
       "      <td>6.478050e+01</td>\n",
       "      <td>-6.824480e+01</td>\n",
       "      <td>2.906700e+06</td>\n",
       "      <td>4.130053e+04</td>\n",
       "      <td>6.577610e+01</td>\n",
       "      <td>-6.724632e+01</td>\n",
       "    </tr>\n",
       "  </tbody>\n",
       "</table>\n",
       "</div>"
      ],
      "text/plain": [
       "                zip           lat          long      city_pop           amt  \\\n",
       "count  4.260904e+06  4.260904e+06  4.260904e+06  4.260904e+06  4.260904e+06   \n",
       "mean   5.190384e+04  3.735269e+01 -9.247593e+01  3.038011e+05  6.898790e+01   \n",
       "std    2.996720e+04  5.474364e+00  1.740613e+01  5.696231e+05  1.618467e+02   \n",
       "min    1.571000e+03  1.958930e+01 -1.593683e+02  1.050000e+02  1.000000e+00   \n",
       "25%    2.750500e+04  3.378360e+01 -9.868950e+01  2.010300e+04  9.100000e+00   \n",
       "50%    4.920200e+04  3.824200e+01 -8.717940e+01  6.759300e+04  4.449000e+01   \n",
       "75%    7.870400e+04  4.098200e+01 -7.994400e+01  2.420370e+05  8.158000e+01   \n",
       "max    9.970500e+04  6.478050e+01 -6.824480e+01  2.906700e+06  4.130053e+04   \n",
       "\n",
       "          merch_lat    merch_long  \n",
       "count  4.260904e+06  4.260904e+06  \n",
       "mean   3.735276e+01 -9.247610e+01  \n",
       "std    5.504630e+00  1.741603e+01  \n",
       "min    1.859001e+01 -1.603677e+02  \n",
       "25%    3.370138e+01 -9.903072e+01  \n",
       "50%    3.819365e+01 -8.727445e+01  \n",
       "75%    4.120567e+01 -7.966098e+01  \n",
       "max    6.577610e+01 -6.724632e+01  "
      ]
     },
     "execution_count": 9,
     "metadata": {},
     "output_type": "execute_result"
    }
   ],
   "source": [
    "data.describe()"
   ]
  },
  {
   "cell_type": "code",
   "execution_count": 10,
   "id": "dc45e6b2",
   "metadata": {
    "colab": {
     "base_uri": "https://localhost:8080/",
     "height": 551
    },
    "id": "dc45e6b2",
    "outputId": "16ab3e48-6e0c-4552-892c-c741b16cd038"
   },
   "outputs": [
    {
     "data": {
      "text/html": [
       "<div>\n",
       "<style scoped>\n",
       "    .dataframe tbody tr th:only-of-type {\n",
       "        vertical-align: middle;\n",
       "    }\n",
       "\n",
       "    .dataframe tbody tr th {\n",
       "        vertical-align: top;\n",
       "    }\n",
       "\n",
       "    .dataframe thead th {\n",
       "        text-align: right;\n",
       "    }\n",
       "</style>\n",
       "<table border=\"1\" class=\"dataframe\">\n",
       "  <thead>\n",
       "    <tr style=\"text-align: right;\">\n",
       "      <th></th>\n",
       "      <th>count</th>\n",
       "      <th>unique</th>\n",
       "      <th>top</th>\n",
       "      <th>freq</th>\n",
       "    </tr>\n",
       "  </thead>\n",
       "  <tbody>\n",
       "    <tr>\n",
       "      <th>ssn</th>\n",
       "      <td>4260904</td>\n",
       "      <td>983</td>\n",
       "      <td>205-73-5783</td>\n",
       "      <td>10912</td>\n",
       "    </tr>\n",
       "    <tr>\n",
       "      <th>cc_num</th>\n",
       "      <td>4260904</td>\n",
       "      <td>983</td>\n",
       "      <td>347208496498560</td>\n",
       "      <td>10912</td>\n",
       "    </tr>\n",
       "    <tr>\n",
       "      <th>first</th>\n",
       "      <td>4260904</td>\n",
       "      <td>365</td>\n",
       "      <td>Jennifer</td>\n",
       "      <td>108945</td>\n",
       "    </tr>\n",
       "    <tr>\n",
       "      <th>last</th>\n",
       "      <td>4260904</td>\n",
       "      <td>479</td>\n",
       "      <td>Williams</td>\n",
       "      <td>110907</td>\n",
       "    </tr>\n",
       "    <tr>\n",
       "      <th>gender</th>\n",
       "      <td>4260904</td>\n",
       "      <td>2</td>\n",
       "      <td>F</td>\n",
       "      <td>2175896</td>\n",
       "    </tr>\n",
       "    <tr>\n",
       "      <th>street</th>\n",
       "      <td>4260904</td>\n",
       "      <td>983</td>\n",
       "      <td>2531 Diane Landing Apt. 510</td>\n",
       "      <td>10912</td>\n",
       "    </tr>\n",
       "    <tr>\n",
       "      <th>city</th>\n",
       "      <td>4260904</td>\n",
       "      <td>726</td>\n",
       "      <td>Brooklyn</td>\n",
       "      <td>74282</td>\n",
       "    </tr>\n",
       "    <tr>\n",
       "      <th>state</th>\n",
       "      <td>4260904</td>\n",
       "      <td>51</td>\n",
       "      <td>CA</td>\n",
       "      <td>505426</td>\n",
       "    </tr>\n",
       "    <tr>\n",
       "      <th>job</th>\n",
       "      <td>4260904</td>\n",
       "      <td>505</td>\n",
       "      <td>Computer games developer</td>\n",
       "      <td>33859</td>\n",
       "    </tr>\n",
       "    <tr>\n",
       "      <th>dob</th>\n",
       "      <td>4260904</td>\n",
       "      <td>962</td>\n",
       "      <td>1999-12-23</td>\n",
       "      <td>16747</td>\n",
       "    </tr>\n",
       "    <tr>\n",
       "      <th>acct_num</th>\n",
       "      <td>4260904</td>\n",
       "      <td>983</td>\n",
       "      <td>11546128003</td>\n",
       "      <td>10912</td>\n",
       "    </tr>\n",
       "    <tr>\n",
       "      <th>trans_num</th>\n",
       "      <td>4260904</td>\n",
       "      <td>4260904</td>\n",
       "      <td>91ab12e73ef38206e1121e9648d2408d</td>\n",
       "      <td>1</td>\n",
       "    </tr>\n",
       "    <tr>\n",
       "      <th>unix_time</th>\n",
       "      <td>4260904</td>\n",
       "      <td>4114752</td>\n",
       "      <td>1671189002</td>\n",
       "      <td>5</td>\n",
       "    </tr>\n",
       "    <tr>\n",
       "      <th>category</th>\n",
       "      <td>4260904</td>\n",
       "      <td>14</td>\n",
       "      <td>shopping_pos</td>\n",
       "      <td>420268</td>\n",
       "    </tr>\n",
       "    <tr>\n",
       "      <th>is_fraud</th>\n",
       "      <td>4260904</td>\n",
       "      <td>2</td>\n",
       "      <td>0</td>\n",
       "      <td>4255870</td>\n",
       "    </tr>\n",
       "    <tr>\n",
       "      <th>merchant</th>\n",
       "      <td>4260904</td>\n",
       "      <td>21977</td>\n",
       "      <td>Smith PLC</td>\n",
       "      <td>5737</td>\n",
       "    </tr>\n",
       "  </tbody>\n",
       "</table>\n",
       "</div>"
      ],
      "text/plain": [
       "             count   unique                               top     freq\n",
       "ssn        4260904      983                       205-73-5783    10912\n",
       "cc_num     4260904      983                   347208496498560    10912\n",
       "first      4260904      365                          Jennifer   108945\n",
       "last       4260904      479                          Williams   110907\n",
       "gender     4260904        2                                 F  2175896\n",
       "street     4260904      983       2531 Diane Landing Apt. 510    10912\n",
       "city       4260904      726                          Brooklyn    74282\n",
       "state      4260904       51                                CA   505426\n",
       "job        4260904      505          Computer games developer    33859\n",
       "dob        4260904      962                        1999-12-23    16747\n",
       "acct_num   4260904      983                       11546128003    10912\n",
       "trans_num  4260904  4260904  91ab12e73ef38206e1121e9648d2408d        1\n",
       "unix_time  4260904  4114752                        1671189002        5\n",
       "category   4260904       14                      shopping_pos   420268\n",
       "is_fraud   4260904        2                                 0  4255870\n",
       "merchant   4260904    21977                         Smith PLC     5737"
      ]
     },
     "execution_count": 10,
     "metadata": {},
     "output_type": "execute_result"
    }
   ],
   "source": [
    "data.select_dtypes(include=['object']).describe().T"
   ]
  },
  {
   "cell_type": "markdown",
   "id": "a31d67e6",
   "metadata": {},
   "source": [
    "The output will provide a useful overview of the categorical data in the DataFrame, and it can be especially helpful for exploratory data analysis."
   ]
  },
  {
   "cell_type": "markdown",
   "id": "9d7eaaa6",
   "metadata": {
    "id": "9d7eaaa6"
   },
   "source": [
    "Target is highly imbalanced. 99.9% of the data is non-fraudulent transactions."
   ]
  },
  {
   "cell_type": "code",
   "execution_count": 11,
   "id": "6ac7d853",
   "metadata": {
    "colab": {
     "base_uri": "https://localhost:8080/"
    },
    "id": "6ac7d853",
    "outputId": "5cab5a52-df31-4a98-d355-4c27fc8a0ded"
   },
   "outputs": [
    {
     "data": {
      "text/plain": [
       "0    0.998819\n",
       "1    0.001181\n",
       "Name: is_fraud, dtype: float64"
      ]
     },
     "execution_count": 11,
     "metadata": {},
     "output_type": "execute_result"
    }
   ],
   "source": [
    "target = 'is_fraud'\n",
    "\n",
    "data[target].value_counts(normalize=True)"
   ]
  },
  {
   "cell_type": "markdown",
   "id": "afcbe28e",
   "metadata": {},
   "source": [
    "The output will be the distribution of non-fraudulent and fraudulent transactions in the dataset. This is important for understanding whether the dataset is balanced or imbalanced."
   ]
  },
  {
   "cell_type": "markdown",
   "id": "2aa07b77",
   "metadata": {},
   "source": [
    "In this output, approximately 99.88% of the transactions are non-fraudulent and 0.011% are fraudulent. This indicates that the dataset is highly imbalanced, which is a common situation in fraud detection. Special techniques might be required when building the machine learning model to ensure that it can accurately predict the minority class (fraud)."
   ]
  },
  {
   "cell_type": "markdown",
   "id": "25629b5f",
   "metadata": {
    "id": "25629b5f"
   },
   "source": [
    "# 2. Feature Engineering\n",
    "\n",
    "This process is a part of the feature selection step in machine learning model preparation, where irrelevant or less important features are removed to reduce noise, overfitting, and computational cost. In this case, it seems that the features being dropped are unique identifiers that likely have no predictive power for the target variable"
   ]
  },
  {
   "cell_type": "code",
   "execution_count": 12,
   "id": "624a2970",
   "metadata": {
    "colab": {
     "base_uri": "https://localhost:8080/",
     "height": 358
    },
    "id": "624a2970",
    "outputId": "a4bac447-8182-4131-a2e6-f5416f592583"
   },
   "outputs": [
    {
     "data": {
      "text/html": [
       "<div>\n",
       "<style scoped>\n",
       "    .dataframe tbody tr th:only-of-type {\n",
       "        vertical-align: middle;\n",
       "    }\n",
       "\n",
       "    .dataframe tbody tr th {\n",
       "        vertical-align: top;\n",
       "    }\n",
       "\n",
       "    .dataframe thead th {\n",
       "        text-align: right;\n",
       "    }\n",
       "</style>\n",
       "<table border=\"1\" class=\"dataframe\">\n",
       "  <thead>\n",
       "    <tr style=\"text-align: right;\">\n",
       "      <th></th>\n",
       "      <th>ssn</th>\n",
       "      <th>cc_num</th>\n",
       "      <th>first</th>\n",
       "      <th>last</th>\n",
       "      <th>gender</th>\n",
       "      <th>street</th>\n",
       "      <th>city</th>\n",
       "      <th>state</th>\n",
       "      <th>zip</th>\n",
       "      <th>lat</th>\n",
       "      <th>...</th>\n",
       "      <th>dob</th>\n",
       "      <th>acct_num</th>\n",
       "      <th>trans_num</th>\n",
       "      <th>unix_time</th>\n",
       "      <th>category</th>\n",
       "      <th>amt</th>\n",
       "      <th>is_fraud</th>\n",
       "      <th>merchant</th>\n",
       "      <th>merch_lat</th>\n",
       "      <th>merch_long</th>\n",
       "    </tr>\n",
       "  </thead>\n",
       "  <tbody>\n",
       "    <tr>\n",
       "      <th>0</th>\n",
       "      <td>115-04-4507</td>\n",
       "      <td>4218196001337</td>\n",
       "      <td>Jonathan</td>\n",
       "      <td>Johnson</td>\n",
       "      <td>M</td>\n",
       "      <td>863 Lawrence Valleys</td>\n",
       "      <td>Ambler</td>\n",
       "      <td>PA</td>\n",
       "      <td>19002</td>\n",
       "      <td>40.1809</td>\n",
       "      <td>...</td>\n",
       "      <td>1959-10-03</td>\n",
       "      <td>888022315787</td>\n",
       "      <td>91ab12e73ef38206e1121e9648d2408d</td>\n",
       "      <td>1558719550</td>\n",
       "      <td>gas_transport</td>\n",
       "      <td>69.12</td>\n",
       "      <td>0</td>\n",
       "      <td>Phillips Group</td>\n",
       "      <td>39.491416</td>\n",
       "      <td>-75.588522</td>\n",
       "    </tr>\n",
       "    <tr>\n",
       "      <th>1</th>\n",
       "      <td>115-04-4507</td>\n",
       "      <td>4218196001337</td>\n",
       "      <td>Jonathan</td>\n",
       "      <td>Johnson</td>\n",
       "      <td>M</td>\n",
       "      <td>863 Lawrence Valleys</td>\n",
       "      <td>Ambler</td>\n",
       "      <td>PA</td>\n",
       "      <td>19002</td>\n",
       "      <td>40.1809</td>\n",
       "      <td>...</td>\n",
       "      <td>1959-10-03</td>\n",
       "      <td>888022315787</td>\n",
       "      <td>071553d533a6822a4431c354c434ddcb</td>\n",
       "      <td>1569425519</td>\n",
       "      <td>grocery_pos</td>\n",
       "      <td>68.11</td>\n",
       "      <td>0</td>\n",
       "      <td>Tucker Ltd</td>\n",
       "      <td>40.890319</td>\n",
       "      <td>-75.573359</td>\n",
       "    </tr>\n",
       "    <tr>\n",
       "      <th>2</th>\n",
       "      <td>115-04-4507</td>\n",
       "      <td>4218196001337</td>\n",
       "      <td>Jonathan</td>\n",
       "      <td>Johnson</td>\n",
       "      <td>M</td>\n",
       "      <td>863 Lawrence Valleys</td>\n",
       "      <td>Ambler</td>\n",
       "      <td>PA</td>\n",
       "      <td>19002</td>\n",
       "      <td>40.1809</td>\n",
       "      <td>...</td>\n",
       "      <td>1959-10-03</td>\n",
       "      <td>888022315787</td>\n",
       "      <td>0cfad38ef15e4749eff68dc83f62c151</td>\n",
       "      <td>1577205601</td>\n",
       "      <td>misc_net</td>\n",
       "      <td>40.35</td>\n",
       "      <td>0</td>\n",
       "      <td>Dixon PLC</td>\n",
       "      <td>39.244958</td>\n",
       "      <td>-74.475327</td>\n",
       "    </tr>\n",
       "  </tbody>\n",
       "</table>\n",
       "<p>3 rows × 23 columns</p>\n",
       "</div>"
      ],
      "text/plain": [
       "           ssn         cc_num     first     last gender                street  \\\n",
       "0  115-04-4507  4218196001337  Jonathan  Johnson      M  863 Lawrence Valleys   \n",
       "1  115-04-4507  4218196001337  Jonathan  Johnson      M  863 Lawrence Valleys   \n",
       "2  115-04-4507  4218196001337  Jonathan  Johnson      M  863 Lawrence Valleys   \n",
       "\n",
       "     city state    zip      lat  ...         dob      acct_num  \\\n",
       "0  Ambler    PA  19002  40.1809  ...  1959-10-03  888022315787   \n",
       "1  Ambler    PA  19002  40.1809  ...  1959-10-03  888022315787   \n",
       "2  Ambler    PA  19002  40.1809  ...  1959-10-03  888022315787   \n",
       "\n",
       "                          trans_num   unix_time       category    amt  \\\n",
       "0  91ab12e73ef38206e1121e9648d2408d  1558719550  gas_transport  69.12   \n",
       "1  071553d533a6822a4431c354c434ddcb  1569425519    grocery_pos  68.11   \n",
       "2  0cfad38ef15e4749eff68dc83f62c151  1577205601       misc_net  40.35   \n",
       "\n",
       "  is_fraud        merchant  merch_lat merch_long  \n",
       "0        0  Phillips Group  39.491416 -75.588522  \n",
       "1        0      Tucker Ltd  40.890319 -75.573359  \n",
       "2        0       Dixon PLC  39.244958 -74.475327  \n",
       "\n",
       "[3 rows x 23 columns]"
      ]
     },
     "execution_count": 12,
     "metadata": {},
     "output_type": "execute_result"
    }
   ],
   "source": [
    "data.head(3)"
   ]
  },
  {
   "cell_type": "markdown",
   "id": "d96ece7c",
   "metadata": {
    "id": "d96ece7c"
   },
   "source": [
    "## 2.1 ID/NUM related features\n",
    "Just remove them, because they are not useful"
   ]
  },
  {
   "cell_type": "code",
   "execution_count": 13,
   "id": "3751aaf6",
   "metadata": {
    "id": "3751aaf6"
   },
   "outputs": [],
   "source": [
    "# these features are not useful for our model\n",
    "invalid_features = ['ssn', 'cc_num', 'acct_num', 'trans_num']\n",
    "\n",
    "data.drop(columns=invalid_features, inplace=True)"
   ]
  },
  {
   "cell_type": "markdown",
   "id": "2b8b6fe1",
   "metadata": {
    "id": "2b8b6fe1"
   },
   "source": [
    "## 2.2 Name\n",
    "I will drop name features as it may case bias, privacy issue"
   ]
  },
  {
   "cell_type": "code",
   "execution_count": 14,
   "id": "affe231d",
   "metadata": {
    "id": "affe231d"
   },
   "outputs": [],
   "source": [
    "data.drop(columns=['first', 'last'], inplace=True)"
   ]
  },
  {
   "cell_type": "markdown",
   "id": "004f2ee0",
   "metadata": {
    "id": "004f2ee0"
   },
   "source": [
    "## 2.3 Gender\n",
    "\n",
    "The plot shows, in the fraudulent transactions, there are more female related transactions than male."
   ]
  },
  {
   "cell_type": "code",
   "execution_count": 15,
   "id": "Z4T9g9xXleEp",
   "metadata": {
    "colab": {
     "base_uri": "https://localhost:8080/",
     "height": 314
    },
    "id": "Z4T9g9xXleEp",
    "outputId": "7331a163-a2f6-4f73-c9b5-b1bdcd0e1f2e"
   },
   "outputs": [
    {
     "data": {
      "image/png": "[encoded data removed]",
      "text/plain": [
       "<Figure size 500x300 with 1 Axes>"
      ]
     },
     "metadata": {},
     "output_type": "display_data"
    }
   ],
   "source": [
    "plt.figure(figsize=(5, 3))\n",
    "data.gender.value_counts(normalize=True).plot(kind='bar')\n",
    "plt.xticks(rotation=0)\n",
    "plt.title('Gender distribution')\n",
    "plt.show()"
   ]
  },
  {
   "cell_type": "markdown",
   "id": "17a49264",
   "metadata": {},
   "source": [
    "The code groups data by the target variable (indicating fraud) and gender, calculates the ratio of each gender within each group, and creates a bar chart to show the gender distribution in different fraud classes. The chart displays the ratio of genders for each class, with different colors representing different genders."
   ]
  },
  {
   "cell_type": "code",
   "execution_count": 16,
   "id": "m5J-2Rm7k2BQ",
   "metadata": {
    "colab": {
     "base_uri": "https://localhost:8080/",
     "height": 410
    },
    "id": "m5J-2Rm7k2BQ",
    "outputId": "d7ac0aaa-c835-4bf1-f70f-179548c1885a"
   },
   "outputs": [
    {
     "data": {
      "image/png": "[encoded data removed]",
      "text/plain": [
       "<Figure size 500x400 with 1 Axes>"
      ]
     },
     "metadata": {},
     "output_type": "display_data"
    }
   ],
   "source": [
    "# group by gender and calculate the mean of is_fraud\n",
    "gender_stats = data.groupby(target)['gender'].value_counts(normalize=True)\n",
    "gender_stats = pd.DataFrame(gender_stats)\n",
    "gender_stats.columns = ['ratio']\n",
    "gender_stats = gender_stats.reset_index()\n",
    "\n",
    "# plot bar chart, hue by gender\n",
    "plt.figure(figsize=(5, 4))\n",
    "sns.barplot(x=target, y='ratio', data=gender_stats, hue='gender', )\n",
    "plt.xlabel('Fraud')\n",
    "plt.ylabel('Ratio')\n",
    "plt.title('Gender distribution in different classes')\n",
    "plt.show()"
   ]
  },
  {
   "cell_type": "code",
   "execution_count": 17,
   "id": "1d0502c3",
   "metadata": {
    "id": "1d0502c3"
   },
   "outputs": [],
   "source": [
    "# convert gender to numeric, 0 for Male and 1 for female\n",
    "data.gender.replace({'M': 0, 'F': 1}, inplace=True)"
   ]
  },
  {
   "cell_type": "markdown",
   "id": "ad8cfeab",
   "metadata": {
    "id": "ad8cfeab"
   },
   "source": [
    "## 2.4 customer geo information\n",
    "Features like street, city, state, zip, lat, long, city_pop are all related to customer's geo information."
   ]
  },
  {
   "cell_type": "code",
   "execution_count": 18,
   "id": "69d53bbc",
   "metadata": {
    "id": "69d53bbc"
   },
   "outputs": [],
   "source": [
    "customer_geo_features = ['street', 'city', 'state', 'zip', 'lat', 'long',]"
   ]
  },
  {
   "cell_type": "code",
   "execution_count": 19,
   "id": "37de6dbc",
   "metadata": {
    "colab": {
     "base_uri": "https://localhost:8080/",
     "height": 143
    },
    "id": "37de6dbc",
    "outputId": "a9c1c5e0-bbc5-474f-a94d-a8229bafeab3"
   },
   "outputs": [
    {
     "data": {
      "text/html": [
       "<div>\n",
       "<style scoped>\n",
       "    .dataframe tbody tr th:only-of-type {\n",
       "        vertical-align: middle;\n",
       "    }\n",
       "\n",
       "    .dataframe tbody tr th {\n",
       "        vertical-align: top;\n",
       "    }\n",
       "\n",
       "    .dataframe thead th {\n",
       "        text-align: right;\n",
       "    }\n",
       "</style>\n",
       "<table border=\"1\" class=\"dataframe\">\n",
       "  <thead>\n",
       "    <tr style=\"text-align: right;\">\n",
       "      <th></th>\n",
       "      <th>street</th>\n",
       "      <th>city</th>\n",
       "      <th>state</th>\n",
       "      <th>zip</th>\n",
       "      <th>lat</th>\n",
       "      <th>long</th>\n",
       "    </tr>\n",
       "  </thead>\n",
       "  <tbody>\n",
       "    <tr>\n",
       "      <th>0</th>\n",
       "      <td>863 Lawrence Valleys</td>\n",
       "      <td>Ambler</td>\n",
       "      <td>PA</td>\n",
       "      <td>19002</td>\n",
       "      <td>40.1809</td>\n",
       "      <td>-75.2156</td>\n",
       "    </tr>\n",
       "    <tr>\n",
       "      <th>1</th>\n",
       "      <td>863 Lawrence Valleys</td>\n",
       "      <td>Ambler</td>\n",
       "      <td>PA</td>\n",
       "      <td>19002</td>\n",
       "      <td>40.1809</td>\n",
       "      <td>-75.2156</td>\n",
       "    </tr>\n",
       "    <tr>\n",
       "      <th>2</th>\n",
       "      <td>863 Lawrence Valleys</td>\n",
       "      <td>Ambler</td>\n",
       "      <td>PA</td>\n",
       "      <td>19002</td>\n",
       "      <td>40.1809</td>\n",
       "      <td>-75.2156</td>\n",
       "    </tr>\n",
       "  </tbody>\n",
       "</table>\n",
       "</div>"
      ],
      "text/plain": [
       "                 street    city state    zip      lat     long\n",
       "0  863 Lawrence Valleys  Ambler    PA  19002  40.1809 -75.2156\n",
       "1  863 Lawrence Valleys  Ambler    PA  19002  40.1809 -75.2156\n",
       "2  863 Lawrence Valleys  Ambler    PA  19002  40.1809 -75.2156"
      ]
     },
     "execution_count": 19,
     "metadata": {},
     "output_type": "execute_result"
    }
   ],
   "source": [
    "data[customer_geo_features].head(3)"
   ]
  },
  {
   "cell_type": "code",
   "execution_count": 20,
   "id": "641b427d",
   "metadata": {
    "colab": {
     "base_uri": "https://localhost:8080/",
     "height": 143
    },
    "id": "641b427d",
    "outputId": "51f5fcc7-d8cd-4e22-e2ff-2f3fa92d4119"
   },
   "outputs": [
    {
     "data": {
      "text/html": [
       "<div>\n",
       "<style scoped>\n",
       "    .dataframe tbody tr th:only-of-type {\n",
       "        vertical-align: middle;\n",
       "    }\n",
       "\n",
       "    .dataframe tbody tr th {\n",
       "        vertical-align: top;\n",
       "    }\n",
       "\n",
       "    .dataframe thead th {\n",
       "        text-align: right;\n",
       "    }\n",
       "</style>\n",
       "<table border=\"1\" class=\"dataframe\">\n",
       "  <thead>\n",
       "    <tr style=\"text-align: right;\">\n",
       "      <th></th>\n",
       "      <th>count</th>\n",
       "      <th>unique</th>\n",
       "      <th>top</th>\n",
       "      <th>freq</th>\n",
       "    </tr>\n",
       "  </thead>\n",
       "  <tbody>\n",
       "    <tr>\n",
       "      <th>street</th>\n",
       "      <td>4260904</td>\n",
       "      <td>983</td>\n",
       "      <td>2531 Diane Landing Apt. 510</td>\n",
       "      <td>10912</td>\n",
       "    </tr>\n",
       "    <tr>\n",
       "      <th>city</th>\n",
       "      <td>4260904</td>\n",
       "      <td>726</td>\n",
       "      <td>Brooklyn</td>\n",
       "      <td>74282</td>\n",
       "    </tr>\n",
       "    <tr>\n",
       "      <th>state</th>\n",
       "      <td>4260904</td>\n",
       "      <td>51</td>\n",
       "      <td>CA</td>\n",
       "      <td>505426</td>\n",
       "    </tr>\n",
       "  </tbody>\n",
       "</table>\n",
       "</div>"
      ],
      "text/plain": [
       "          count unique                          top    freq\n",
       "street  4260904    983  2531 Diane Landing Apt. 510   10912\n",
       "city    4260904    726                     Brooklyn   74282\n",
       "state   4260904     51                           CA  505426"
      ]
     },
     "execution_count": 20,
     "metadata": {},
     "output_type": "execute_result"
    }
   ],
   "source": [
    "data[['street', 'city', 'state']].describe().T"
   ]
  },
  {
   "cell_type": "code",
   "execution_count": 21,
   "id": "0048a2f3",
   "metadata": {
    "colab": {
     "base_uri": "https://localhost:8080/"
    },
    "id": "0048a2f3",
    "outputId": "124a6de0-e212-403b-e633-505eb41c9bd0"
   },
   "outputs": [
    {
     "data": {
      "text/plain": [
       "939"
      ]
     },
     "execution_count": 21,
     "metadata": {},
     "output_type": "execute_result"
    }
   ],
   "source": [
    "data.zip.nunique()"
   ]
  },
  {
   "cell_type": "markdown",
   "id": "c2db8383",
   "metadata": {
    "id": "c2db8383"
   },
   "source": [
    "Conclusions:\n",
    "1. there are 983 customers (983 ssn) and 983 unique streets, so we can use street as a unique identifier for each customer\n",
    "2. there are 726 unique cities, 51 unique states, 939 unique zip codes\n",
    "3. as street is close to zip in terms of uniqueness, I will keep any one of them, and treat it as categorical feature"
   ]
  },
  {
   "cell_type": "code",
   "execution_count": 22,
   "id": "0e899883",
   "metadata": {
    "id": "0e899883"
   },
   "outputs": [],
   "source": [
    "# drop street\n",
    "data.drop(['street'], axis=1, inplace=True)"
   ]
  },
  {
   "cell_type": "code",
   "execution_count": 23,
   "id": "080e764d",
   "metadata": {
    "id": "080e764d"
   },
   "outputs": [],
   "source": [
    "# treat city, state and zip as categorical features"
   ]
  },
  {
   "cell_type": "markdown",
   "id": "5833ad86",
   "metadata": {
    "id": "5833ad86"
   },
   "source": [
    "## 2.5 job"
   ]
  },
  {
   "cell_type": "code",
   "execution_count": 24,
   "id": "e996c2a2",
   "metadata": {
    "colab": {
     "base_uri": "https://localhost:8080/"
    },
    "id": "e996c2a2",
    "outputId": "c6fec701-d7d0-49b6-b0a3-0ffbde07070d"
   },
   "outputs": [
    {
     "data": {
      "text/plain": [
       "Computer games developer      33859\n",
       "Radio producer                28746\n",
       "Patent attorney               27990\n",
       "Teacher, adult education      27692\n",
       "General practice doctor       27279\n",
       "                              ...  \n",
       "Waste management officer        358\n",
       "Nurse, learning disability      358\n",
       "Geneticist, molecular            12\n",
       "Sales executive                   7\n",
       "Loss adjuster, chartered          7\n",
       "Name: job, Length: 505, dtype: int64"
      ]
     },
     "execution_count": 24,
     "metadata": {},
     "output_type": "execute_result"
    }
   ],
   "source": [
    "data.job.value_counts()"
   ]
  },
  {
   "cell_type": "code",
   "execution_count": 25,
   "id": "e1d4ac33",
   "metadata": {
    "colab": {
     "base_uri": "https://localhost:8080/",
     "height": 455
    },
    "id": "e1d4ac33",
    "outputId": "97e35506-4c84-47b7-8218-791aba5ce4a1"
   },
   "outputs": [
    {
     "data": {
      "text/html": [
       "<div>\n",
       "<style scoped>\n",
       "    .dataframe tbody tr th:only-of-type {\n",
       "        vertical-align: middle;\n",
       "    }\n",
       "\n",
       "    .dataframe tbody tr th {\n",
       "        vertical-align: top;\n",
       "    }\n",
       "\n",
       "    .dataframe thead th {\n",
       "        text-align: right;\n",
       "    }\n",
       "</style>\n",
       "<table border=\"1\" class=\"dataframe\">\n",
       "  <thead>\n",
       "    <tr style=\"text-align: right;\">\n",
       "      <th></th>\n",
       "      <th>mean</th>\n",
       "      <th>count</th>\n",
       "    </tr>\n",
       "    <tr>\n",
       "      <th>job</th>\n",
       "      <th></th>\n",
       "      <th></th>\n",
       "    </tr>\n",
       "  </thead>\n",
       "  <tbody>\n",
       "    <tr>\n",
       "      <th>Sales executive</th>\n",
       "      <td>1.000000</td>\n",
       "      <td>7</td>\n",
       "    </tr>\n",
       "    <tr>\n",
       "      <th>Loss adjuster, chartered</th>\n",
       "      <td>1.000000</td>\n",
       "      <td>7</td>\n",
       "    </tr>\n",
       "    <tr>\n",
       "      <th>Geneticist, molecular</th>\n",
       "      <td>1.000000</td>\n",
       "      <td>12</td>\n",
       "    </tr>\n",
       "    <tr>\n",
       "      <th>Estate manager/land agent</th>\n",
       "      <td>0.047872</td>\n",
       "      <td>376</td>\n",
       "    </tr>\n",
       "    <tr>\n",
       "      <th>Transport planner</th>\n",
       "      <td>0.029810</td>\n",
       "      <td>369</td>\n",
       "    </tr>\n",
       "    <tr>\n",
       "      <th>...</th>\n",
       "      <td>...</td>\n",
       "      <td>...</td>\n",
       "    </tr>\n",
       "    <tr>\n",
       "      <th>Quality manager</th>\n",
       "      <td>0.000000</td>\n",
       "      <td>3636</td>\n",
       "    </tr>\n",
       "    <tr>\n",
       "      <th>Engineer, maintenance (IT)</th>\n",
       "      <td>0.000000</td>\n",
       "      <td>5096</td>\n",
       "    </tr>\n",
       "    <tr>\n",
       "      <th>Commercial/residential surveyor</th>\n",
       "      <td>0.000000</td>\n",
       "      <td>3994</td>\n",
       "    </tr>\n",
       "    <tr>\n",
       "      <th>Radiation protection practitioner</th>\n",
       "      <td>0.000000</td>\n",
       "      <td>5096</td>\n",
       "    </tr>\n",
       "    <tr>\n",
       "      <th>Brewing technologist</th>\n",
       "      <td>0.000000</td>\n",
       "      <td>1790</td>\n",
       "    </tr>\n",
       "  </tbody>\n",
       "</table>\n",
       "<p>505 rows × 2 columns</p>\n",
       "</div>"
      ],
      "text/plain": [
       "                                       mean  count\n",
       "job                                               \n",
       "Sales executive                    1.000000      7\n",
       "Loss adjuster, chartered           1.000000      7\n",
       "Geneticist, molecular              1.000000     12\n",
       "Estate manager/land agent          0.047872    376\n",
       "Transport planner                  0.029810    369\n",
       "...                                     ...    ...\n",
       "Quality manager                    0.000000   3636\n",
       "Engineer, maintenance (IT)         0.000000   5096\n",
       "Commercial/residential surveyor    0.000000   3994\n",
       "Radiation protection practitioner  0.000000   5096\n",
       "Brewing technologist               0.000000   1790\n",
       "\n",
       "[505 rows x 2 columns]"
      ]
     },
     "execution_count": 25,
     "metadata": {},
     "output_type": "execute_result"
    }
   ],
   "source": [
    "# group by job and calculate the mean of is_fraud\n",
    "data.groupby('job')['is_fraud'].agg(['mean', 'count']).sort_values(by='mean', ascending=False)"
   ]
  },
  {
   "cell_type": "code",
   "execution_count": 26,
   "id": "738a0018",
   "metadata": {
    "id": "738a0018"
   },
   "outputs": [],
   "source": [
    "from IPython.display import display"
   ]
  },
  {
   "cell_type": "code",
   "execution_count": 27,
   "id": "6de34f9e",
   "metadata": {
    "colab": {
     "base_uri": "https://localhost:8080/",
     "height": 1000
    },
    "id": "6de34f9e",
    "outputId": "c3b632b0-d742-4623-b2ac-9c9a30b076be"
   },
   "outputs": [
    {
     "name": "stdout",
     "output_type": "stream",
     "text": [
      "Job: Sales executive\n"
     ]
    },
    {
     "data": {
      "text/html": [
       "<div>\n",
       "<style scoped>\n",
       "    .dataframe tbody tr th:only-of-type {\n",
       "        vertical-align: middle;\n",
       "    }\n",
       "\n",
       "    .dataframe tbody tr th {\n",
       "        vertical-align: top;\n",
       "    }\n",
       "\n",
       "    .dataframe thead th {\n",
       "        text-align: right;\n",
       "    }\n",
       "</style>\n",
       "<table border=\"1\" class=\"dataframe\">\n",
       "  <thead>\n",
       "    <tr style=\"text-align: right;\">\n",
       "      <th></th>\n",
       "      <th>gender</th>\n",
       "      <th>city</th>\n",
       "      <th>state</th>\n",
       "      <th>zip</th>\n",
       "      <th>lat</th>\n",
       "      <th>long</th>\n",
       "      <th>city_pop</th>\n",
       "      <th>job</th>\n",
       "      <th>dob</th>\n",
       "      <th>unix_time</th>\n",
       "      <th>category</th>\n",
       "      <th>amt</th>\n",
       "      <th>is_fraud</th>\n",
       "      <th>merchant</th>\n",
       "      <th>merch_lat</th>\n",
       "      <th>merch_long</th>\n",
       "    </tr>\n",
       "  </thead>\n",
       "  <tbody>\n",
       "    <tr>\n",
       "      <th>2127644</th>\n",
       "      <td>0</td>\n",
       "      <td>New Britain</td>\n",
       "      <td>CT</td>\n",
       "      <td>6053</td>\n",
       "      <td>41.6867</td>\n",
       "      <td>-72.7908</td>\n",
       "      <td>73240</td>\n",
       "      <td>Sales executive</td>\n",
       "      <td>1946-06-03</td>\n",
       "      <td>1666541548</td>\n",
       "      <td>gas_transport</td>\n",
       "      <td>14.83</td>\n",
       "      <td>1</td>\n",
       "      <td>Jennings, Wagner and Cox</td>\n",
       "      <td>41.817913</td>\n",
       "      <td>-73.507644</td>\n",
       "    </tr>\n",
       "    <tr>\n",
       "      <th>2127645</th>\n",
       "      <td>0</td>\n",
       "      <td>New Britain</td>\n",
       "      <td>CT</td>\n",
       "      <td>6053</td>\n",
       "      <td>41.6867</td>\n",
       "      <td>-72.7908</td>\n",
       "      <td>73240</td>\n",
       "      <td>Sales executive</td>\n",
       "      <td>1946-06-03</td>\n",
       "      <td>1666609442</td>\n",
       "      <td>misc_net</td>\n",
       "      <td>322.95</td>\n",
       "      <td>1</td>\n",
       "      <td>Fuentes PLC</td>\n",
       "      <td>42.201883</td>\n",
       "      <td>-71.795214</td>\n",
       "    </tr>\n",
       "    <tr>\n",
       "      <th>2127646</th>\n",
       "      <td>0</td>\n",
       "      <td>New Britain</td>\n",
       "      <td>CT</td>\n",
       "      <td>6053</td>\n",
       "      <td>41.6867</td>\n",
       "      <td>-72.7908</td>\n",
       "      <td>73240</td>\n",
       "      <td>Sales executive</td>\n",
       "      <td>1946-06-03</td>\n",
       "      <td>1666700484</td>\n",
       "      <td>shopping_pos</td>\n",
       "      <td>880.56</td>\n",
       "      <td>1</td>\n",
       "      <td>Rodriguez, Thompson and Byrd</td>\n",
       "      <td>41.921395</td>\n",
       "      <td>-73.042722</td>\n",
       "    </tr>\n",
       "    <tr>\n",
       "      <th>2127647</th>\n",
       "      <td>0</td>\n",
       "      <td>New Britain</td>\n",
       "      <td>CT</td>\n",
       "      <td>6053</td>\n",
       "      <td>41.6867</td>\n",
       "      <td>-72.7908</td>\n",
       "      <td>73240</td>\n",
       "      <td>Sales executive</td>\n",
       "      <td>1946-06-03</td>\n",
       "      <td>1666615214</td>\n",
       "      <td>misc_net</td>\n",
       "      <td>839.68</td>\n",
       "      <td>1</td>\n",
       "      <td>Nelson LLC</td>\n",
       "      <td>41.745476</td>\n",
       "      <td>-73.277530</td>\n",
       "    </tr>\n",
       "    <tr>\n",
       "      <th>2127648</th>\n",
       "      <td>0</td>\n",
       "      <td>New Britain</td>\n",
       "      <td>CT</td>\n",
       "      <td>6053</td>\n",
       "      <td>41.6867</td>\n",
       "      <td>-72.7908</td>\n",
       "      <td>73240</td>\n",
       "      <td>Sales executive</td>\n",
       "      <td>1946-06-03</td>\n",
       "      <td>1666699118</td>\n",
       "      <td>shopping_net</td>\n",
       "      <td>910.54</td>\n",
       "      <td>1</td>\n",
       "      <td>Stewart PLC</td>\n",
       "      <td>42.503237</td>\n",
       "      <td>-73.123091</td>\n",
       "    </tr>\n",
       "    <tr>\n",
       "      <th>2127649</th>\n",
       "      <td>0</td>\n",
       "      <td>New Britain</td>\n",
       "      <td>CT</td>\n",
       "      <td>6053</td>\n",
       "      <td>41.6867</td>\n",
       "      <td>-72.7908</td>\n",
       "      <td>73240</td>\n",
       "      <td>Sales executive</td>\n",
       "      <td>1946-06-03</td>\n",
       "      <td>1666701447</td>\n",
       "      <td>shopping_net</td>\n",
       "      <td>1001.57</td>\n",
       "      <td>1</td>\n",
       "      <td>Smith Ltd</td>\n",
       "      <td>42.276457</td>\n",
       "      <td>-73.487543</td>\n",
       "    </tr>\n",
       "    <tr>\n",
       "      <th>2127650</th>\n",
       "      <td>0</td>\n",
       "      <td>New Britain</td>\n",
       "      <td>CT</td>\n",
       "      <td>6053</td>\n",
       "      <td>41.6867</td>\n",
       "      <td>-72.7908</td>\n",
       "      <td>73240</td>\n",
       "      <td>Sales executive</td>\n",
       "      <td>1946-06-03</td>\n",
       "      <td>1666582942</td>\n",
       "      <td>grocery_pos</td>\n",
       "      <td>882.28</td>\n",
       "      <td>1</td>\n",
       "      <td>Smith, Griffith and Andrews</td>\n",
       "      <td>40.727976</td>\n",
       "      <td>-72.262574</td>\n",
       "    </tr>\n",
       "  </tbody>\n",
       "</table>\n",
       "</div>"
      ],
      "text/plain": [
       "         gender         city state   zip      lat     long  city_pop  \\\n",
       "2127644       0  New Britain    CT  6053  41.6867 -72.7908     73240   \n",
       "2127645       0  New Britain    CT  6053  41.6867 -72.7908     73240   \n",
       "2127646       0  New Britain    CT  6053  41.6867 -72.7908     73240   \n",
       "2127647       0  New Britain    CT  6053  41.6867 -72.7908     73240   \n",
       "2127648       0  New Britain    CT  6053  41.6867 -72.7908     73240   \n",
       "2127649       0  New Britain    CT  6053  41.6867 -72.7908     73240   \n",
       "2127650       0  New Britain    CT  6053  41.6867 -72.7908     73240   \n",
       "\n",
       "                     job         dob   unix_time       category      amt  \\\n",
       "2127644  Sales executive  1946-06-03  1666541548  gas_transport    14.83   \n",
       "2127645  Sales executive  1946-06-03  1666609442       misc_net   322.95   \n",
       "2127646  Sales executive  1946-06-03  1666700484   shopping_pos   880.56   \n",
       "2127647  Sales executive  1946-06-03  1666615214       misc_net   839.68   \n",
       "2127648  Sales executive  1946-06-03  1666699118   shopping_net   910.54   \n",
       "2127649  Sales executive  1946-06-03  1666701447   shopping_net  1001.57   \n",
       "2127650  Sales executive  1946-06-03  1666582942    grocery_pos   882.28   \n",
       "\n",
       "        is_fraud                      merchant  merch_lat  merch_long  \n",
       "2127644        1      Jennings, Wagner and Cox  41.817913  -73.507644  \n",
       "2127645        1                   Fuentes PLC  42.201883  -71.795214  \n",
       "2127646        1  Rodriguez, Thompson and Byrd  41.921395  -73.042722  \n",
       "2127647        1                    Nelson LLC  41.745476  -73.277530  \n",
       "2127648        1                   Stewart PLC  42.503237  -73.123091  \n",
       "2127649        1                     Smith Ltd  42.276457  -73.487543  \n",
       "2127650        1   Smith, Griffith and Andrews  40.727976  -72.262574  "
      ]
     },
     "metadata": {},
     "output_type": "display_data"
    },
    {
     "name": "stdout",
     "output_type": "stream",
     "text": [
      "Job: Loss adjuster, chartered\n"
     ]
    },
    {
     "data": {
      "text/html": [
       "<div>\n",
       "<style scoped>\n",
       "    .dataframe tbody tr th:only-of-type {\n",
       "        vertical-align: middle;\n",
       "    }\n",
       "\n",
       "    .dataframe tbody tr th {\n",
       "        vertical-align: top;\n",
       "    }\n",
       "\n",
       "    .dataframe thead th {\n",
       "        text-align: right;\n",
       "    }\n",
       "</style>\n",
       "<table border=\"1\" class=\"dataframe\">\n",
       "  <thead>\n",
       "    <tr style=\"text-align: right;\">\n",
       "      <th></th>\n",
       "      <th>gender</th>\n",
       "      <th>city</th>\n",
       "      <th>state</th>\n",
       "      <th>zip</th>\n",
       "      <th>lat</th>\n",
       "      <th>long</th>\n",
       "      <th>city_pop</th>\n",
       "      <th>job</th>\n",
       "      <th>dob</th>\n",
       "      <th>unix_time</th>\n",
       "      <th>category</th>\n",
       "      <th>amt</th>\n",
       "      <th>is_fraud</th>\n",
       "      <th>merchant</th>\n",
       "      <th>merch_lat</th>\n",
       "      <th>merch_long</th>\n",
       "    </tr>\n",
       "  </thead>\n",
       "  <tbody>\n",
       "    <tr>\n",
       "      <th>3347956</th>\n",
       "      <td>0</td>\n",
       "      <td>Fort Wayne</td>\n",
       "      <td>IN</td>\n",
       "      <td>46814</td>\n",
       "      <td>41.0456</td>\n",
       "      <td>-85.3058</td>\n",
       "      <td>305409</td>\n",
       "      <td>Loss adjuster, chartered</td>\n",
       "      <td>1956-10-14</td>\n",
       "      <td>1659462124</td>\n",
       "      <td>gas_transport</td>\n",
       "      <td>8.63</td>\n",
       "      <td>1</td>\n",
       "      <td>Adams, Galloway and Hale</td>\n",
       "      <td>40.169509</td>\n",
       "      <td>-86.267163</td>\n",
       "    </tr>\n",
       "    <tr>\n",
       "      <th>3347957</th>\n",
       "      <td>0</td>\n",
       "      <td>Fort Wayne</td>\n",
       "      <td>IN</td>\n",
       "      <td>46814</td>\n",
       "      <td>41.0456</td>\n",
       "      <td>-85.3058</td>\n",
       "      <td>305409</td>\n",
       "      <td>Loss adjuster, chartered</td>\n",
       "      <td>1956-10-14</td>\n",
       "      <td>1659461625</td>\n",
       "      <td>grocery_pos</td>\n",
       "      <td>280.77</td>\n",
       "      <td>1</td>\n",
       "      <td>Wright, Morris and Berry</td>\n",
       "      <td>41.995205</td>\n",
       "      <td>-86.032207</td>\n",
       "    </tr>\n",
       "    <tr>\n",
       "      <th>3347958</th>\n",
       "      <td>0</td>\n",
       "      <td>Fort Wayne</td>\n",
       "      <td>IN</td>\n",
       "      <td>46814</td>\n",
       "      <td>41.0456</td>\n",
       "      <td>-85.3058</td>\n",
       "      <td>305409</td>\n",
       "      <td>Loss adjuster, chartered</td>\n",
       "      <td>1956-10-14</td>\n",
       "      <td>1659490822</td>\n",
       "      <td>grocery_pos</td>\n",
       "      <td>318.04</td>\n",
       "      <td>1</td>\n",
       "      <td>Robinson LLC</td>\n",
       "      <td>40.390987</td>\n",
       "      <td>-86.305156</td>\n",
       "    </tr>\n",
       "    <tr>\n",
       "      <th>3347959</th>\n",
       "      <td>0</td>\n",
       "      <td>Fort Wayne</td>\n",
       "      <td>IN</td>\n",
       "      <td>46814</td>\n",
       "      <td>41.0456</td>\n",
       "      <td>-85.3058</td>\n",
       "      <td>305409</td>\n",
       "      <td>Loss adjuster, chartered</td>\n",
       "      <td>1956-10-14</td>\n",
       "      <td>1659451753</td>\n",
       "      <td>grocery_pos</td>\n",
       "      <td>289.34</td>\n",
       "      <td>1</td>\n",
       "      <td>Campbell, Morales and Lewis</td>\n",
       "      <td>41.491843</td>\n",
       "      <td>-84.516130</td>\n",
       "    </tr>\n",
       "    <tr>\n",
       "      <th>3347960</th>\n",
       "      <td>0</td>\n",
       "      <td>Fort Wayne</td>\n",
       "      <td>IN</td>\n",
       "      <td>46814</td>\n",
       "      <td>41.0456</td>\n",
       "      <td>-85.3058</td>\n",
       "      <td>305409</td>\n",
       "      <td>Loss adjuster, chartered</td>\n",
       "      <td>1956-10-14</td>\n",
       "      <td>1659620446</td>\n",
       "      <td>shopping_pos</td>\n",
       "      <td>806.60</td>\n",
       "      <td>1</td>\n",
       "      <td>Anderson-Stout</td>\n",
       "      <td>40.187452</td>\n",
       "      <td>-84.651411</td>\n",
       "    </tr>\n",
       "    <tr>\n",
       "      <th>3347961</th>\n",
       "      <td>0</td>\n",
       "      <td>Fort Wayne</td>\n",
       "      <td>IN</td>\n",
       "      <td>46814</td>\n",
       "      <td>41.0456</td>\n",
       "      <td>-85.3058</td>\n",
       "      <td>305409</td>\n",
       "      <td>Loss adjuster, chartered</td>\n",
       "      <td>1956-10-14</td>\n",
       "      <td>1659534864</td>\n",
       "      <td>misc_net</td>\n",
       "      <td>753.01</td>\n",
       "      <td>1</td>\n",
       "      <td>Wright, Brooks and Ellis</td>\n",
       "      <td>40.702016</td>\n",
       "      <td>-84.384925</td>\n",
       "    </tr>\n",
       "    <tr>\n",
       "      <th>3347962</th>\n",
       "      <td>0</td>\n",
       "      <td>Fort Wayne</td>\n",
       "      <td>IN</td>\n",
       "      <td>46814</td>\n",
       "      <td>41.0456</td>\n",
       "      <td>-85.3058</td>\n",
       "      <td>305409</td>\n",
       "      <td>Loss adjuster, chartered</td>\n",
       "      <td>1956-10-14</td>\n",
       "      <td>1659528259</td>\n",
       "      <td>misc_net</td>\n",
       "      <td>843.64</td>\n",
       "      <td>1</td>\n",
       "      <td>Cox-Morrow</td>\n",
       "      <td>42.037215</td>\n",
       "      <td>-86.134604</td>\n",
       "    </tr>\n",
       "  </tbody>\n",
       "</table>\n",
       "</div>"
      ],
      "text/plain": [
       "         gender        city state    zip      lat     long  city_pop  \\\n",
       "3347956       0  Fort Wayne    IN  46814  41.0456 -85.3058    305409   \n",
       "3347957       0  Fort Wayne    IN  46814  41.0456 -85.3058    305409   \n",
       "3347958       0  Fort Wayne    IN  46814  41.0456 -85.3058    305409   \n",
       "3347959       0  Fort Wayne    IN  46814  41.0456 -85.3058    305409   \n",
       "3347960       0  Fort Wayne    IN  46814  41.0456 -85.3058    305409   \n",
       "3347961       0  Fort Wayne    IN  46814  41.0456 -85.3058    305409   \n",
       "3347962       0  Fort Wayne    IN  46814  41.0456 -85.3058    305409   \n",
       "\n",
       "                              job         dob   unix_time       category  \\\n",
       "3347956  Loss adjuster, chartered  1956-10-14  1659462124  gas_transport   \n",
       "3347957  Loss adjuster, chartered  1956-10-14  1659461625    grocery_pos   \n",
       "3347958  Loss adjuster, chartered  1956-10-14  1659490822    grocery_pos   \n",
       "3347959  Loss adjuster, chartered  1956-10-14  1659451753    grocery_pos   \n",
       "3347960  Loss adjuster, chartered  1956-10-14  1659620446   shopping_pos   \n",
       "3347961  Loss adjuster, chartered  1956-10-14  1659534864       misc_net   \n",
       "3347962  Loss adjuster, chartered  1956-10-14  1659528259       misc_net   \n",
       "\n",
       "            amt is_fraud                     merchant  merch_lat  merch_long  \n",
       "3347956    8.63        1     Adams, Galloway and Hale  40.169509  -86.267163  \n",
       "3347957  280.77        1     Wright, Morris and Berry  41.995205  -86.032207  \n",
       "3347958  318.04        1                 Robinson LLC  40.390987  -86.305156  \n",
       "3347959  289.34        1  Campbell, Morales and Lewis  41.491843  -84.516130  \n",
       "3347960  806.60        1               Anderson-Stout  40.187452  -84.651411  \n",
       "3347961  753.01        1     Wright, Brooks and Ellis  40.702016  -84.384925  \n",
       "3347962  843.64        1                   Cox-Morrow  42.037215  -86.134604  "
      ]
     },
     "metadata": {},
     "output_type": "display_data"
    },
    {
     "name": "stdout",
     "output_type": "stream",
     "text": [
      "Job: Geneticist, molecular\n"
     ]
    },
    {
     "data": {
      "text/html": [
       "<div>\n",
       "<style scoped>\n",
       "    .dataframe tbody tr th:only-of-type {\n",
       "        vertical-align: middle;\n",
       "    }\n",
       "\n",
       "    .dataframe tbody tr th {\n",
       "        vertical-align: top;\n",
       "    }\n",
       "\n",
       "    .dataframe thead th {\n",
       "        text-align: right;\n",
       "    }\n",
       "</style>\n",
       "<table border=\"1\" class=\"dataframe\">\n",
       "  <thead>\n",
       "    <tr style=\"text-align: right;\">\n",
       "      <th></th>\n",
       "      <th>gender</th>\n",
       "      <th>city</th>\n",
       "      <th>state</th>\n",
       "      <th>zip</th>\n",
       "      <th>lat</th>\n",
       "      <th>long</th>\n",
       "      <th>city_pop</th>\n",
       "      <th>job</th>\n",
       "      <th>dob</th>\n",
       "      <th>unix_time</th>\n",
       "      <th>category</th>\n",
       "      <th>amt</th>\n",
       "      <th>is_fraud</th>\n",
       "      <th>merchant</th>\n",
       "      <th>merch_lat</th>\n",
       "      <th>merch_long</th>\n",
       "    </tr>\n",
       "  </thead>\n",
       "  <tbody>\n",
       "    <tr>\n",
       "      <th>4080333</th>\n",
       "      <td>0</td>\n",
       "      <td>Macomb</td>\n",
       "      <td>MI</td>\n",
       "      <td>48044</td>\n",
       "      <td>42.6442</td>\n",
       "      <td>-82.8985</td>\n",
       "      <td>79580</td>\n",
       "      <td>Geneticist, molecular</td>\n",
       "      <td>1939-03-27</td>\n",
       "      <td>1664811231</td>\n",
       "      <td>gas_transport</td>\n",
       "      <td>12.12</td>\n",
       "      <td>1</td>\n",
       "      <td>Heath, Williams and Brown</td>\n",
       "      <td>43.301709</td>\n",
       "      <td>-82.870610</td>\n",
       "    </tr>\n",
       "    <tr>\n",
       "      <th>4080334</th>\n",
       "      <td>0</td>\n",
       "      <td>Macomb</td>\n",
       "      <td>MI</td>\n",
       "      <td>48044</td>\n",
       "      <td>42.6442</td>\n",
       "      <td>-82.8985</td>\n",
       "      <td>79580</td>\n",
       "      <td>Geneticist, molecular</td>\n",
       "      <td>1939-03-27</td>\n",
       "      <td>1664816036</td>\n",
       "      <td>grocery_pos</td>\n",
       "      <td>320.70</td>\n",
       "      <td>1</td>\n",
       "      <td>Porter, Holland and Lawson</td>\n",
       "      <td>42.507124</td>\n",
       "      <td>-82.315205</td>\n",
       "    </tr>\n",
       "    <tr>\n",
       "      <th>4080335</th>\n",
       "      <td>0</td>\n",
       "      <td>Macomb</td>\n",
       "      <td>MI</td>\n",
       "      <td>48044</td>\n",
       "      <td>42.6442</td>\n",
       "      <td>-82.8985</td>\n",
       "      <td>79580</td>\n",
       "      <td>Geneticist, molecular</td>\n",
       "      <td>1939-03-27</td>\n",
       "      <td>1664836362</td>\n",
       "      <td>grocery_pos</td>\n",
       "      <td>308.23</td>\n",
       "      <td>1</td>\n",
       "      <td>Wong-Martinez</td>\n",
       "      <td>42.635579</td>\n",
       "      <td>-82.459486</td>\n",
       "    </tr>\n",
       "    <tr>\n",
       "      <th>4080336</th>\n",
       "      <td>0</td>\n",
       "      <td>Macomb</td>\n",
       "      <td>MI</td>\n",
       "      <td>48044</td>\n",
       "      <td>42.6442</td>\n",
       "      <td>-82.8985</td>\n",
       "      <td>79580</td>\n",
       "      <td>Geneticist, molecular</td>\n",
       "      <td>1939-03-27</td>\n",
       "      <td>1664972014</td>\n",
       "      <td>shopping_pos</td>\n",
       "      <td>308.19</td>\n",
       "      <td>1</td>\n",
       "      <td>Mathis-Brown</td>\n",
       "      <td>43.487579</td>\n",
       "      <td>-82.433696</td>\n",
       "    </tr>\n",
       "    <tr>\n",
       "      <th>4080337</th>\n",
       "      <td>0</td>\n",
       "      <td>Macomb</td>\n",
       "      <td>MI</td>\n",
       "      <td>48044</td>\n",
       "      <td>42.6442</td>\n",
       "      <td>-82.8985</td>\n",
       "      <td>79580</td>\n",
       "      <td>Geneticist, molecular</td>\n",
       "      <td>1939-03-27</td>\n",
       "      <td>1664962357</td>\n",
       "      <td>misc_net</td>\n",
       "      <td>811.95</td>\n",
       "      <td>1</td>\n",
       "      <td>Davis, Snyder and Flores</td>\n",
       "      <td>43.108139</td>\n",
       "      <td>-82.009246</td>\n",
       "    </tr>\n",
       "    <tr>\n",
       "      <th>4080338</th>\n",
       "      <td>0</td>\n",
       "      <td>Macomb</td>\n",
       "      <td>MI</td>\n",
       "      <td>48044</td>\n",
       "      <td>42.6442</td>\n",
       "      <td>-82.8985</td>\n",
       "      <td>79580</td>\n",
       "      <td>Geneticist, molecular</td>\n",
       "      <td>1939-03-27</td>\n",
       "      <td>1664971134</td>\n",
       "      <td>shopping_net</td>\n",
       "      <td>759.38</td>\n",
       "      <td>1</td>\n",
       "      <td>Wilson LLC</td>\n",
       "      <td>42.412717</td>\n",
       "      <td>-82.417483</td>\n",
       "    </tr>\n",
       "    <tr>\n",
       "      <th>4080339</th>\n",
       "      <td>0</td>\n",
       "      <td>Macomb</td>\n",
       "      <td>MI</td>\n",
       "      <td>48044</td>\n",
       "      <td>42.6442</td>\n",
       "      <td>-82.8985</td>\n",
       "      <td>79580</td>\n",
       "      <td>Geneticist, molecular</td>\n",
       "      <td>1939-03-27</td>\n",
       "      <td>1664884458</td>\n",
       "      <td>misc_net</td>\n",
       "      <td>8.08</td>\n",
       "      <td>1</td>\n",
       "      <td>Henry-Bender</td>\n",
       "      <td>43.102477</td>\n",
       "      <td>-82.830772</td>\n",
       "    </tr>\n",
       "    <tr>\n",
       "      <th>4080340</th>\n",
       "      <td>0</td>\n",
       "      <td>Macomb</td>\n",
       "      <td>MI</td>\n",
       "      <td>48044</td>\n",
       "      <td>42.6442</td>\n",
       "      <td>-82.8985</td>\n",
       "      <td>79580</td>\n",
       "      <td>Geneticist, molecular</td>\n",
       "      <td>1939-03-27</td>\n",
       "      <td>1664951921</td>\n",
       "      <td>shopping_pos</td>\n",
       "      <td>1097.29</td>\n",
       "      <td>1</td>\n",
       "      <td>Collins, Nicholson and Jones</td>\n",
       "      <td>42.950732</td>\n",
       "      <td>-83.843758</td>\n",
       "    </tr>\n",
       "    <tr>\n",
       "      <th>4080341</th>\n",
       "      <td>0</td>\n",
       "      <td>Macomb</td>\n",
       "      <td>MI</td>\n",
       "      <td>48044</td>\n",
       "      <td>42.6442</td>\n",
       "      <td>-82.8985</td>\n",
       "      <td>79580</td>\n",
       "      <td>Geneticist, molecular</td>\n",
       "      <td>1939-03-27</td>\n",
       "      <td>1664970417</td>\n",
       "      <td>food_dining</td>\n",
       "      <td>1036.85</td>\n",
       "      <td>1</td>\n",
       "      <td>Flowers-Obrien</td>\n",
       "      <td>43.046625</td>\n",
       "      <td>-83.574841</td>\n",
       "    </tr>\n",
       "    <tr>\n",
       "      <th>4080342</th>\n",
       "      <td>0</td>\n",
       "      <td>Macomb</td>\n",
       "      <td>MI</td>\n",
       "      <td>48044</td>\n",
       "      <td>42.6442</td>\n",
       "      <td>-82.8985</td>\n",
       "      <td>79580</td>\n",
       "      <td>Geneticist, molecular</td>\n",
       "      <td>1939-03-27</td>\n",
       "      <td>1664969064</td>\n",
       "      <td>shopping_net</td>\n",
       "      <td>1013.80</td>\n",
       "      <td>1</td>\n",
       "      <td>Simmons LLC</td>\n",
       "      <td>42.818848</td>\n",
       "      <td>-82.583576</td>\n",
       "    </tr>\n",
       "    <tr>\n",
       "      <th>4080343</th>\n",
       "      <td>0</td>\n",
       "      <td>Macomb</td>\n",
       "      <td>MI</td>\n",
       "      <td>48044</td>\n",
       "      <td>42.6442</td>\n",
       "      <td>-82.8985</td>\n",
       "      <td>79580</td>\n",
       "      <td>Geneticist, molecular</td>\n",
       "      <td>1939-03-27</td>\n",
       "      <td>1664969600</td>\n",
       "      <td>misc_pos</td>\n",
       "      <td>945.76</td>\n",
       "      <td>1</td>\n",
       "      <td>Rice, Vincent and Larson</td>\n",
       "      <td>42.396814</td>\n",
       "      <td>-83.375875</td>\n",
       "    </tr>\n",
       "    <tr>\n",
       "      <th>4080344</th>\n",
       "      <td>0</td>\n",
       "      <td>Macomb</td>\n",
       "      <td>MI</td>\n",
       "      <td>48044</td>\n",
       "      <td>42.6442</td>\n",
       "      <td>-82.8985</td>\n",
       "      <td>79580</td>\n",
       "      <td>Geneticist, molecular</td>\n",
       "      <td>1939-03-27</td>\n",
       "      <td>1664881470</td>\n",
       "      <td>grocery_pos</td>\n",
       "      <td>113.15</td>\n",
       "      <td>1</td>\n",
       "      <td>Frank, Raymond and Gray</td>\n",
       "      <td>43.033121</td>\n",
       "      <td>-83.794252</td>\n",
       "    </tr>\n",
       "  </tbody>\n",
       "</table>\n",
       "</div>"
      ],
      "text/plain": [
       "         gender    city state    zip      lat     long  city_pop  \\\n",
       "4080333       0  Macomb    MI  48044  42.6442 -82.8985     79580   \n",
       "4080334       0  Macomb    MI  48044  42.6442 -82.8985     79580   \n",
       "4080335       0  Macomb    MI  48044  42.6442 -82.8985     79580   \n",
       "4080336       0  Macomb    MI  48044  42.6442 -82.8985     79580   \n",
       "4080337       0  Macomb    MI  48044  42.6442 -82.8985     79580   \n",
       "4080338       0  Macomb    MI  48044  42.6442 -82.8985     79580   \n",
       "4080339       0  Macomb    MI  48044  42.6442 -82.8985     79580   \n",
       "4080340       0  Macomb    MI  48044  42.6442 -82.8985     79580   \n",
       "4080341       0  Macomb    MI  48044  42.6442 -82.8985     79580   \n",
       "4080342       0  Macomb    MI  48044  42.6442 -82.8985     79580   \n",
       "4080343       0  Macomb    MI  48044  42.6442 -82.8985     79580   \n",
       "4080344       0  Macomb    MI  48044  42.6442 -82.8985     79580   \n",
       "\n",
       "                           job         dob   unix_time       category  \\\n",
       "4080333  Geneticist, molecular  1939-03-27  1664811231  gas_transport   \n",
       "4080334  Geneticist, molecular  1939-03-27  1664816036    grocery_pos   \n",
       "4080335  Geneticist, molecular  1939-03-27  1664836362    grocery_pos   \n",
       "4080336  Geneticist, molecular  1939-03-27  1664972014   shopping_pos   \n",
       "4080337  Geneticist, molecular  1939-03-27  1664962357       misc_net   \n",
       "4080338  Geneticist, molecular  1939-03-27  1664971134   shopping_net   \n",
       "4080339  Geneticist, molecular  1939-03-27  1664884458       misc_net   \n",
       "4080340  Geneticist, molecular  1939-03-27  1664951921   shopping_pos   \n",
       "4080341  Geneticist, molecular  1939-03-27  1664970417    food_dining   \n",
       "4080342  Geneticist, molecular  1939-03-27  1664969064   shopping_net   \n",
       "4080343  Geneticist, molecular  1939-03-27  1664969600       misc_pos   \n",
       "4080344  Geneticist, molecular  1939-03-27  1664881470    grocery_pos   \n",
       "\n",
       "             amt is_fraud                      merchant  merch_lat  merch_long  \n",
       "4080333    12.12        1     Heath, Williams and Brown  43.301709  -82.870610  \n",
       "4080334   320.70        1    Porter, Holland and Lawson  42.507124  -82.315205  \n",
       "4080335   308.23        1                 Wong-Martinez  42.635579  -82.459486  \n",
       "4080336   308.19        1                  Mathis-Brown  43.487579  -82.433696  \n",
       "4080337   811.95        1      Davis, Snyder and Flores  43.108139  -82.009246  \n",
       "4080338   759.38        1                    Wilson LLC  42.412717  -82.417483  \n",
       "4080339     8.08        1                  Henry-Bender  43.102477  -82.830772  \n",
       "4080340  1097.29        1  Collins, Nicholson and Jones  42.950732  -83.843758  \n",
       "4080341  1036.85        1                Flowers-Obrien  43.046625  -83.574841  \n",
       "4080342  1013.80        1                   Simmons LLC  42.818848  -82.583576  \n",
       "4080343   945.76        1      Rice, Vincent and Larson  42.396814  -83.375875  \n",
       "4080344   113.15        1       Frank, Raymond and Gray  43.033121  -83.794252  "
      ]
     },
     "metadata": {},
     "output_type": "display_data"
    }
   ],
   "source": [
    "for job in ['Sales executive', 'Loss adjuster, chartered', 'Geneticist, molecular']:\n",
    "    df = data[data.job == job]\n",
    "    print('Job:', job)\n",
    "    display(df)"
   ]
  },
  {
   "cell_type": "markdown",
   "id": "f53f393b",
   "metadata": {
    "id": "f53f393b"
   },
   "source": [
    "Conclusion: \n",
    "\n",
    "- the mean of fraud rate for these jobs are 1., but it does not mean that all the customers with these jobs are fraudsters, just because the number of customers with these jobs are very small."
   ]
  },
  {
   "cell_type": "markdown",
   "id": "bcdc02ed",
   "metadata": {
    "id": "bcdc02ed"
   },
   "source": [
    "# 2.6 dob\n",
    "Calculate the age of the customer, and drop dob"
   ]
  },
  {
   "cell_type": "code",
   "execution_count": 28,
   "id": "6f059014",
   "metadata": {
    "id": "6f059014"
   },
   "outputs": [],
   "source": [
    "dob = data[['dob']].drop_duplicates()"
   ]
  },
  {
   "cell_type": "code",
   "execution_count": 29,
   "id": "6dc50b6e",
   "metadata": {
    "colab": {
     "base_uri": "https://localhost:8080/",
     "height": 143
    },
    "id": "6dc50b6e",
    "outputId": "b606b1e7-9597-4a3a-f03e-e8566c60c5eb"
   },
   "outputs": [
    {
     "data": {
      "text/html": [
       "<div>\n",
       "<style scoped>\n",
       "    .dataframe tbody tr th:only-of-type {\n",
       "        vertical-align: middle;\n",
       "    }\n",
       "\n",
       "    .dataframe tbody tr th {\n",
       "        vertical-align: top;\n",
       "    }\n",
       "\n",
       "    .dataframe thead th {\n",
       "        text-align: right;\n",
       "    }\n",
       "</style>\n",
       "<table border=\"1\" class=\"dataframe\">\n",
       "  <thead>\n",
       "    <tr style=\"text-align: right;\">\n",
       "      <th></th>\n",
       "      <th>dob</th>\n",
       "    </tr>\n",
       "  </thead>\n",
       "  <tbody>\n",
       "    <tr>\n",
       "      <th>0</th>\n",
       "      <td>1959-10-03</td>\n",
       "    </tr>\n",
       "    <tr>\n",
       "      <th>3278</th>\n",
       "      <td>1963-06-07</td>\n",
       "    </tr>\n",
       "    <tr>\n",
       "      <th>4749</th>\n",
       "      <td>1973-05-30</td>\n",
       "    </tr>\n",
       "  </tbody>\n",
       "</table>\n",
       "</div>"
      ],
      "text/plain": [
       "             dob\n",
       "0     1959-10-03\n",
       "3278  1963-06-07\n",
       "4749  1973-05-30"
      ]
     },
     "execution_count": 29,
     "metadata": {},
     "output_type": "execute_result"
    }
   ],
   "source": [
    "dob.head(3)"
   ]
  },
  {
   "cell_type": "code",
   "execution_count": 30,
   "id": "0a974e96",
   "metadata": {
    "id": "0a974e96"
   },
   "outputs": [],
   "source": [
    "dob['age'] = dob.dob.apply(lambda x: 2023 - int(x.split('-')[0]))\n",
    "data = data.merge(dob, on='dob', how='left')\n",
    "data.drop(columns=['dob'], inplace=True)"
   ]
  },
  {
   "cell_type": "code",
   "execution_count": 31,
   "id": "qvDsLsTimBAE",
   "metadata": {
    "colab": {
     "base_uri": "https://localhost:8080/",
     "height": 927
    },
    "id": "qvDsLsTimBAE",
    "outputId": "9d2b3e63-5fa5-4fb8-a264-26e3280bd853"
   },
   "outputs": [
    {
     "data": {
      "image/png": "[encoded data removed]",
      "text/plain": [
       "<Figure size 640x480 with 1 Axes>"
      ]
     },
     "metadata": {},
     "output_type": "display_data"
    },
    {
     "data": {
      "image/png": "[encoded data removed]",
      "text/plain": [
       "<Figure size 640x480 with 1 Axes>"
      ]
     },
     "metadata": {},
     "output_type": "display_data"
    }
   ],
   "source": [
    "# distribution of age by is_fraud\n",
    "for label in (0, 1):\n",
    "    sub_df = data[data[target] == label]\n",
    "    sns.histplot(data=sub_df, x=\"age\", kde=True, bins=10)\n",
    "    plt.title(f'Age distribution in class {label}')\n",
    "    plt.show()"
   ]
  },
  {
   "cell_type": "markdown",
   "id": "uVegNpxtnhHh",
   "metadata": {
    "id": "uVegNpxtnhHh"
   },
   "source": [
    "Conclusion\n",
    "- As is show in the plot, in the fraudulent transactions, the age between 20\\~30, 40\\~50 and 60s are more frequent."
   ]
  },
  {
   "cell_type": "markdown",
   "id": "5e0e250a",
   "metadata": {
    "id": "5e0e250a"
   },
   "source": [
    "# 2.7 unix_time"
   ]
  },
  {
   "cell_type": "code",
   "execution_count": 32,
   "id": "be41d775",
   "metadata": {
    "colab": {
     "base_uri": "https://localhost:8080/"
    },
    "id": "be41d775",
    "outputId": "0c9105ba-55d8-4e84-ad23-bdb526965d6d"
   },
   "outputs": [
    {
     "name": "stdout",
     "output_type": "stream",
     "text": [
      "month: 5\n"
     ]
    }
   ],
   "source": [
    "unix_time = 1558719550\n",
    "# get month, day, hour, minute\n",
    "print('month:', pd.to_datetime(unix_time, unit='s').month)"
   ]
  },
  {
   "cell_type": "code",
   "execution_count": 33,
   "id": "1ceeeb07",
   "metadata": {
    "id": "1ceeeb07"
   },
   "outputs": [],
   "source": [
    "unix_time = pd.to_datetime(data.unix_time, unit='s')"
   ]
  },
  {
   "cell_type": "code",
   "execution_count": 34,
   "id": "4220df69",
   "metadata": {
    "id": "4220df69"
   },
   "outputs": [],
   "source": [
    "data['trans_year'] = unix_time.dt.year\n",
    "data['trans_month'] = unix_time.dt.month\n",
    "data['trans_day'] = unix_time.dt.day\n",
    "data['trans_hour'] = unix_time.dt.hour"
   ]
  },
  {
   "cell_type": "code",
   "execution_count": 35,
   "id": "7fa70b16",
   "metadata": {
    "id": "7fa70b16"
   },
   "outputs": [],
   "source": [
    "data.drop(columns=['unix_time'], inplace=True)"
   ]
  },
  {
   "cell_type": "code",
   "execution_count": null,
   "id": "Qs13jkGvoUsV",
   "metadata": {
    "id": "Qs13jkGvoUsV"
   },
   "outputs": [],
   "source": []
  },
  {
   "cell_type": "code",
   "execution_count": 36,
   "id": "FKcypqk_oV-k",
   "metadata": {
    "colab": {
     "base_uri": "https://localhost:8080/",
     "height": 410
    },
    "id": "FKcypqk_oV-k",
    "outputId": "b95291c1-29a1-4f2b-b122-3a317dcc2331"
   },
   "outputs": [
    {
     "data": {
      "image/png": "[encoded data removed]",
      "text/plain": [
       "<Figure size 500x400 with 1 Axes>"
      ]
     },
     "metadata": {},
     "output_type": "display_data"
    }
   ],
   "source": [
    "# groupy by year and calculate the mean of is_fraud\n",
    "yearly = data.groupby('trans_year')['is_fraud'].mean().sort_index(ascending=True)\n",
    "\n",
    "plt.figure(figsize=(5, 4))\n",
    "yearly.plot(kind='line', marker='o')\n",
    "plt.xticks(rotation=0)\n",
    "plt.xlabel('Year')\n",
    "plt.ylabel('Fraud rate')\n",
    "plt.title('Fraud rate by year')\n",
    "plt.xticks(yearly.index, yearly.index)\n",
    "plt.show()"
   ]
  },
  {
   "cell_type": "code",
   "execution_count": 37,
   "id": "IuRtQ-mFn75I",
   "metadata": {
    "colab": {
     "base_uri": "https://localhost:8080/",
     "height": 410
    },
    "id": "IuRtQ-mFn75I",
    "outputId": "5d08069c-18b5-4163-dcbb-3a675f144589"
   },
   "outputs": [
    {
     "data": {
      "image/png": "[encoded data removed]",
      "text/plain": [
       "<Figure size 500x400 with 1 Axes>"
      ]
     },
     "metadata": {},
     "output_type": "display_data"
    }
   ],
   "source": [
    "monthly = data.groupby('trans_month')['is_fraud'].mean().sort_index(ascending=True)\n",
    "\n",
    "plt.figure(figsize=(5, 4))\n",
    "monthly.plot(kind='line', marker='o')\n",
    "plt.xticks(rotation=0)\n",
    "plt.xlabel('Month')\n",
    "plt.ylabel('Fraud rate')\n",
    "plt.title('Fraud rate by month')\n",
    "plt.xticks(monthly.index, monthly.index)\n",
    "plt.show()"
   ]
  },
  {
   "cell_type": "code",
   "execution_count": 38,
   "id": "rOHHNZaVn7tR",
   "metadata": {
    "colab": {
     "base_uri": "https://localhost:8080/",
     "height": 410
    },
    "id": "rOHHNZaVn7tR",
    "outputId": "f75cc241-d30f-4b60-ea8c-0086cea9f4bd"
   },
   "outputs": [
    {
     "data": {
      "image/png": "[encoded data removed]",
      "text/plain": [
       "<Figure size 1200x400 with 1 Axes>"
      ]
     },
     "metadata": {},
     "output_type": "display_data"
    }
   ],
   "source": [
    "daily = data.groupby('trans_day')['is_fraud'].mean().sort_index(ascending=True)\n",
    "\n",
    "plt.figure(figsize=(12, 4))\n",
    "daily.plot(kind='line', marker='o')\n",
    "plt.xticks(rotation=0)\n",
    "plt.xlabel('Day')\n",
    "plt.ylabel('Fraud rate')\n",
    "plt.title('Fraud rate by day')\n",
    "plt.xticks(daily.index, daily.index)\n",
    "\n",
    "plt.show()"
   ]
  },
  {
   "cell_type": "code",
   "execution_count": 39,
   "id": "xCiTwXVlpseh",
   "metadata": {
    "colab": {
     "base_uri": "https://localhost:8080/"
    },
    "id": "xCiTwXVlpseh",
    "outputId": "480e5daf-c352-4d42-d728-9eb6d1488a21"
   },
   "outputs": [
    {
     "data": {
      "text/plain": [
       "trans_month\n",
       "1     0.001528\n",
       "2     0.001656\n",
       "3     0.001696\n",
       "4     0.001587\n",
       "5     0.001715\n",
       "6     0.001318\n",
       "7     0.000816\n",
       "8     0.000907\n",
       "9     0.001207\n",
       "10    0.001194\n",
       "11    0.001267\n",
       "12    0.000406\n",
       "Name: is_fraud, dtype: float64"
      ]
     },
     "execution_count": 39,
     "metadata": {},
     "output_type": "execute_result"
    }
   ],
   "source": [
    "monthly"
   ]
  },
  {
   "cell_type": "markdown",
   "id": "lDBM0wFqo7Uj",
   "metadata": {
    "id": "lDBM0wFqo7Uj"
   },
   "source": [
    "Conclusions:\n",
    "-  The fraud rates appear to exhibit some seasonal variation. Months 6 and 7 (June and July) have the lowest fraud rates, while months 4 and 5 (April and May) have the highest fraud rates. This suggests a possible pattern where fraud rates increase during the spring season and decrease during the summer months.\n",
    "- The fraud rate experiences a significant drop in December (month 12), with a value of 0.000406. This could be due to increased security measures and vigilance during the holiday season when fraudulent activities are often targeted."
   ]
  },
  {
   "cell_type": "markdown",
   "id": "64cc742b",
   "metadata": {
    "id": "64cc742b"
   },
   "source": [
    "## 2.8 Trans category\n",
    "category"
   ]
  },
  {
   "cell_type": "code",
   "execution_count": 40,
   "id": "8273489a",
   "metadata": {
    "colab": {
     "base_uri": "https://localhost:8080/"
    },
    "id": "8273489a",
    "outputId": "8132d806-ef97-44cf-cc8f-379a55cbc644"
   },
   "outputs": [
    {
     "data": {
      "text/plain": [
       "shopping_pos      420268\n",
       "home              403237\n",
       "grocery_pos       401000\n",
       "kids_pets         372055\n",
       "gas_transport     365233\n",
       "food_dining       320989\n",
       "entertainment     312478\n",
       "shopping_net      307013\n",
       "personal_care     300730\n",
       "misc_pos          281977\n",
       "health_fitness    265986\n",
       "misc_net          191290\n",
       "grocery_net       181614\n",
       "travel            137034\n",
       "Name: category, dtype: int64"
      ]
     },
     "execution_count": 40,
     "metadata": {},
     "output_type": "execute_result"
    }
   ],
   "source": [
    "data.category.value_counts()"
   ]
  },
  {
   "cell_type": "code",
   "execution_count": 41,
   "id": "4b9177c7",
   "metadata": {
    "colab": {
     "base_uri": "https://localhost:8080/",
     "height": 519
    },
    "id": "4b9177c7",
    "outputId": "745eea7f-2e11-4d86-ff89-7a368767bf16"
   },
   "outputs": [
    {
     "data": {
      "text/html": [
       "<div>\n",
       "<style scoped>\n",
       "    .dataframe tbody tr th:only-of-type {\n",
       "        vertical-align: middle;\n",
       "    }\n",
       "\n",
       "    .dataframe tbody tr th {\n",
       "        vertical-align: top;\n",
       "    }\n",
       "\n",
       "    .dataframe thead th {\n",
       "        text-align: right;\n",
       "    }\n",
       "</style>\n",
       "<table border=\"1\" class=\"dataframe\">\n",
       "  <thead>\n",
       "    <tr style=\"text-align: right;\">\n",
       "      <th></th>\n",
       "      <th>mean</th>\n",
       "      <th>count</th>\n",
       "    </tr>\n",
       "    <tr>\n",
       "      <th>category</th>\n",
       "      <th></th>\n",
       "      <th></th>\n",
       "    </tr>\n",
       "  </thead>\n",
       "  <tbody>\n",
       "    <tr>\n",
       "      <th>shopping_net</th>\n",
       "      <td>0.003772</td>\n",
       "      <td>307013</td>\n",
       "    </tr>\n",
       "    <tr>\n",
       "      <th>misc_net</th>\n",
       "      <td>0.003356</td>\n",
       "      <td>191290</td>\n",
       "    </tr>\n",
       "    <tr>\n",
       "      <th>grocery_pos</th>\n",
       "      <td>0.002945</td>\n",
       "      <td>401000</td>\n",
       "    </tr>\n",
       "    <tr>\n",
       "      <th>shopping_pos</th>\n",
       "      <td>0.001516</td>\n",
       "      <td>420268</td>\n",
       "    </tr>\n",
       "    <tr>\n",
       "      <th>gas_transport</th>\n",
       "      <td>0.001106</td>\n",
       "      <td>365233</td>\n",
       "    </tr>\n",
       "    <tr>\n",
       "      <th>misc_pos</th>\n",
       "      <td>0.000557</td>\n",
       "      <td>281977</td>\n",
       "    </tr>\n",
       "    <tr>\n",
       "      <th>entertainment</th>\n",
       "      <td>0.000480</td>\n",
       "      <td>312478</td>\n",
       "    </tr>\n",
       "    <tr>\n",
       "      <th>travel</th>\n",
       "      <td>0.000460</td>\n",
       "      <td>137034</td>\n",
       "    </tr>\n",
       "    <tr>\n",
       "      <th>personal_care</th>\n",
       "      <td>0.000452</td>\n",
       "      <td>300730</td>\n",
       "    </tr>\n",
       "    <tr>\n",
       "      <th>grocery_net</th>\n",
       "      <td>0.000452</td>\n",
       "      <td>181614</td>\n",
       "    </tr>\n",
       "    <tr>\n",
       "      <th>food_dining</th>\n",
       "      <td>0.000340</td>\n",
       "      <td>320989</td>\n",
       "    </tr>\n",
       "    <tr>\n",
       "      <th>kids_pets</th>\n",
       "      <td>0.000325</td>\n",
       "      <td>372055</td>\n",
       "    </tr>\n",
       "    <tr>\n",
       "      <th>health_fitness</th>\n",
       "      <td>0.000297</td>\n",
       "      <td>265986</td>\n",
       "    </tr>\n",
       "    <tr>\n",
       "      <th>home</th>\n",
       "      <td>0.000285</td>\n",
       "      <td>403237</td>\n",
       "    </tr>\n",
       "  </tbody>\n",
       "</table>\n",
       "</div>"
      ],
      "text/plain": [
       "                    mean   count\n",
       "category                        \n",
       "shopping_net    0.003772  307013\n",
       "misc_net        0.003356  191290\n",
       "grocery_pos     0.002945  401000\n",
       "shopping_pos    0.001516  420268\n",
       "gas_transport   0.001106  365233\n",
       "misc_pos        0.000557  281977\n",
       "entertainment   0.000480  312478\n",
       "travel          0.000460  137034\n",
       "personal_care   0.000452  300730\n",
       "grocery_net     0.000452  181614\n",
       "food_dining     0.000340  320989\n",
       "kids_pets       0.000325  372055\n",
       "health_fitness  0.000297  265986\n",
       "home            0.000285  403237"
      ]
     },
     "execution_count": 41,
     "metadata": {},
     "output_type": "execute_result"
    }
   ],
   "source": [
    "# average fraud rate for each category\n",
    "data.groupby('category')['is_fraud'].agg(['mean', 'count']).sort_values(by='mean', ascending=False)"
   ]
  },
  {
   "cell_type": "markdown",
   "id": "4e3044b7",
   "metadata": {
    "id": "4e3044b7"
   },
   "source": [
    "## 2.9 amount"
   ]
  },
  {
   "cell_type": "code",
   "execution_count": 42,
   "id": "1ef1868b",
   "metadata": {
    "colab": {
     "base_uri": "https://localhost:8080/",
     "height": 143
    },
    "id": "1ef1868b",
    "outputId": "c303640d-bee3-4036-e8c5-eeeecd70c917"
   },
   "outputs": [
    {
     "data": {
      "text/html": [
       "<div>\n",
       "<style scoped>\n",
       "    .dataframe tbody tr th:only-of-type {\n",
       "        vertical-align: middle;\n",
       "    }\n",
       "\n",
       "    .dataframe tbody tr th {\n",
       "        vertical-align: top;\n",
       "    }\n",
       "\n",
       "    .dataframe thead th {\n",
       "        text-align: right;\n",
       "    }\n",
       "</style>\n",
       "<table border=\"1\" class=\"dataframe\">\n",
       "  <thead>\n",
       "    <tr style=\"text-align: right;\">\n",
       "      <th></th>\n",
       "      <th>count</th>\n",
       "      <th>mean</th>\n",
       "      <th>std</th>\n",
       "      <th>min</th>\n",
       "      <th>25%</th>\n",
       "      <th>50%</th>\n",
       "      <th>75%</th>\n",
       "      <th>max</th>\n",
       "    </tr>\n",
       "    <tr>\n",
       "      <th>is_fraud</th>\n",
       "      <th></th>\n",
       "      <th></th>\n",
       "      <th></th>\n",
       "      <th></th>\n",
       "      <th></th>\n",
       "      <th></th>\n",
       "      <th></th>\n",
       "      <th></th>\n",
       "    </tr>\n",
       "  </thead>\n",
       "  <tbody>\n",
       "    <tr>\n",
       "      <th>0</th>\n",
       "      <td>4255870.0</td>\n",
       "      <td>68.429845</td>\n",
       "      <td>160.562767</td>\n",
       "      <td>1.0</td>\n",
       "      <td>9.090</td>\n",
       "      <td>44.440</td>\n",
       "      <td>81.46</td>\n",
       "      <td>41300.53</td>\n",
       "    </tr>\n",
       "    <tr>\n",
       "      <th>1</th>\n",
       "      <td>5034.0</td>\n",
       "      <td>540.778381</td>\n",
       "      <td>391.595613</td>\n",
       "      <td>2.0</td>\n",
       "      <td>262.095</td>\n",
       "      <td>469.675</td>\n",
       "      <td>915.23</td>\n",
       "      <td>1378.09</td>\n",
       "    </tr>\n",
       "  </tbody>\n",
       "</table>\n",
       "</div>"
      ],
      "text/plain": [
       "              count        mean         std  min      25%      50%     75%  \\\n",
       "is_fraud                                                                     \n",
       "0         4255870.0   68.429845  160.562767  1.0    9.090   44.440   81.46   \n",
       "1            5034.0  540.778381  391.595613  2.0  262.095  469.675  915.23   \n",
       "\n",
       "               max  \n",
       "is_fraud            \n",
       "0         41300.53  \n",
       "1          1378.09  "
      ]
     },
     "execution_count": 42,
     "metadata": {},
     "output_type": "execute_result"
    }
   ],
   "source": [
    "# statistics of amount in each is_fraud group\n",
    "data.groupby('is_fraud')['amt'].describe()"
   ]
  },
  {
   "cell_type": "markdown",
   "id": "3671d02f",
   "metadata": {
    "id": "3671d02f"
   },
   "source": [
    "Conclusion: the amt in fraudulent transactions are much higher than that in non-fraudulent transactions"
   ]
  },
  {
   "cell_type": "markdown",
   "id": "ef3e7955",
   "metadata": {
    "id": "ef3e7955"
   },
   "source": [
    "## 2.10 merchant"
   ]
  },
  {
   "cell_type": "code",
   "execution_count": 43,
   "id": "8d2bb7fd",
   "metadata": {
    "colab": {
     "base_uri": "https://localhost:8080/"
    },
    "id": "8d2bb7fd",
    "outputId": "057d15c8-623d-4efc-c63c-ed451b3848e3"
   },
   "outputs": [
    {
     "data": {
      "text/plain": [
       "21977"
      ]
     },
     "execution_count": 43,
     "metadata": {},
     "output_type": "execute_result"
    }
   ],
   "source": [
    "data['merchant'].str.lower().nunique()"
   ]
  },
  {
   "cell_type": "code",
   "execution_count": 44,
   "id": "21784dd6",
   "metadata": {
    "colab": {
     "base_uri": "https://localhost:8080/"
    },
    "id": "21784dd6",
    "outputId": "8b101644-af78-49af-bda8-c0ec5f3fb4ab"
   },
   "outputs": [
    {
     "data": {
      "text/plain": [
       "(4260904, 2)"
      ]
     },
     "execution_count": 44,
     "metadata": {},
     "output_type": "execute_result"
    }
   ],
   "source": [
    "data[['merch_lat', 'merch_long']].drop_duplicates().shape"
   ]
  },
  {
   "cell_type": "code",
   "execution_count": 45,
   "id": "b02b2b13",
   "metadata": {
    "id": "b02b2b13"
   },
   "outputs": [],
   "source": [
    "# since each merchant has location, we can drop merchant name\n",
    "data.drop(columns=['merchant'], inplace=True)"
   ]
  },
  {
   "cell_type": "code",
   "execution_count": 46,
   "id": "046fd716",
   "metadata": {
    "colab": {
     "base_uri": "https://localhost:8080/",
     "height": 259
    },
    "id": "046fd716",
    "outputId": "e4106c7c-b081-4290-8be8-293b6cfb1aae"
   },
   "outputs": [
    {
     "data": {
      "text/html": [
       "<div>\n",
       "<style scoped>\n",
       "    .dataframe tbody tr th:only-of-type {\n",
       "        vertical-align: middle;\n",
       "    }\n",
       "\n",
       "    .dataframe tbody tr th {\n",
       "        vertical-align: top;\n",
       "    }\n",
       "\n",
       "    .dataframe thead th {\n",
       "        text-align: right;\n",
       "    }\n",
       "</style>\n",
       "<table border=\"1\" class=\"dataframe\">\n",
       "  <thead>\n",
       "    <tr style=\"text-align: right;\">\n",
       "      <th></th>\n",
       "      <th>gender</th>\n",
       "      <th>city</th>\n",
       "      <th>state</th>\n",
       "      <th>zip</th>\n",
       "      <th>lat</th>\n",
       "      <th>long</th>\n",
       "      <th>city_pop</th>\n",
       "      <th>job</th>\n",
       "      <th>category</th>\n",
       "      <th>amt</th>\n",
       "      <th>is_fraud</th>\n",
       "      <th>merch_lat</th>\n",
       "      <th>merch_long</th>\n",
       "      <th>age</th>\n",
       "      <th>trans_year</th>\n",
       "      <th>trans_month</th>\n",
       "      <th>trans_day</th>\n",
       "      <th>trans_hour</th>\n",
       "    </tr>\n",
       "  </thead>\n",
       "  <tbody>\n",
       "    <tr>\n",
       "      <th>0</th>\n",
       "      <td>0</td>\n",
       "      <td>Ambler</td>\n",
       "      <td>PA</td>\n",
       "      <td>19002</td>\n",
       "      <td>40.1809</td>\n",
       "      <td>-75.2156</td>\n",
       "      <td>32412</td>\n",
       "      <td>Accounting technician</td>\n",
       "      <td>gas_transport</td>\n",
       "      <td>69.12</td>\n",
       "      <td>0</td>\n",
       "      <td>39.491416</td>\n",
       "      <td>-75.588522</td>\n",
       "      <td>64</td>\n",
       "      <td>2019</td>\n",
       "      <td>5</td>\n",
       "      <td>24</td>\n",
       "      <td>17</td>\n",
       "    </tr>\n",
       "    <tr>\n",
       "      <th>1</th>\n",
       "      <td>0</td>\n",
       "      <td>Ambler</td>\n",
       "      <td>PA</td>\n",
       "      <td>19002</td>\n",
       "      <td>40.1809</td>\n",
       "      <td>-75.2156</td>\n",
       "      <td>32412</td>\n",
       "      <td>Accounting technician</td>\n",
       "      <td>grocery_pos</td>\n",
       "      <td>68.11</td>\n",
       "      <td>0</td>\n",
       "      <td>40.890319</td>\n",
       "      <td>-75.573359</td>\n",
       "      <td>64</td>\n",
       "      <td>2019</td>\n",
       "      <td>9</td>\n",
       "      <td>25</td>\n",
       "      <td>15</td>\n",
       "    </tr>\n",
       "    <tr>\n",
       "      <th>2</th>\n",
       "      <td>0</td>\n",
       "      <td>Ambler</td>\n",
       "      <td>PA</td>\n",
       "      <td>19002</td>\n",
       "      <td>40.1809</td>\n",
       "      <td>-75.2156</td>\n",
       "      <td>32412</td>\n",
       "      <td>Accounting technician</td>\n",
       "      <td>misc_net</td>\n",
       "      <td>40.35</td>\n",
       "      <td>0</td>\n",
       "      <td>39.244958</td>\n",
       "      <td>-74.475327</td>\n",
       "      <td>64</td>\n",
       "      <td>2019</td>\n",
       "      <td>12</td>\n",
       "      <td>24</td>\n",
       "      <td>16</td>\n",
       "    </tr>\n",
       "  </tbody>\n",
       "</table>\n",
       "</div>"
      ],
      "text/plain": [
       "   gender    city state    zip      lat     long  city_pop  \\\n",
       "0       0  Ambler    PA  19002  40.1809 -75.2156     32412   \n",
       "1       0  Ambler    PA  19002  40.1809 -75.2156     32412   \n",
       "2       0  Ambler    PA  19002  40.1809 -75.2156     32412   \n",
       "\n",
       "                     job       category    amt is_fraud  merch_lat  \\\n",
       "0  Accounting technician  gas_transport  69.12        0  39.491416   \n",
       "1  Accounting technician    grocery_pos  68.11        0  40.890319   \n",
       "2  Accounting technician       misc_net  40.35        0  39.244958   \n",
       "\n",
       "   merch_long  age  trans_year  trans_month  trans_day  trans_hour  \n",
       "0  -75.588522   64        2019            5         24          17  \n",
       "1  -75.573359   64        2019            9         25          15  \n",
       "2  -74.475327   64        2019           12         24          16  "
      ]
     },
     "execution_count": 46,
     "metadata": {},
     "output_type": "execute_result"
    }
   ],
   "source": [
    "data.head(3)"
   ]
  },
  {
   "cell_type": "markdown",
   "id": "6eee8b7e",
   "metadata": {
    "id": "6eee8b7e"
   },
   "source": [
    "# 3. Model Training"
   ]
  },
  {
   "cell_type": "code",
   "execution_count": 47,
   "id": "24981b7c",
   "metadata": {
    "id": "24981b7c"
   },
   "outputs": [],
   "source": [
    "from sklearn.model_selection import train_test_split, cross_val_score\n",
    "from sklearn.linear_model import LogisticRegression\n",
    "from sklearn.metrics import accuracy_score, confusion_matrix, classification_report, f1_score, recall_score, precision_score\n",
    "import seaborn as sns\n",
    "from sklearn.metrics import roc_curve, roc_auc_score"
   ]
  },
  {
   "cell_type": "code",
   "execution_count": 48,
   "id": "50b5b949",
   "metadata": {
    "id": "50b5b949"
   },
   "outputs": [],
   "source": [
    "X = data.drop([target], axis=1).copy()\n",
    "y = data[target].astype(int)\n",
    "\n",
    "# split data into train and test set\n",
    "X_train, X_test, y_train, y_test = train_test_split(\n",
    "    X, y, test_size=0.3, random_state=123)"
   ]
  },
  {
   "cell_type": "code",
   "execution_count": 49,
   "id": "644dd6d4",
   "metadata": {
    "colab": {
     "base_uri": "https://localhost:8080/"
    },
    "id": "644dd6d4",
    "outputId": "0f83b526-924e-4e89-b5fe-f791dfef521d"
   },
   "outputs": [
    {
     "data": {
      "text/plain": [
       "0    0.998833\n",
       "1    0.001167\n",
       "Name: is_fraud, dtype: float64"
      ]
     },
     "execution_count": 49,
     "metadata": {},
     "output_type": "execute_result"
    }
   ],
   "source": [
    "y_train.value_counts(normalize=True)"
   ]
  },
  {
   "cell_type": "code",
   "execution_count": 50,
   "id": "6786a7aa",
   "metadata": {
    "colab": {
     "base_uri": "https://localhost:8080/"
    },
    "id": "6786a7aa",
    "outputId": "ab49ee42-e15e-4719-98da-59b32f9688dd"
   },
   "outputs": [
    {
     "data": {
      "text/plain": [
       "0    0.998785\n",
       "1    0.001215\n",
       "Name: is_fraud, dtype: float64"
      ]
     },
     "execution_count": 50,
     "metadata": {},
     "output_type": "execute_result"
    }
   ],
   "source": [
    "y_test.value_counts(normalize=True)"
   ]
  },
  {
   "cell_type": "code",
   "execution_count": 51,
   "id": "026e2b59",
   "metadata": {
    "colab": {
     "base_uri": "https://localhost:8080/"
    },
    "id": "026e2b59",
    "outputId": "606fd333-4e82-472a-e36f-e4a1c59356ce"
   },
   "outputs": [
    {
     "data": {
      "text/plain": [
       "((2982632, 17), (1278272, 17))"
      ]
     },
     "execution_count": 51,
     "metadata": {},
     "output_type": "execute_result"
    }
   ],
   "source": [
    "X_train.shape, X_test.shape"
   ]
  },
  {
   "cell_type": "code",
   "execution_count": 52,
   "id": "1e0c4a61",
   "metadata": {
    "id": "1e0c4a61"
   },
   "outputs": [],
   "source": [
    "def report_result(y_test_pred, y_test_pred_proba):\n",
    "    print('Accuracy:', accuracy_score(y_test, y_test_pred))\n",
    "    # recall\n",
    "    print('Recall:', recall_score(y_test, y_test_pred))\n",
    "    # precision\n",
    "    print('Precision:', precision_score(y_test, y_test_pred))\n",
    "    # f1 score\n",
    "    print('F1 score:', f1_score(y_test, y_test_pred))\n",
    "\n",
    "    plt.figure(figsize=(10, 5))\n",
    "    plt.subplot(1, 2, 1)\n",
    "    # confusion matrix\n",
    "    cm = confusion_matrix(y_test, y_test_pred)\n",
    "    sns.heatmap(cm, annot=True, fmt='d')\n",
    "    plt.xlabel('Predicted')\n",
    "    plt.ylabel('True')\n",
    "\n",
    "    # roc curve\n",
    "    plt.subplot(1, 2, 2)\n",
    "    fpr, tpr, thresholds = roc_curve(y_test, y_test_pred_proba)\n",
    "    plt.plot(fpr, tpr)\n",
    "    plt.plot([0, 1], [0, 1], 'k--')\n",
    "    plt.xlabel('False Positive Rate')\n",
    "    plt.ylabel('True Positive Rate')\n",
    "    plt.show()"
   ]
  },
  {
   "cell_type": "markdown",
   "id": "6429a77c",
   "metadata": {},
   "source": [
    "## 3.1 Logistic Regression (baseline)\n"
   ]
  },
  {
   "cell_type": "code",
   "execution_count": 53,
   "id": "351ebb81",
   "metadata": {},
   "outputs": [
    {
     "data": {
      "text/html": [
       "<style>#sk-container-id-1 {color: black;background-color: white;}#sk-container-id-1 pre{padding: 0;}#sk-container-id-1 div.sk-toggleable {background-color: white;}#sk-container-id-1 label.sk-toggleable__label {cursor: pointer;display: block;width: 100%;margin-bottom: 0;padding: 0.3em;box-sizing: border-box;text-align: center;}#sk-container-id-1 label.sk-toggleable__label-arrow:before {content: \"▸\";float: left;margin-right: 0.25em;color: #696969;}#sk-container-id-1 label.sk-toggleable__label-arrow:hover:before {color: black;}#sk-container-id-1 div.sk-estimator:hover label.sk-toggleable__label-arrow:before {color: black;}#sk-container-id-1 div.sk-toggleable__content {max-height: 0;max-width: 0;overflow: hidden;text-align: left;background-color: #f0f8ff;}#sk-container-id-1 div.sk-toggleable__content pre {margin: 0.2em;color: black;border-radius: 0.25em;background-color: #f0f8ff;}#sk-container-id-1 input.sk-toggleable__control:checked~div.sk-toggleable__content {max-height: 200px;max-width: 100%;overflow: auto;}#sk-container-id-1 input.sk-toggleable__control:checked~label.sk-toggleable__label-arrow:before {content: \"▾\";}#sk-container-id-1 div.sk-estimator input.sk-toggleable__control:checked~label.sk-toggleable__label {background-color: #d4ebff;}#sk-container-id-1 div.sk-label input.sk-toggleable__control:checked~label.sk-toggleable__label {background-color: #d4ebff;}#sk-container-id-1 input.sk-hidden--visually {border: 0;clip: rect(1px 1px 1px 1px);clip: rect(1px, 1px, 1px, 1px);height: 1px;margin: -1px;overflow: hidden;padding: 0;position: absolute;width: 1px;}#sk-container-id-1 div.sk-estimator {font-family: monospace;background-color: #f0f8ff;border: 1px dotted black;border-radius: 0.25em;box-sizing: border-box;margin-bottom: 0.5em;}#sk-container-id-1 div.sk-estimator:hover {background-color: #d4ebff;}#sk-container-id-1 div.sk-parallel-item::after {content: \"\";width: 100%;border-bottom: 1px solid gray;flex-grow: 1;}#sk-container-id-1 div.sk-label:hover label.sk-toggleable__label {background-color: #d4ebff;}#sk-container-id-1 div.sk-serial::before {content: \"\";position: absolute;border-left: 1px solid gray;box-sizing: border-box;top: 0;bottom: 0;left: 50%;z-index: 0;}#sk-container-id-1 div.sk-serial {display: flex;flex-direction: column;align-items: center;background-color: white;padding-right: 0.2em;padding-left: 0.2em;position: relative;}#sk-container-id-1 div.sk-item {position: relative;z-index: 1;}#sk-container-id-1 div.sk-parallel {display: flex;align-items: stretch;justify-content: center;background-color: white;position: relative;}#sk-container-id-1 div.sk-item::before, #sk-container-id-1 div.sk-parallel-item::before {content: \"\";position: absolute;border-left: 1px solid gray;box-sizing: border-box;top: 0;bottom: 0;left: 50%;z-index: -1;}#sk-container-id-1 div.sk-parallel-item {display: flex;flex-direction: column;z-index: 1;position: relative;background-color: white;}#sk-container-id-1 div.sk-parallel-item:first-child::after {align-self: flex-end;width: 50%;}#sk-container-id-1 div.sk-parallel-item:last-child::after {align-self: flex-start;width: 50%;}#sk-container-id-1 div.sk-parallel-item:only-child::after {width: 0;}#sk-container-id-1 div.sk-dashed-wrapped {border: 1px dashed gray;margin: 0 0.4em 0.5em 0.4em;box-sizing: border-box;padding-bottom: 0.4em;background-color: white;}#sk-container-id-1 div.sk-label label {font-family: monospace;font-weight: bold;display: inline-block;line-height: 1.2em;}#sk-container-id-1 div.sk-label-container {text-align: center;}#sk-container-id-1 div.sk-container {/* jupyter's `normalize.less` sets `[hidden] { display: none; }` but bootstrap.min.css set `[hidden] { display: none !important; }` so we also need the `!important` here to be able to override the default hidden behavior on the sphinx rendered scikit-learn.org. See: https://github.com/scikit-learn/scikit-learn/issues/21755 */display: inline-block !important;position: relative;}#sk-container-id-1 div.sk-text-repr-fallback {display: none;}</style><div id=\"sk-container-id-1\" class=\"sk-top-container\"><div class=\"sk-text-repr-fallback\"><pre>LogisticRegression(random_state=123)</pre><b>In a Jupyter environment, please rerun this cell to show the HTML representation or trust the notebook. <br />On GitHub, the HTML representation is unable to render, please try loading this page with nbviewer.org.</b></div><div class=\"sk-container\" hidden><div class=\"sk-item\"><div class=\"sk-estimator sk-toggleable\"><input class=\"sk-toggleable__control sk-hidden--visually\" id=\"sk-estimator-id-1\" type=\"checkbox\" checked><label for=\"sk-estimator-id-1\" class=\"sk-toggleable__label sk-toggleable__label-arrow\">LogisticRegression</label><div class=\"sk-toggleable__content\"><pre>LogisticRegression(random_state=123)</pre></div></div></div></div></div>"
      ],
      "text/plain": [
       "LogisticRegression(random_state=123)"
      ]
     },
     "execution_count": 53,
     "metadata": {},
     "output_type": "execute_result"
    }
   ],
   "source": [
    "model = LogisticRegression(random_state=123)\n",
    "# logistic regression only works with numeric features\n",
    "model.fit(X_train.select_dtypes('number'), y_train)"
   ]
  },
  {
   "cell_type": "code",
   "execution_count": 54,
   "id": "f20cbb31",
   "metadata": {},
   "outputs": [
    {
     "name": "stdout",
     "output_type": "stream",
     "text": [
      "Accuracy: 0.9987475279126822\n",
      "Recall: 0.0\n",
      "Precision: 0.0\n",
      "F1 score: 0.0\n"
     ]
    },
    {
     "data": {
      "image/png": "[encoded data removed]",
      "text/plain": [
       "<Figure size 1000x500 with 3 Axes>"
      ]
     },
     "metadata": {},
     "output_type": "display_data"
    }
   ],
   "source": [
    "y_test_pred = model.predict(X_test.select_dtypes('number'))\n",
    "y_test_pred_proba = model.predict_proba(X_test.select_dtypes('number'))[:, 1]\n",
    "report_result(y_test_pred, y_test_pred_proba)"
   ]
  },
  {
   "cell_type": "markdown",
   "id": "r6qQ6bm20Ddz",
   "metadata": {
    "id": "r6qQ6bm20Ddz"
   },
   "source": [
    "## 3.4 XGBoost"
   ]
  },
  {
   "cell_type": "code",
   "execution_count": 55,
   "id": "Uxtfew6r0GDa",
   "metadata": {
    "id": "Uxtfew6r0GDa"
   },
   "outputs": [],
   "source": [
    "import xgboost as xgb\n",
    "from sklearn.model_selection import GridSearchCV"
   ]
  },
  {
   "cell_type": "code",
   "execution_count": 56,
   "id": "8w7PkPC-0H0L",
   "metadata": {
    "id": "8w7PkPC-0H0L"
   },
   "outputs": [],
   "source": [
    "# model = xgb.XGBClassifier()\n",
    "# search_space = {\n",
    "#     # uncomment below if you have enough time\n",
    "#     # 'n_estimators': [50, 100],\n",
    "#     # 'max_depth': [5, 7, 9, 11], \n",
    "# }\n",
    "# grid = GridSearchCV(model, search_space, cv=3, scoring='roc_auc')\n",
    "# grid.fit(X_train_resample, y_train_resample)\n",
    "# print('Best parameters:', grid.best_params_)\n",
    "# model = grid.best_estimator_"
   ]
  },
  {
   "cell_type": "code",
   "execution_count": 57,
   "id": "c2YvMVN60DA2",
   "metadata": {
    "colab": {
     "base_uri": "https://localhost:8080/",
     "height": 553
    },
    "id": "c2YvMVN60DA2",
    "outputId": "185cf4b2-3e86-4ed9-caa9-2a0373349e00"
   },
   "outputs": [
    {
     "ename": "NameError",
     "evalue": "name 'X_train_resample' is not defined",
     "output_type": "error",
     "traceback": [
      "\u001b[1;31m---------------------------------------------------------------------------\u001b[0m",
      "\u001b[1;31mNameError\u001b[0m                                 Traceback (most recent call last)",
      "Cell \u001b[1;32mIn[57], line 2\u001b[0m\n\u001b[0;32m      1\u001b[0m model \u001b[38;5;241m=\u001b[39m xgb\u001b[38;5;241m.\u001b[39mXGBClassifier()\n\u001b[1;32m----> 2\u001b[0m model\u001b[38;5;241m.\u001b[39mfit(\u001b[43mX_train_resample\u001b[49m, y_train_resample)\n\u001b[0;32m      3\u001b[0m y_test_pred \u001b[38;5;241m=\u001b[39m model\u001b[38;5;241m.\u001b[39mpredict(X_test)\n\u001b[0;32m      4\u001b[0m y_test_pred_proba \u001b[38;5;241m=\u001b[39m model\u001b[38;5;241m.\u001b[39mpredict_proba(X_test)[:, \u001b[38;5;241m1\u001b[39m]\n",
      "\u001b[1;31mNameError\u001b[0m: name 'X_train_resample' is not defined"
     ]
    }
   ],
   "source": [
    "model = xgb.XGBClassifier()\n",
    "model.fit(X_train_resample, y_train_resample)\n",
    "y_test_pred = model.predict(X_test)\n",
    "y_test_pred_proba = model.predict_proba(X_test)[:, 1]\n",
    "report_result(y_test_pred, y_test_pred_proba)"
   ]
  },
  {
   "cell_type": "markdown",
   "id": "Fp61i2865aiE",
   "metadata": {
    "id": "Fp61i2865aiE"
   },
   "source": [
    "Conclusion:\n",
    "1. after resample, xgboost model reach much better result than the lightgbm model, the accuracy is improved from 0.9968121025884945 to 0.9986622565463376, and the recall is further improved from 0.8685567010309279 to 0.8962628865979382 with precision also improved from 0.2582870281663154 to 0.47312925170068026. Suprisingly, it means the model has improved recall without lossing precision. Also f1 score is improved from 0.3981686604637424 to 0.6193232413178984\n",
    "2. the result shows xgboost model is a more robust model than the lightgbm model in such case."
   ]
  },
  {
   "cell_type": "markdown",
   "id": "Dre8_1D-0wg3",
   "metadata": {
    "id": "Dre8_1D-0wg3"
   },
   "source": [
    "# Conclusion"
   ]
  },
  {
   "cell_type": "markdown",
   "id": "MTEqUc260wY_",
   "metadata": {
    "id": "MTEqUc260wY_"
   },
   "source": [
    "A summary of the results is shown in the table\n",
    "\n",
    "| model | Accuracy | Recall | Precision | F1 score |\n",
    "| --- | --- | --- | --- | --- |\n",
    "| Logistic Regression | 0.9988 | 0.0 | 0.0 | 0.0 |\n",
    "| Decision Tree | **0.9991** | 0.3071 | 0.8182 | 0.4466 |\n",
    "| LightGBM | 0.9976 | 0.8281 | 0.3150 | 0.4564 |\n",
    "| XGBoost | 0.9987 | **0.8963** | **0.4731** | **0.6193** |"
   ]
  },
  {
   "cell_type": "markdown",
   "id": "s9I6SANos4CT",
   "metadata": {
    "id": "s9I6SANos4CT"
   },
   "source": [
    "\n",
    "\n",
    "\n",
    "## Experiment conclusion\n",
    "- We experimented with different models to identify the best approach for fraud detection. Specifically, we implemented a decision tree model and ensemble models like LightGBM and XGBoost. These models showed promising results in capturing fraud patterns. Though the decision tree model achieved the highest precision and accuracy, it had the lowest recall. On the other hand, the ensemble models had higher recall but lower precision. However\n",
    "- Fraud detection inherently involves dealing with imbalanced data, where the number of legitimate transactions significantly outweighs the number of fraudulent transactions. This imbalance impacts the evaluation metrics, particularly precision and recall. In this situation, accuracy is not a good metric to evaluate the performance of the model. Instead, we should focus on precision and recall. Achieving high precision ensures that the majority of flagged transactions are truly fraudulent, minimizing false positives. On the other hand, maximizing recall is crucial to identifying as many fraudulent transactions as possible, minimizing false negatives. \n",
    "- The tradeoff between precision and recall depends on the specific requirements of the fraud detection system and the associated costs of false positives and false negatives. For example, if the cost of false positives is high, then the decision tree model would be the best choice. On the other hand, if the cost of false negatives is high, then the ensemble models would be the best choice.\n",
    "- I select the XGBoost model as the final model because it has the highest F1 score and recall, in the practical application, we want to minimize the false negatives, which means we want to maximize the recall, so alarms can be triggered when there is a suspicious fraud transaction and the cost of false positives is relatively low. The tuned XGBoost model has the highest recall, which means it can capture the most fraud transactions.\n",
    "\n",
    "## Limitations:\n",
    "- Large Dataset: The size of the dataset used in this project posed a challenge in terms of computational resources and time constraints. Due to the time-consuming nature of parameter tuning, we were unable to exhaustively explore all possible combinations of hyperparameters for our models. Consequently, there may be potential performance improvements that could have been achieved with more extensive parameter tuning.\n",
    "- Data Quality: The accuracy and reliability of the fraud detection model heavily rely on the quality and representativeness of the dataset. In this project, we assumed the provided dataset to be comprehensive and free from biases or errors. However, there is always a risk of data quality issues, such as missing values, mislabeled instances, or incomplete information. These data quality issues can impact the performance and accuracy of the model."
   ]
  },
  {
   "cell_type": "code",
   "execution_count": null,
   "id": "PP93RLZxvOTW",
   "metadata": {
    "id": "PP93RLZxvOTW"
   },
   "outputs": [],
   "source": []
  },
  {
   "cell_type": "code",
   "execution_count": null,
   "id": "8ee05eea",
   "metadata": {},
   "outputs": [],
   "source": []
  },
  {
   "cell_type": "code",
   "execution_count": null,
   "id": "3744f676",
   "metadata": {},
   "outputs": [],
   "source": []
  }
 ],
 "metadata": {
  "colab": {
   "provenance": [],
   "toc_visible": true
  },
  "kernelspec": {
   "display_name": "Python 3 (ipykernel)",
   "language": "python",
   "name": "python3"
  },
  "language_info": {
   "codemirror_mode": {
    "name": "ipython",
    "version": 3
   },
   "file_extension": ".py",
   "mimetype": "text/x-python",
   "name": "python",
   "nbconvert_exporter": "python",
   "pygments_lexer": "ipython3",
   "version": "3.10.9"
  },
  "toc": {
   "base_numbering": 1,
   "nav_menu": {},
   "number_sections": false,
   "sideBar": true,
   "skip_h1_title": false,
   "title_cell": "Table of Contents",
   "title_sidebar": "Contents",
   "toc_cell": false,
   "toc_position": {},
   "toc_section_display": true,
   "toc_window_display": false
  }
 },
 "nbformat": 4,
 "nbformat_minor": 5
}
