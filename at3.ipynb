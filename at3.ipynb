{
 "cells": [
  {
   "cell_type": "code",
   "execution_count": 1,
   "metadata": {},
   "outputs": [],
   "source": [
    "import pandas as pd"
   ]
  },
  {
   "cell_type": "code",
   "execution_count": 2,
   "metadata": {},
   "outputs": [],
   "source": [
    "customer_df = pd.read_csv('final/customers.csv', sep='|')"
   ]
  },
  {
   "cell_type": "code",
   "execution_count": 3,
   "metadata": {},
   "outputs": [
    {
     "data": {
      "text/html": [
       "<div>\n",
       "<style scoped>\n",
       "    .dataframe tbody tr th:only-of-type {\n",
       "        vertical-align: middle;\n",
       "    }\n",
       "\n",
       "    .dataframe tbody tr th {\n",
       "        vertical-align: top;\n",
       "    }\n",
       "\n",
       "    .dataframe thead th {\n",
       "        text-align: right;\n",
       "    }\n",
       "</style>\n",
       "<table border=\"1\" class=\"dataframe\">\n",
       "  <thead>\n",
       "    <tr style=\"text-align: right;\">\n",
       "      <th></th>\n",
       "      <th>ssn</th>\n",
       "      <th>cc_num</th>\n",
       "      <th>first</th>\n",
       "      <th>last</th>\n",
       "      <th>gender</th>\n",
       "      <th>street</th>\n",
       "      <th>city</th>\n",
       "      <th>state</th>\n",
       "      <th>zip</th>\n",
       "      <th>lat</th>\n",
       "      <th>long</th>\n",
       "      <th>city_pop</th>\n",
       "      <th>job</th>\n",
       "      <th>dob</th>\n",
       "      <th>acct_num</th>\n",
       "    </tr>\n",
       "  </thead>\n",
       "  <tbody>\n",
       "    <tr>\n",
       "      <th>0</th>\n",
       "      <td>115-04-4507</td>\n",
       "      <td>4218196001337</td>\n",
       "      <td>Jonathan</td>\n",
       "      <td>Johnson</td>\n",
       "      <td>M</td>\n",
       "      <td>863 Lawrence Valleys</td>\n",
       "      <td>Ambler</td>\n",
       "      <td>PA</td>\n",
       "      <td>19002</td>\n",
       "      <td>40.1809</td>\n",
       "      <td>-75.2156</td>\n",
       "      <td>32412</td>\n",
       "      <td>Accounting technician</td>\n",
       "      <td>1959-10-03</td>\n",
       "      <td>888022315787</td>\n",
       "    </tr>\n",
       "    <tr>\n",
       "      <th>1</th>\n",
       "      <td>715-55-5575</td>\n",
       "      <td>4351161559407816183</td>\n",
       "      <td>Elaine</td>\n",
       "      <td>Fuller</td>\n",
       "      <td>F</td>\n",
       "      <td>310 Kendra Common Apt. 164</td>\n",
       "      <td>Leland</td>\n",
       "      <td>NC</td>\n",
       "      <td>28451</td>\n",
       "      <td>34.2680</td>\n",
       "      <td>-78.0578</td>\n",
       "      <td>27112</td>\n",
       "      <td>Professor Emeritus</td>\n",
       "      <td>1963-06-07</td>\n",
       "      <td>917558277935</td>\n",
       "    </tr>\n",
       "    <tr>\n",
       "      <th>2</th>\n",
       "      <td>167-48-5821</td>\n",
       "      <td>4192832764832</td>\n",
       "      <td>Michael</td>\n",
       "      <td>Cameron</td>\n",
       "      <td>M</td>\n",
       "      <td>05641 Robin Port</td>\n",
       "      <td>Cordova</td>\n",
       "      <td>SC</td>\n",
       "      <td>29039</td>\n",
       "      <td>33.4275</td>\n",
       "      <td>-80.8857</td>\n",
       "      <td>4215</td>\n",
       "      <td>International aid/development worker</td>\n",
       "      <td>1973-05-30</td>\n",
       "      <td>718172762479</td>\n",
       "    </tr>\n",
       "    <tr>\n",
       "      <th>3</th>\n",
       "      <td>406-83-7518</td>\n",
       "      <td>4238849696532874</td>\n",
       "      <td>Brandon</td>\n",
       "      <td>Williams</td>\n",
       "      <td>M</td>\n",
       "      <td>26916 Carlson Mountain</td>\n",
       "      <td>Birmingham</td>\n",
       "      <td>AL</td>\n",
       "      <td>35242</td>\n",
       "      <td>33.3813</td>\n",
       "      <td>-86.7046</td>\n",
       "      <td>493806</td>\n",
       "      <td>Seismic interpreter</td>\n",
       "      <td>1942-12-26</td>\n",
       "      <td>947268892251</td>\n",
       "    </tr>\n",
       "    <tr>\n",
       "      <th>4</th>\n",
       "      <td>697-93-1877</td>\n",
       "      <td>4514627048281480</td>\n",
       "      <td>Lisa</td>\n",
       "      <td>Hernandez</td>\n",
       "      <td>F</td>\n",
       "      <td>809 Burns Creek</td>\n",
       "      <td>Fargo</td>\n",
       "      <td>GA</td>\n",
       "      <td>31631</td>\n",
       "      <td>30.7166</td>\n",
       "      <td>-82.5801</td>\n",
       "      <td>559</td>\n",
       "      <td>Medical laboratory scientific officer</td>\n",
       "      <td>1939-05-22</td>\n",
       "      <td>888335239225</td>\n",
       "    </tr>\n",
       "  </tbody>\n",
       "</table>\n",
       "</div>"
      ],
      "text/plain": [
       "           ssn               cc_num     first       last gender  \\\n",
       "0  115-04-4507        4218196001337  Jonathan    Johnson      M   \n",
       "1  715-55-5575  4351161559407816183    Elaine     Fuller      F   \n",
       "2  167-48-5821        4192832764832   Michael    Cameron      M   \n",
       "3  406-83-7518     4238849696532874   Brandon   Williams      M   \n",
       "4  697-93-1877     4514627048281480      Lisa  Hernandez      F   \n",
       "\n",
       "                       street        city state    zip      lat     long  \\\n",
       "0        863 Lawrence Valleys      Ambler    PA  19002  40.1809 -75.2156   \n",
       "1  310 Kendra Common Apt. 164      Leland    NC  28451  34.2680 -78.0578   \n",
       "2            05641 Robin Port     Cordova    SC  29039  33.4275 -80.8857   \n",
       "3      26916 Carlson Mountain  Birmingham    AL  35242  33.3813 -86.7046   \n",
       "4             809 Burns Creek       Fargo    GA  31631  30.7166 -82.5801   \n",
       "\n",
       "   city_pop                                    job         dob      acct_num  \n",
       "0     32412                  Accounting technician  1959-10-03  888022315787  \n",
       "1     27112                     Professor Emeritus  1963-06-07  917558277935  \n",
       "2      4215   International aid/development worker  1973-05-30  718172762479  \n",
       "3    493806                    Seismic interpreter  1942-12-26  947268892251  \n",
       "4       559  Medical laboratory scientific officer  1939-05-22  888335239225  "
      ]
     },
     "execution_count": 3,
     "metadata": {},
     "output_type": "execute_result"
    }
   ],
   "source": [
    "customer_df.head()"
   ]
  },
  {
   "cell_type": "code",
   "execution_count": 4,
   "metadata": {},
   "outputs": [
    {
     "data": {
      "text/plain": [
       "(1000, 15)"
      ]
     },
     "execution_count": 4,
     "metadata": {},
     "output_type": "execute_result"
    }
   ],
   "source": [
    "customer_df.shape"
   ]
  },
  {
   "cell_type": "code",
   "execution_count": 5,
   "metadata": {},
   "outputs": [
    {
     "name": "stdout",
     "output_type": "stream",
     "text": [
      "Reading transactions_12.csv...\n",
      "Reading transactions_126.csv...\n",
      "Reading transactions_127.csv...\n",
      "Reading transactions_13.csv...\n",
      "customers.csv is not a CSV file. Skipping...\n",
      "Reading transactions_39.csv...\n",
      "Reading transactions_11.csv...\n",
      "Reading transactions_119.csv...\n",
      "Reading transactions_131.csv...\n",
      "Reading transactions_125.csv...\n",
      "Reading transactions_124.csv...\n",
      "Reading transactions_130.csv...\n",
      "Reading transactions_118.csv...\n",
      "Reading transactions_10.csv...\n",
      "Reading transactions_38.csv...\n",
      "Reading transactions_14.csv...\n",
      "Reading transactions_28.csv...\n",
      "Reading transactions_120.csv...\n",
      "Reading transactions_108.csv...\n",
      "Reading transactions_109.csv...\n",
      "Reading transactions_121.csv...\n",
      "Reading transactions_29.csv...\n",
      "Reading transactions_15.csv...\n",
      "Reading transactions_17.csv...\n",
      "Reading transactions_123.csv...\n",
      "Reading transactions_122.csv...\n",
      "Reading transactions_16.csv...\n",
      "Reading transactions_59.csv...\n",
      "Reading transactions_65.csv...\n",
      "Reading transactions_71.csv...\n",
      "Reading transactions_7.csv...\n",
      "Reading transactions_6.csv...\n",
      "Reading transactions_70.csv...\n",
      "Reading transactions_64.csv...\n",
      "Reading transactions_58.csv...\n",
      "Reading transactions_72.csv...\n",
      "Reading transactions_4.csv...\n",
      "Reading transactions_66.csv...\n",
      "Reading transactions_99.csv...\n",
      "Reading transactions_98.csv...\n",
      "Reading transactions_67.csv...\n",
      "Reading transactions_5.csv...\n",
      "Reading transactions_73.csv...\n",
      "Reading transactions_77.csv...\n",
      "Reading transactions_1.csv...\n",
      "Reading transactions_63.csv...\n",
      "Reading transactions_88.csv...\n",
      "Reading transactions_89.csv...\n",
      "Reading transactions_62.csv...\n",
      "Reading transactions_0.csv...\n",
      "Reading transactions_76.csv...\n",
      "Reading transactions_60.csv...\n",
      "Reading transactions_74.csv...\n",
      "Reading transactions_2.csv...\n",
      "Reading transactions_48.csv...\n",
      "Reading transactions_49.csv...\n",
      "Reading transactions_3.csv...\n",
      "Reading transactions_75.csv...\n",
      "Reading transactions_61.csv...\n",
      "Reading transactions_78.csv...\n",
      "Reading transactions_44.csv...\n",
      "Reading transactions_50.csv...\n",
      "Reading transactions_87.csv...\n",
      "Reading transactions_93.csv...\n",
      "Reading transactions_92.csv...\n",
      "Reading transactions_86.csv...\n",
      "Reading transactions_51.csv...\n",
      "Reading transactions_45.csv...\n",
      "Reading transactions_79.csv...\n",
      "Reading transactions_53.csv...\n",
      "Reading transactions_47.csv...\n",
      "Reading transactions_90.csv...\n",
      "Reading transactions_84.csv...\n",
      "Reading transactions_85.csv...\n",
      "Reading transactions_91.csv...\n",
      "Reading transactions_46.csv...\n",
      "Reading transactions_52.csv...\n",
      "Reading transactions_56.csv...\n",
      "Reading transactions_42.csv...\n",
      "Reading transactions_8.csv...\n",
      "Reading transactions_95.csv...\n",
      "Reading transactions_81.csv...\n",
      "Reading transactions_80.csv...\n",
      "Reading transactions_94.csv...\n",
      "Reading transactions_9.csv...\n",
      "Reading transactions_43.csv...\n",
      "Reading transactions_57.csv...\n",
      "Reading transactions_41.csv...\n",
      "Reading transactions_55.csv...\n",
      "Reading transactions_69.csv...\n",
      "Reading transactions_82.csv...\n",
      "Reading transactions_96.csv...\n",
      "Reading transactions_97.csv...\n",
      "Reading transactions_83.csv...\n",
      "Reading transactions_68.csv...\n",
      "Reading transactions_54.csv...\n",
      "Reading transactions_40.csv...\n",
      "Reading transactions_27.csv...\n",
      "Reading transactions_33.csv...\n",
      "Reading transactions_107.csv...\n",
      "Reading transactions_113.csv...\n",
      "Reading transactions_112.csv...\n",
      "Reading transactions_106.csv...\n",
      "Reading transactions_32.csv...\n",
      "Reading transactions_26.csv...\n",
      "Reading transactions_18.csv...\n",
      "Reading transactions_30.csv...\n",
      "Reading transactions_24.csv...\n",
      "Reading transactions_110.csv...\n",
      "Reading transactions_104.csv...\n",
      "Reading transactions_105.csv...\n",
      "Reading transactions_111.csv...\n",
      "Reading transactions_25.csv...\n",
      "Reading transactions_31.csv...\n",
      "Reading transactions_19.csv...\n",
      "Reading transactions_35.csv...\n",
      "Reading transactions_21.csv...\n",
      "Reading transactions_115.csv...\n",
      "Reading transactions_101.csv...\n",
      "Reading transactions_129.csv...\n",
      "Reading transactions_128.csv...\n",
      "Reading transactions_100.csv...\n",
      "Reading transactions_114.csv...\n",
      "Reading transactions_20.csv...\n",
      "Reading transactions_34.csv...\n",
      "Reading transactions_22.csv...\n",
      "Reading transactions_36.csv...\n",
      "Reading transactions_102.csv...\n",
      "Reading transactions_116.csv...\n",
      "Reading transactions_117.csv...\n",
      "Reading transactions_103.csv...\n",
      "Reading transactions_37.csv...\n",
      "Reading transactions_23.csv...\n",
      "Successfully merged 132 dataframes into one.\n"
     ]
    }
   ],
   "source": [
    "import os\n",
    "\n",
    "directory = './final'\n",
    "dfs = []\n",
    "\n",
    "for filename in os.listdir(directory):\n",
    "    if filename.startswith('transactions'):\n",
    "        print(f'Reading {filename}...')\n",
    "        filepath = os.path.join(directory, filename)\n",
    "        df = pd.read_csv(filepath, sep='|')\n",
    "        dfs.append(df)\n",
    "    else:\n",
    "        print(f'{filename} is not a CSV file. Skipping...')\n",
    "\n",
    "if len(dfs) > 0:\n",
    "    transaction_df = pd.concat(dfs, ignore_index=True)\n",
    "    print(f'Successfully merged {len(dfs)} dataframes into one.')\n",
    "else:\n",
    "    print('No CSV files found in directory.')\n"
   ]
  },
  {
   "cell_type": "code",
   "execution_count": 6,
   "metadata": {},
   "outputs": [
    {
     "data": {
      "text/html": [
       "<div>\n",
       "<style scoped>\n",
       "    .dataframe tbody tr th:only-of-type {\n",
       "        vertical-align: middle;\n",
       "    }\n",
       "\n",
       "    .dataframe tbody tr th {\n",
       "        vertical-align: top;\n",
       "    }\n",
       "\n",
       "    .dataframe thead th {\n",
       "        text-align: right;\n",
       "    }\n",
       "</style>\n",
       "<table border=\"1\" class=\"dataframe\">\n",
       "  <thead>\n",
       "    <tr style=\"text-align: right;\">\n",
       "      <th></th>\n",
       "      <th>cc_num</th>\n",
       "      <th>acct_num</th>\n",
       "      <th>trans_num</th>\n",
       "      <th>unix_time</th>\n",
       "      <th>category</th>\n",
       "      <th>amt</th>\n",
       "      <th>is_fraud</th>\n",
       "      <th>merchant</th>\n",
       "      <th>merch_lat</th>\n",
       "      <th>merch_long</th>\n",
       "    </tr>\n",
       "  </thead>\n",
       "  <tbody>\n",
       "    <tr>\n",
       "      <th>0</th>\n",
       "      <td>4896331812335761701</td>\n",
       "      <td>149852234418</td>\n",
       "      <td>f3ec0819590302134f03ffdc2f44697f</td>\n",
       "      <td>1646060228</td>\n",
       "      <td>gas_transport</td>\n",
       "      <td>65.17</td>\n",
       "      <td>0</td>\n",
       "      <td>Larson, Ryan and Huang</td>\n",
       "      <td>38.143430</td>\n",
       "      <td>-90.327335</td>\n",
       "    </tr>\n",
       "    <tr>\n",
       "      <th>1</th>\n",
       "      <td>4896331812335761701</td>\n",
       "      <td>149852234418</td>\n",
       "      <td>c1607c993e41f2c3b42d72d1506bef7b</td>\n",
       "      <td>1644848624</td>\n",
       "      <td>gas_transport</td>\n",
       "      <td>47.58</td>\n",
       "      <td>0</td>\n",
       "      <td>Myers-Reed</td>\n",
       "      <td>39.119498</td>\n",
       "      <td>-90.760379</td>\n",
       "    </tr>\n",
       "    <tr>\n",
       "      <th>2</th>\n",
       "      <td>4896331812335761701</td>\n",
       "      <td>149852234418</td>\n",
       "      <td>6f530db25d20fe351249a54491fd3fde</td>\n",
       "      <td>1645632153</td>\n",
       "      <td>gas_transport</td>\n",
       "      <td>64.43</td>\n",
       "      <td>0</td>\n",
       "      <td>Baker-Bullock</td>\n",
       "      <td>39.384368</td>\n",
       "      <td>-90.361517</td>\n",
       "    </tr>\n",
       "    <tr>\n",
       "      <th>3</th>\n",
       "      <td>4896331812335761701</td>\n",
       "      <td>149852234418</td>\n",
       "      <td>6d11805f2acd938fec99376001afafe8</td>\n",
       "      <td>1645311286</td>\n",
       "      <td>gas_transport</td>\n",
       "      <td>82.47</td>\n",
       "      <td>0</td>\n",
       "      <td>Spencer-Hall</td>\n",
       "      <td>39.443567</td>\n",
       "      <td>-89.752400</td>\n",
       "    </tr>\n",
       "    <tr>\n",
       "      <th>4</th>\n",
       "      <td>4896331812335761701</td>\n",
       "      <td>149852234418</td>\n",
       "      <td>605342f297c575cb1ccf2c08cad082ee</td>\n",
       "      <td>1641571926</td>\n",
       "      <td>gas_transport</td>\n",
       "      <td>50.28</td>\n",
       "      <td>0</td>\n",
       "      <td>King, Rodriguez and Hancock</td>\n",
       "      <td>38.857278</td>\n",
       "      <td>-89.609525</td>\n",
       "    </tr>\n",
       "  </tbody>\n",
       "</table>\n",
       "</div>"
      ],
      "text/plain": [
       "                cc_num      acct_num                         trans_num  \\\n",
       "0  4896331812335761701  149852234418  f3ec0819590302134f03ffdc2f44697f   \n",
       "1  4896331812335761701  149852234418  c1607c993e41f2c3b42d72d1506bef7b   \n",
       "2  4896331812335761701  149852234418  6f530db25d20fe351249a54491fd3fde   \n",
       "3  4896331812335761701  149852234418  6d11805f2acd938fec99376001afafe8   \n",
       "4  4896331812335761701  149852234418  605342f297c575cb1ccf2c08cad082ee   \n",
       "\n",
       "    unix_time       category    amt is_fraud                     merchant  \\\n",
       "0  1646060228  gas_transport  65.17        0       Larson, Ryan and Huang   \n",
       "1  1644848624  gas_transport  47.58        0                   Myers-Reed   \n",
       "2  1645632153  gas_transport  64.43        0                Baker-Bullock   \n",
       "3  1645311286  gas_transport  82.47        0                 Spencer-Hall   \n",
       "4  1641571926  gas_transport  50.28        0  King, Rodriguez and Hancock   \n",
       "\n",
       "   merch_lat  merch_long  \n",
       "0  38.143430  -90.327335  \n",
       "1  39.119498  -90.760379  \n",
       "2  39.384368  -90.361517  \n",
       "3  39.443567  -89.752400  \n",
       "4  38.857278  -89.609525  "
      ]
     },
     "execution_count": 6,
     "metadata": {},
     "output_type": "execute_result"
    }
   ],
   "source": [
    "transaction_df.head()"
   ]
  },
  {
   "cell_type": "code",
   "execution_count": 7,
   "metadata": {},
   "outputs": [
    {
     "data": {
      "text/plain": [
       "(4260904, 10)"
      ]
     },
     "execution_count": 7,
     "metadata": {},
     "output_type": "execute_result"
    }
   ],
   "source": [
    "transaction_df.shape"
   ]
  },
  {
   "cell_type": "code",
   "execution_count": 8,
   "metadata": {},
   "outputs": [],
   "source": [
    "df = customer_df.merge(transaction_df, on=['cc_num', 'acct_num'])"
   ]
  },
  {
   "cell_type": "code",
   "execution_count": 9,
   "metadata": {},
   "outputs": [
    {
     "data": {
      "text/plain": [
       "(4260904, 23)"
      ]
     },
     "execution_count": 9,
     "metadata": {},
     "output_type": "execute_result"
    }
   ],
   "source": [
    "df.shape"
   ]
  },
  {
   "cell_type": "code",
   "execution_count": 10,
   "metadata": {},
   "outputs": [
    {
     "data": {
      "text/plain": [
       "ssn           0\n",
       "cc_num        0\n",
       "first         0\n",
       "last          0\n",
       "gender        0\n",
       "street        0\n",
       "city          0\n",
       "state         0\n",
       "zip           0\n",
       "lat           0\n",
       "long          0\n",
       "city_pop      0\n",
       "job           0\n",
       "dob           0\n",
       "acct_num      0\n",
       "trans_num     0\n",
       "unix_time     0\n",
       "category      0\n",
       "amt           0\n",
       "is_fraud      0\n",
       "merchant      0\n",
       "merch_lat     0\n",
       "merch_long    0\n",
       "dtype: int64"
      ]
     },
     "execution_count": 10,
     "metadata": {},
     "output_type": "execute_result"
    }
   ],
   "source": [
    "df.isna().sum()"
   ]
  },
  {
   "cell_type": "code",
   "execution_count": 11,
   "metadata": {},
   "outputs": [
    {
     "data": {
      "text/plain": [
       "0"
      ]
     },
     "execution_count": 11,
     "metadata": {},
     "output_type": "execute_result"
    }
   ],
   "source": [
    "df.duplicated().sum()"
   ]
  },
  {
   "cell_type": "code",
   "execution_count": 12,
   "metadata": {},
   "outputs": [
    {
     "name": "stdout",
     "output_type": "stream",
     "text": [
      "<class 'pandas.core.frame.DataFrame'>\n",
      "Int64Index: 4260904 entries, 0 to 4260903\n",
      "Data columns (total 23 columns):\n",
      " #   Column      Dtype  \n",
      "---  ------      -----  \n",
      " 0   ssn         object \n",
      " 1   cc_num      object \n",
      " 2   first       object \n",
      " 3   last        object \n",
      " 4   gender      object \n",
      " 5   street      object \n",
      " 6   city        object \n",
      " 7   state       object \n",
      " 8   zip         int64  \n",
      " 9   lat         float64\n",
      " 10  long        float64\n",
      " 11  city_pop    int64  \n",
      " 12  job         object \n",
      " 13  dob         object \n",
      " 14  acct_num    object \n",
      " 15  trans_num   object \n",
      " 16  unix_time   object \n",
      " 17  category    object \n",
      " 18  amt         float64\n",
      " 19  is_fraud    object \n",
      " 20  merchant    object \n",
      " 21  merch_lat   float64\n",
      " 22  merch_long  float64\n",
      "dtypes: float64(5), int64(2), object(16)\n",
      "memory usage: 780.2+ MB\n"
     ]
    }
   ],
   "source": [
    "df.info()"
   ]
  },
  {
   "cell_type": "code",
   "execution_count": 13,
   "metadata": {},
   "outputs": [
    {
     "data": {
      "text/plain": [
       "0    0.998819\n",
       "1    0.001181\n",
       "Name: is_fraud, dtype: float64"
      ]
     },
     "execution_count": 13,
     "metadata": {},
     "output_type": "execute_result"
    }
   ],
   "source": [
    "df['is_fraud'].value_counts(normalize=True)"
   ]
  }
 ],
 "metadata": {
  "kernelspec": {
   "display_name": "Python 3",
   "language": "python",
   "name": "python3"
  },
  "language_info": {
   "codemirror_mode": {
    "name": "ipython",
    "version": 3
   },
   "file_extension": ".py",
   "mimetype": "text/x-python",
   "name": "python",
   "nbconvert_exporter": "python",
   "pygments_lexer": "ipython3",
   "version": "3.10.8"
  },
  "orig_nbformat": 4
 },
 "nbformat": 4,
 "nbformat_minor": 2
}
